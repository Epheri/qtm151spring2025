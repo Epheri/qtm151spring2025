{
 "cells": [
  {
   "attachments": {},
   "cell_type": "markdown",
   "metadata": {},
   "source": [
    "# <span style=\"color:darkblue\"> QTM 151 - Quiz 3 </span>"
   ]
  },
  {
   "attachments": {},
   "cell_type": "markdown",
   "metadata": {},
   "source": [
    "## Try to submit as an HTML file"
   ]
  },
  {
   "attachments": {},
   "cell_type": "markdown",
   "metadata": {},
   "source": [
    "<font size=\"5\"> \n",
    "\n",
    "Print your name below"
   ]
  },
  {
   "cell_type": "code",
   "execution_count": 1,
   "metadata": {},
   "outputs": [
    {
     "name": "stdout",
     "output_type": "stream",
     "text": [
      "Malia Yap\n"
     ]
    }
   ],
   "source": [
    "# Write your answer here\n",
    "print(\"Malia Yap\")"
   ]
  },
  {
   "attachments": {},
   "cell_type": "markdown",
   "metadata": {},
   "source": [
    "<font size = \"5\" >\n",
    "This quiz is open book \n",
    "\n",
    "- You can use the lecture notes\n",
    "- You will get partial credit for attempting the questions\n",
    "- To get full credit, the code should run as intended\n",
    "- You should <span style=\"color:red\"> NOT </span> communicate with other students\n",
    "\n",
    "Print the following message: <br>\n",
    "\n",
    "\"I will abide by Emory's code of conduct\"\n"
   ]
  },
  {
   "cell_type": "code",
   "execution_count": null,
   "metadata": {},
   "outputs": [],
   "source": [
    "# Write your answer here:\n",
    "\n",
    "print(\"I will abide by Emory's code of conduct\")\n"
   ]
  },
  {
   "attachments": {},
   "cell_type": "markdown",
   "metadata": {},
   "source": [
    "<font size = \"5\">\n",
    "\n",
    "Import the libraries \"numpy\" and \"pandas\""
   ]
  },
  {
   "cell_type": "code",
   "execution_count": 2,
   "metadata": {},
   "outputs": [],
   "source": [
    "# Write your answer here\n",
    "\n",
    "import numpy as np\n",
    "import pandas as pd\n"
   ]
  },
  {
   "cell_type": "markdown",
   "metadata": {},
   "source": [
    "\n",
    "<font size = \"5\">\n",
    "\n",
    "(a) Replace the values of a column\n",
    "\n",
    "<font size = \"3\">\n",
    "\n",
    "- Import the \"data_raw/constructors.csv\" file\n",
    "- Replace the values \"British\", \"Japanese\", and \"Irish\" with <br>\n",
    "\"UK\", \"Japan\", \"Ireland\" in the column \"nationality\"\n",
    "\n",
    "\n",
    "HINT: See the example in Lecture 12"
   ]
  },
  {
   "cell_type": "code",
   "execution_count": 9,
   "metadata": {},
   "outputs": [],
   "source": [
    "# Write your own code\n",
    "\n",
    "constructors = pd.read_csv(\"/Users/maliayap/Desktop/qtm151spring2025/Quiz3/data_raw/constructors.csv\")\n",
    "\n",
    "names_old = ([\"British\",\"Japanese\",\"Irish\"])\n",
    "names_new = ([\"UK\",\"Japan\",\"Ireland\"])\n",
    "\n",
    "constructors[\"nationality\"] = constructors[\"nationality\"].replace(names_old,names_new)\n"
   ]
  },
  {
   "attachments": {},
   "cell_type": "markdown",
   "metadata": {},
   "source": [
    "<font size = \"5\">\n",
    "\n",
    "(b) Aggregate and query\n",
    "\n",
    "<font size = \"3\">\n",
    "\n",
    "- Import the \"data_raw/sprint_results.csv\" file\n",
    "- Subset the observations for 'constructorId == 3' using ```.query()```\n",
    "- Obtain the maximum of \"laps\" by \"driverId\" <br> \n",
    " using ``` .groupby().agg() ```\n",
    "- Subset the drivers with a maximum of laps $\\ge 10$\n",
    "- Store the results of all these operations in a dataframe <br>\n",
    "```sprint_results_agg ```"
   ]
  },
  {
   "cell_type": "code",
   "execution_count": 48,
   "metadata": {},
   "outputs": [
    {
     "name": "stdout",
     "output_type": "stream",
     "text": [
      "          max_laps\n",
      "driverId          \n",
      "847             24\n",
      "848             23\n",
      "849             24\n"
     ]
    }
   ],
   "source": [
    "# Write your own code\n",
    "\n",
    "sprint_results = pd.read_csv(\"/Users/maliayap/Desktop/qtm151spring2025/Quiz3/data_raw/sprint_results.csv\")\n",
    "\n",
    "sprint_results_agg = (sprint_results.query(\"constructorId == 3\")\n",
    "            .groupby(\"driverId\")\n",
    "            .agg(max_laps = ('laps','max'))\n",
    "            .query(\"max_laps >=10\"))\n",
    "\n",
    "print(sprint_results_agg)\n"
   ]
  },
  {
   "attachments": {},
   "cell_type": "markdown",
   "metadata": {},
   "source": [
    "<font size = \"5\">\n",
    "\n",
    "(c) Recode a numeric colum\n",
    "\n",
    "<font size = \"3\">\n",
    "\n",
    "- Import the \"data_raw/races.csv\" file\n",
    "- Recode the \"year\" column into a new column \"year_brackets\" <br>\n",
    "with the following categories\n",
    "\n",
    "$\\qquad$ ``` [\"1950-1965\",\"1966-1980\",\"1980-onwards\"] ```\n",
    "\n",
    "$\\qquad$ HINT: Use the \"pd.cut()\" command."
   ]
  },
  {
   "cell_type": "code",
   "execution_count": 25,
   "metadata": {},
   "outputs": [],
   "source": [
    "# Write your own code\n",
    "\n",
    "races = pd.read_csv(\"/Users/maliayap/Desktop/qtm151spring2025/Quiz3/data_raw/races.csv\")\n",
    "\n",
    "bins_x = [1950,1966,1980,2025]\n",
    "labels_x = [\"1950-1965\",\"1966-1980\",\"1980-onwards\"]\n",
    "\n",
    "races[\"year\"] = pd.cut(races[\"year\"],\n",
    "                              bins = bins_x,\n",
    "                              right = True,\n",
    "                              labels = labels_x)\n"
   ]
  },
  {
   "attachments": {},
   "cell_type": "markdown",
   "metadata": {},
   "source": [
    "<font size = \"5\">\n",
    "\n",
    "(d) Aggregate and sort\n",
    "\n",
    "<font size = \"3\">\n",
    "\n",
    "- Import the \"data_raw/sprint_results.csv\" file\n",
    "- Obtain the maximum of \"laps\" by \"driverId\" <br> \n",
    "using ``` .groupby().agg() ```\n",
    "- Sort the teams in descending order using of <br>\n",
    "the maximum of laps using ``` .sort_values() ```"
   ]
  },
  {
   "cell_type": "code",
   "execution_count": 26,
   "metadata": {},
   "outputs": [
    {
     "data": {
      "application/vnd.microsoft.datawrangler.viewer.v0+json": {
       "columns": [
        {
         "name": "driverId",
         "rawType": "int64",
         "type": "integer"
        },
        {
         "name": "max_laps",
         "rawType": "int64",
         "type": "integer"
        }
       ],
       "conversionMethod": "pd.DataFrame",
       "ref": "530889ec-7ef8-4d5b-8efd-712d88640f9b",
       "rows": [
        [
         "1",
         "24"
        ],
        [
         "4",
         "24"
        ],
        [
         "854",
         "24"
        ],
        [
         "853",
         "24"
        ],
        [
         "852",
         "24"
        ],
        [
         "849",
         "24"
        ],
        [
         "847",
         "24"
        ],
        [
         "846",
         "24"
        ],
        [
         "844",
         "24"
        ],
        [
         "842",
         "24"
        ],
        [
         "841",
         "24"
        ],
        [
         "840",
         "24"
        ],
        [
         "839",
         "24"
        ],
        [
         "832",
         "24"
        ],
        [
         "830",
         "24"
        ],
        [
         "825",
         "24"
        ],
        [
         "822",
         "24"
        ],
        [
         "817",
         "24"
        ],
        [
         "815",
         "24"
        ],
        [
         "20",
         "24"
        ],
        [
         "8",
         "24"
        ],
        [
         "855",
         "24"
        ],
        [
         "848",
         "23"
        ],
        [
         "9",
         "18"
        ]
       ],
       "shape": {
        "columns": 1,
        "rows": 24
       }
      },
      "text/html": [
       "<div>\n",
       "<style scoped>\n",
       "    .dataframe tbody tr th:only-of-type {\n",
       "        vertical-align: middle;\n",
       "    }\n",
       "\n",
       "    .dataframe tbody tr th {\n",
       "        vertical-align: top;\n",
       "    }\n",
       "\n",
       "    .dataframe thead th {\n",
       "        text-align: right;\n",
       "    }\n",
       "</style>\n",
       "<table border=\"1\" class=\"dataframe\">\n",
       "  <thead>\n",
       "    <tr style=\"text-align: right;\">\n",
       "      <th></th>\n",
       "      <th>max_laps</th>\n",
       "    </tr>\n",
       "    <tr>\n",
       "      <th>driverId</th>\n",
       "      <th></th>\n",
       "    </tr>\n",
       "  </thead>\n",
       "  <tbody>\n",
       "    <tr>\n",
       "      <th>1</th>\n",
       "      <td>24</td>\n",
       "    </tr>\n",
       "    <tr>\n",
       "      <th>4</th>\n",
       "      <td>24</td>\n",
       "    </tr>\n",
       "    <tr>\n",
       "      <th>854</th>\n",
       "      <td>24</td>\n",
       "    </tr>\n",
       "    <tr>\n",
       "      <th>853</th>\n",
       "      <td>24</td>\n",
       "    </tr>\n",
       "    <tr>\n",
       "      <th>852</th>\n",
       "      <td>24</td>\n",
       "    </tr>\n",
       "    <tr>\n",
       "      <th>849</th>\n",
       "      <td>24</td>\n",
       "    </tr>\n",
       "    <tr>\n",
       "      <th>847</th>\n",
       "      <td>24</td>\n",
       "    </tr>\n",
       "    <tr>\n",
       "      <th>846</th>\n",
       "      <td>24</td>\n",
       "    </tr>\n",
       "    <tr>\n",
       "      <th>844</th>\n",
       "      <td>24</td>\n",
       "    </tr>\n",
       "    <tr>\n",
       "      <th>842</th>\n",
       "      <td>24</td>\n",
       "    </tr>\n",
       "    <tr>\n",
       "      <th>841</th>\n",
       "      <td>24</td>\n",
       "    </tr>\n",
       "    <tr>\n",
       "      <th>840</th>\n",
       "      <td>24</td>\n",
       "    </tr>\n",
       "    <tr>\n",
       "      <th>839</th>\n",
       "      <td>24</td>\n",
       "    </tr>\n",
       "    <tr>\n",
       "      <th>832</th>\n",
       "      <td>24</td>\n",
       "    </tr>\n",
       "    <tr>\n",
       "      <th>830</th>\n",
       "      <td>24</td>\n",
       "    </tr>\n",
       "    <tr>\n",
       "      <th>825</th>\n",
       "      <td>24</td>\n",
       "    </tr>\n",
       "    <tr>\n",
       "      <th>822</th>\n",
       "      <td>24</td>\n",
       "    </tr>\n",
       "    <tr>\n",
       "      <th>817</th>\n",
       "      <td>24</td>\n",
       "    </tr>\n",
       "    <tr>\n",
       "      <th>815</th>\n",
       "      <td>24</td>\n",
       "    </tr>\n",
       "    <tr>\n",
       "      <th>20</th>\n",
       "      <td>24</td>\n",
       "    </tr>\n",
       "    <tr>\n",
       "      <th>8</th>\n",
       "      <td>24</td>\n",
       "    </tr>\n",
       "    <tr>\n",
       "      <th>855</th>\n",
       "      <td>24</td>\n",
       "    </tr>\n",
       "    <tr>\n",
       "      <th>848</th>\n",
       "      <td>23</td>\n",
       "    </tr>\n",
       "    <tr>\n",
       "      <th>9</th>\n",
       "      <td>18</td>\n",
       "    </tr>\n",
       "  </tbody>\n",
       "</table>\n",
       "</div>"
      ],
      "text/plain": [
       "          max_laps\n",
       "driverId          \n",
       "1               24\n",
       "4               24\n",
       "854             24\n",
       "853             24\n",
       "852             24\n",
       "849             24\n",
       "847             24\n",
       "846             24\n",
       "844             24\n",
       "842             24\n",
       "841             24\n",
       "840             24\n",
       "839             24\n",
       "832             24\n",
       "830             24\n",
       "825             24\n",
       "822             24\n",
       "817             24\n",
       "815             24\n",
       "20              24\n",
       "8               24\n",
       "855             24\n",
       "848             23\n",
       "9               18"
      ]
     },
     "execution_count": 26,
     "metadata": {},
     "output_type": "execute_result"
    }
   ],
   "source": [
    "# Write your own code\n",
    "\n",
    "(sprint_results\n",
    "    .groupby(\"driverId\")\n",
    "    .agg(max_laps = ('laps','max'))\n",
    "    .sort_values(by = \"max_laps\", ascending = False))"
   ]
  },
  {
   "attachments": {},
   "cell_type": "markdown",
   "metadata": {},
   "source": [
    "<font size = \"5\">\n",
    "\n",
    "(e) Rename column\n",
    "\n",
    "<font size = \"3\">\n",
    "\n",
    "- Import the \"data_raw/sprint_results.csv\" file\n",
    "- Rename the column \"time\" to \"time_unformatted\"\n",
    "\n",
    "HINT: Create a dictionary and use ```.rename(columns = ...)``` <br>\n",
    "See Lecture 15"
   ]
  },
  {
   "cell_type": "code",
   "execution_count": 28,
   "metadata": {},
   "outputs": [],
   "source": [
    "# Write your own code\n",
    "\n",
    "sprint_results = sprint_results.rename(columns={'time':'time_unformatted'})\n"
   ]
  },
  {
   "attachments": {},
   "cell_type": "markdown",
   "metadata": {},
   "source": [
    "<font size = \"5\">\n",
    "\n",
    "(f) Merge dataset\n",
    "\n",
    "<font size = \"3\">\n",
    "\n",
    "- Import the \"data_raw/sprint_results.csv\" and <br>\n",
    "\"data_raw/constructors.csv\" files\n",
    "- Create a new dataset with  ```pd.merge()``` using <br>\n",
    "\"sprint_results\" as the primary dataset, and <br>\n",
    "\"constructors\" as the secondary dataset, merging on <br>\n",
    "the column \"constructorId\"\n",
    "- To get full points **ONLY** merge the \"nationality\" column <br>\n",
    "from the secondary dataset (not all the columns)\n",
    "\n",
    "HINT: Use ```[[...]]``` to extract a subset of columns <br>\n",
    "from the secondary dataset before merging, including the <br>\n",
    "\"constructorId\" column"
   ]
  },
  {
   "cell_type": "code",
   "execution_count": null,
   "metadata": {},
   "outputs": [
    {
     "data": {
      "application/vnd.microsoft.datawrangler.viewer.v0+json": {
       "columns": [
        {
         "name": "index",
         "rawType": "int64",
         "type": "integer"
        },
        {
         "name": "constructorId",
         "rawType": "int64",
         "type": "integer"
        },
        {
         "name": "nationality",
         "rawType": "object",
         "type": "string"
        }
       ],
       "conversionMethod": "pd.DataFrame",
       "ref": "8cef08cf-96b2-4f9b-bf3d-caa21625718b",
       "rows": [
        [
         "0",
         "9",
         "Austrian"
        ],
        [
         "1",
         "131",
         "German"
        ],
        [
         "2",
         "131",
         "German"
        ],
        [
         "3",
         "6",
         "Italian"
        ],
        [
         "4",
         "1",
         "UK"
        ],
        [
         "5",
         "1",
         "UK"
        ],
        [
         "6",
         "214",
         "French"
        ],
        [
         "7",
         "117",
         "UK"
        ],
        [
         "8",
         "3",
         "UK"
        ],
        [
         "9",
         "214",
         "French"
        ],
        [
         "10",
         "6",
         "Italian"
        ],
        [
         "11",
         "213",
         "Italian"
        ],
        [
         "12",
         "51",
         "Swiss"
        ],
        [
         "13",
         "117",
         "UK"
        ],
        [
         "14",
         "51",
         "Swiss"
        ],
        [
         "15",
         "213",
         "Italian"
        ],
        [
         "16",
         "3",
         "UK"
        ],
        [
         "17",
         "210",
         "American"
        ],
        [
         "18",
         "210",
         "American"
        ],
        [
         "19",
         "9",
         "Austrian"
        ],
        [
         "20",
         "131",
         "German"
        ],
        [
         "21",
         "9",
         "Austrian"
        ],
        [
         "22",
         "1",
         "UK"
        ],
        [
         "23",
         "1",
         "UK"
        ],
        [
         "24",
         "131",
         "German"
        ],
        [
         "25",
         "6",
         "Italian"
        ],
        [
         "26",
         "6",
         "Italian"
        ],
        [
         "27",
         "51",
         "Swiss"
        ],
        [
         "28",
         "9",
         "Austrian"
        ],
        [
         "29",
         "117",
         "UK"
        ],
        [
         "30",
         "214",
         "French"
        ],
        [
         "31",
         "117",
         "UK"
        ],
        [
         "32",
         "214",
         "French"
        ],
        [
         "33",
         "3",
         "UK"
        ],
        [
         "34",
         "3",
         "UK"
        ],
        [
         "35",
         "213",
         "Italian"
        ],
        [
         "36",
         "210",
         "American"
        ],
        [
         "37",
         "51",
         "Swiss"
        ],
        [
         "38",
         "210",
         "American"
        ],
        [
         "39",
         "213",
         "Italian"
        ],
        [
         "40",
         "131",
         "German"
        ],
        [
         "41",
         "9",
         "Austrian"
        ],
        [
         "42",
         "6",
         "Italian"
        ],
        [
         "43",
         "9",
         "Austrian"
        ],
        [
         "44",
         "131",
         "German"
        ],
        [
         "45",
         "1",
         "UK"
        ],
        [
         "46",
         "6",
         "Italian"
        ],
        [
         "47",
         "213",
         "Italian"
        ],
        [
         "48",
         "214",
         "French"
        ],
        [
         "49",
         "117",
         "UK"
        ]
       ],
       "shape": {
        "columns": 2,
        "rows": 120
       }
      },
      "text/html": [
       "<div>\n",
       "<style scoped>\n",
       "    .dataframe tbody tr th:only-of-type {\n",
       "        vertical-align: middle;\n",
       "    }\n",
       "\n",
       "    .dataframe tbody tr th {\n",
       "        vertical-align: top;\n",
       "    }\n",
       "\n",
       "    .dataframe thead th {\n",
       "        text-align: right;\n",
       "    }\n",
       "</style>\n",
       "<table border=\"1\" class=\"dataframe\">\n",
       "  <thead>\n",
       "    <tr style=\"text-align: right;\">\n",
       "      <th></th>\n",
       "      <th>constructorId</th>\n",
       "      <th>nationality</th>\n",
       "    </tr>\n",
       "  </thead>\n",
       "  <tbody>\n",
       "    <tr>\n",
       "      <th>0</th>\n",
       "      <td>9</td>\n",
       "      <td>Austrian</td>\n",
       "    </tr>\n",
       "    <tr>\n",
       "      <th>1</th>\n",
       "      <td>131</td>\n",
       "      <td>German</td>\n",
       "    </tr>\n",
       "    <tr>\n",
       "      <th>2</th>\n",
       "      <td>131</td>\n",
       "      <td>German</td>\n",
       "    </tr>\n",
       "    <tr>\n",
       "      <th>3</th>\n",
       "      <td>6</td>\n",
       "      <td>Italian</td>\n",
       "    </tr>\n",
       "    <tr>\n",
       "      <th>4</th>\n",
       "      <td>1</td>\n",
       "      <td>UK</td>\n",
       "    </tr>\n",
       "    <tr>\n",
       "      <th>...</th>\n",
       "      <td>...</td>\n",
       "      <td>...</td>\n",
       "    </tr>\n",
       "    <tr>\n",
       "      <th>115</th>\n",
       "      <td>117</td>\n",
       "      <td>UK</td>\n",
       "    </tr>\n",
       "    <tr>\n",
       "      <th>116</th>\n",
       "      <td>214</td>\n",
       "      <td>French</td>\n",
       "    </tr>\n",
       "    <tr>\n",
       "      <th>117</th>\n",
       "      <td>214</td>\n",
       "      <td>French</td>\n",
       "    </tr>\n",
       "    <tr>\n",
       "      <th>118</th>\n",
       "      <td>3</td>\n",
       "      <td>UK</td>\n",
       "    </tr>\n",
       "    <tr>\n",
       "      <th>119</th>\n",
       "      <td>3</td>\n",
       "      <td>UK</td>\n",
       "    </tr>\n",
       "  </tbody>\n",
       "</table>\n",
       "<p>120 rows × 2 columns</p>\n",
       "</div>"
      ],
      "text/plain": [
       "     constructorId nationality\n",
       "0                9    Austrian\n",
       "1              131      German\n",
       "2              131      German\n",
       "3                6     Italian\n",
       "4                1          UK\n",
       "..             ...         ...\n",
       "115            117          UK\n",
       "116            214      French\n",
       "117            214      French\n",
       "118              3          UK\n",
       "119              3          UK\n",
       "\n",
       "[120 rows x 2 columns]"
      ]
     },
     "execution_count": 35,
     "metadata": {},
     "output_type": "execute_result"
    }
   ],
   "source": [
    "# Write your own code\n",
    "\n",
    "\n",
    "merged_dataset = pd.merge(sprint_results[\"constructorId\"],\n",
    "                               constructors[[\"constructorId\",\"nationality\"]],\n",
    "                               on = \"constructorId\",\n",
    "                               how = \"left\")\n",
    "\n"
   ]
  }
 ],
 "metadata": {
  "kernelspec": {
   "display_name": "base",
   "language": "python",
   "name": "python3"
  },
  "language_info": {
   "codemirror_mode": {
    "name": "ipython",
    "version": 3
   },
   "file_extension": ".py",
   "mimetype": "text/x-python",
   "name": "python",
   "nbconvert_exporter": "python",
   "pygments_lexer": "ipython3",
   "version": "3.12.7"
  },
  "orig_nbformat": 4,
  "vscode": {
   "interpreter": {
    "hash": "45fc1f684f6f416f40889115beff3ddf69879b64cf4bfee48cb72a61e9d15d1a"
   }
  }
 },
 "nbformat": 4,
 "nbformat_minor": 2
}
