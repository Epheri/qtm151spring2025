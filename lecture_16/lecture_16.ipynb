{
 "cells": [
  {
   "attachments": {},
   "cell_type": "markdown",
   "metadata": {},
   "source": [
    "# <span style=\"color:darkblue\"> Lecture 16 - Time Data </span>\n",
    "\n",
    "<font size = \"5\">\n",
    "\n",
    "In  the last lecture we ...\n",
    "- Completed the module on SQL\n",
    "- Learned about escape characters\n",
    "\n",
    "\n",
    "In  this lecture we will ...\n",
    "\n",
    "- Process time data in Python\n",
    "- Learn about wildcards"
   ]
  },
  {
   "attachments": {},
   "cell_type": "markdown",
   "metadata": {},
   "source": [
    "# <span style=\"color:darkblue\"> I. Import Libraries and Data </span>"
   ]
  },
  {
   "cell_type": "markdown",
   "metadata": {},
   "source": [
    "<font size = \"5\">\n",
    "\n",
    "Import libraries"
   ]
  },
  {
   "cell_type": "code",
   "execution_count": 1,
   "metadata": {},
   "outputs": [
    {
     "name": "stdout",
     "output_type": "stream",
     "text": [
      "Intel MKL WARNING: Support of Intel(R) Streaming SIMD Extensions 4.2 (Intel(R) SSE4.2) enabled only processors has been deprecated. Intel oneAPI Math Kernel Library 2025.0 will require Intel(R) Advanced Vector Extensions (Intel(R) AVX) instructions.\n",
      "Intel MKL WARNING: Support of Intel(R) Streaming SIMD Extensions 4.2 (Intel(R) SSE4.2) enabled only processors has been deprecated. Intel oneAPI Math Kernel Library 2025.0 will require Intel(R) Advanced Vector Extensions (Intel(R) AVX) instructions.\n"
     ]
    }
   ],
   "source": [
    "# \"pandas\" processes datasets\n",
    "# \"maplotlib.pyplot\" generates graphs\n",
    "# \"maplotlib.dates\" has advanced options for plotting dates\n",
    "# \"datetime\" handles date information\n",
    "\n",
    "import pandas as pd\n",
    "import matplotlib.pyplot as plt\n",
    "import matplotlib.dates as mdates\n",
    "from datetime import date, time, datetime"
   ]
  },
  {
   "attachments": {},
   "cell_type": "markdown",
   "metadata": {},
   "source": [
    "<font size = \"5\">\n",
    "\n",
    "Import data"
   ]
  },
  {
   "cell_type": "code",
   "execution_count": 2,
   "metadata": {},
   "outputs": [],
   "source": [
    "financial = pd.read_csv(\"data_raw/financial.csv\")"
   ]
  },
  {
   "attachments": {},
   "cell_type": "markdown",
   "metadata": {},
   "source": [
    "<font size = \"5\">\n",
    "\n",
    "\"Parse\" time columns"
   ]
  },
  {
   "cell_type": "code",
<<<<<<< HEAD
   "execution_count": 34,
=======
   "execution_count": 3,
>>>>>>> upstream/main
   "metadata": {},
   "outputs": [],
   "source": [
    "# Convert string column to datetime format\n",
    "# If the date format is simple, you can also parse on input as\n",
    "# financial = pd.read_csv(\"data_raw/financial.csv\",parse_dates = [\"date\"]\n",
    "# See advanced options for parsing further in the lecture...\n",
    "\n",
    "financial[\"date\"] = pd.to_datetime(financial[\"date_str\"])"
   ]
  },
  {
   "attachments": {},
   "cell_type": "markdown",
   "metadata": {},
   "source": [
    "<font size = \"5\">\n",
    "\n",
    "Check Types"
   ]
  },
  {
   "cell_type": "code",
   "execution_count": 4,
   "metadata": {},
   "outputs": [
    {
     "data": {
      "text/plain": [
       "date_str            object\n",
       "sp500              float64\n",
       "djia               float64\n",
       "date_ex1            object\n",
       "date_ex2            object\n",
       "date_ex3            object\n",
       "date        datetime64[ns]\n",
       "dtype: object"
      ]
     },
     "execution_count": 4,
     "metadata": {},
     "output_type": "execute_result"
    }
   ],
   "source": [
    "# Standard data types are \"int\", \"str\", \"float\", and \"bool\"\n",
    "# There is also a \"datetime\" types\n",
    "\n",
    "financial.dtypes"
   ]
  },
  {
   "attachments": {},
   "cell_type": "markdown",
   "metadata": {},
   "source": [
    "<font size = \"5\">\n",
    "\n",
    "Visualize time data"
   ]
  },
  {
   "cell_type": "code",
   "execution_count": 5,
   "metadata": {},
   "outputs": [
    {
     "data": {
      "text/plain": [
       "Timestamp('2018-04-04 00:00:00')"
      ]
     },
     "execution_count": 5,
     "metadata": {},
     "output_type": "execute_result"
    }
   ],
   "source": [
    "financial['date'][0]"
   ]
  },
  {
   "cell_type": "code",
   "execution_count": 6,
   "metadata": {},
   "outputs": [
    {
     "data": {
      "application/vnd.microsoft.datawrangler.viewer.v0+json": {
       "columns": [
        {
         "name": "index",
         "rawType": "int64",
         "type": "integer"
        },
        {
         "name": "date_str",
         "rawType": "object",
         "type": "string"
        },
        {
         "name": "sp500",
         "rawType": "float64",
         "type": "float"
        },
        {
         "name": "djia",
         "rawType": "float64",
         "type": "float"
        },
        {
         "name": "date_ex1",
         "rawType": "object",
         "type": "string"
        },
        {
         "name": "date_ex2",
         "rawType": "object",
         "type": "string"
        },
        {
         "name": "date_ex3",
         "rawType": "object",
         "type": "string"
        },
        {
         "name": "date",
         "rawType": "datetime64[ns]",
         "type": "datetime"
        }
       ],
       "conversionMethod": "pd.DataFrame",
<<<<<<< HEAD
       "ref": "e4184c06-6ec1-4ba7-9e0f-99b7c98ed375",
=======
       "ref": "c6d58ea6-8eb0-4a87-a136-3d2d5e25ccce",
>>>>>>> upstream/main
       "rows": [
        [
         "1304",
         "4/4/2023",
         "4100.6",
         "33402.38",
         "April 04 2023",
         "Tuesday, 2023-04-04",
         "4-Apr-23",
         "2023-04-04 00:00:00"
        ],
        [
         "1303",
         "4/3/2023",
         "4124.51",
         "33601.15",
         "April 03 2023",
         "Monday, 2023-04-03",
         "3-Apr-23",
         "2023-04-03 00:00:00"
        ],
        [
         "1302",
         "3/31/2023",
         "4109.31",
         "33274.15",
         "March 31 2023",
         "Friday, 2023-03-31",
         "31-Mar-23",
         "2023-03-31 00:00:00"
        ],
        [
         "1301",
         "3/30/2023",
         "4050.83",
         "32859.03",
         "March 30 2023",
         "Thursday, 2023-03-30",
         "30-Mar-23",
         "2023-03-30 00:00:00"
        ],
        [
         "1300",
         "3/29/2023",
         "4027.81",
         "32717.6",
         "March 29 2023",
         "Wednesday, 2023-03-29",
         "29-Mar-23",
         "2023-03-29 00:00:00"
        ],
        [
         "1299",
         "3/28/2023",
         "3971.27",
         "32394.25",
         "March 28 2023",
         "Tuesday, 2023-03-28",
         "28-Mar-23",
         "2023-03-28 00:00:00"
        ],
        [
         "1298",
         "3/27/2023",
         "3977.53",
         "32432.08",
         "March 27 2023",
         "Monday, 2023-03-27",
         "27-Mar-23",
         "2023-03-27 00:00:00"
        ],
        [
         "1297",
         "3/24/2023",
         "3970.99",
         "32237.53",
         "March 24 2023",
         "Friday, 2023-03-24",
         "24-Mar-23",
         "2023-03-24 00:00:00"
        ],
        [
         "1296",
         "3/23/2023",
         "3948.72",
         "32105.25",
         "March 23 2023",
         "Thursday, 2023-03-23",
         "23-Mar-23",
         "2023-03-23 00:00:00"
        ],
        [
         "1295",
         "3/22/2023",
         "3936.97",
         "32030.11",
         "March 22 2023",
         "Wednesday, 2023-03-22",
         "22-Mar-23",
         "2023-03-22 00:00:00"
        ],
        [
         "1294",
         "3/21/2023",
         "4002.87",
         "32560.6",
         "March 21 2023",
         "Tuesday, 2023-03-21",
         "21-Mar-23",
         "2023-03-21 00:00:00"
        ],
        [
         "1293",
         "3/20/2023",
         "3951.57",
         "32244.58",
         "March 20 2023",
         "Monday, 2023-03-20",
         "20-Mar-23",
         "2023-03-20 00:00:00"
        ],
        [
         "1292",
         "3/17/2023",
         "3916.64",
         "31861.98",
         "March 17 2023",
         "Friday, 2023-03-17",
         "17-Mar-23",
         "2023-03-17 00:00:00"
        ],
        [
         "1291",
         "3/16/2023",
         "3960.28",
         "32246.55",
         "March 16 2023",
         "Thursday, 2023-03-16",
         "16-Mar-23",
         "2023-03-16 00:00:00"
        ],
        [
         "1290",
         "3/15/2023",
         "3891.93",
         "31874.57",
         "March 15 2023",
         "Wednesday, 2023-03-15",
         "15-Mar-23",
         "2023-03-15 00:00:00"
        ],
        [
         "1289",
         "3/14/2023",
         "3919.29",
         "32155.4",
         "March 14 2023",
         "Tuesday, 2023-03-14",
         "14-Mar-23",
         "2023-03-14 00:00:00"
        ],
        [
         "1288",
         "3/13/2023",
         "3855.76",
         "31819.14",
         "March 13 2023",
         "Monday, 2023-03-13",
         "13-Mar-23",
         "2023-03-13 00:00:00"
        ],
        [
         "1287",
         "3/10/2023",
         "3861.59",
         "31909.64",
         "March 10 2023",
         "Friday, 2023-03-10",
         "10-Mar-23",
         "2023-03-10 00:00:00"
        ],
        [
         "1286",
         "3/9/2023",
         "3918.32",
         "32254.86",
         "March 09 2023",
         "Thursday, 2023-03-09",
         "9-Mar-23",
         "2023-03-09 00:00:00"
        ],
        [
         "1285",
         "3/8/2023",
         "3992.01",
         "32798.4",
         "March 08 2023",
         "Wednesday, 2023-03-08",
         "8-Mar-23",
         "2023-03-08 00:00:00"
        ],
        [
         "1284",
         "3/7/2023",
         "3986.37",
         "32856.46",
         "March 07 2023",
         "Tuesday, 2023-03-07",
         "7-Mar-23",
         "2023-03-07 00:00:00"
        ],
        [
         "1283",
         "3/6/2023",
         "4048.42",
         "33431.44",
         "March 06 2023",
         "Monday, 2023-03-06",
         "6-Mar-23",
         "2023-03-06 00:00:00"
        ],
        [
         "1282",
         "3/3/2023",
         "4045.64",
         "33390.97",
         "March 03 2023",
         "Friday, 2023-03-03",
         "3-Mar-23",
         "2023-03-03 00:00:00"
        ],
        [
         "1281",
         "3/2/2023",
         "3981.35",
         "33003.57",
         "March 02 2023",
         "Thursday, 2023-03-02",
         "2-Mar-23",
         "2023-03-02 00:00:00"
        ],
        [
         "1280",
         "3/1/2023",
         "3951.39",
         "32661.84",
         "March 01 2023",
         "Wednesday, 2023-03-01",
         "1-Mar-23",
         "2023-03-01 00:00:00"
        ],
        [
         "1279",
         "2/28/2023",
         "3970.15",
         "32656.7",
         "February 28 2023",
         "Tuesday, 2023-02-28",
         "28-Feb-23",
         "2023-02-28 00:00:00"
        ],
        [
         "1278",
         "2/27/2023",
         "3982.24",
         "32889.09",
         "February 27 2023",
         "Monday, 2023-02-27",
         "27-Feb-23",
         "2023-02-27 00:00:00"
        ],
        [
         "1277",
         "2/24/2023",
         "3970.04",
         "32816.92",
         "February 24 2023",
         "Friday, 2023-02-24",
         "24-Feb-23",
         "2023-02-24 00:00:00"
        ],
        [
         "1276",
         "2/23/2023",
         "4012.32",
         "33153.91",
         "February 23 2023",
         "Thursday, 2023-02-23",
         "23-Feb-23",
         "2023-02-23 00:00:00"
        ],
        [
         "1275",
         "2/22/2023",
         "3991.05",
         "33045.09",
         "February 22 2023",
         "Wednesday, 2023-02-22",
         "22-Feb-23",
         "2023-02-22 00:00:00"
        ],
        [
         "1274",
         "2/21/2023",
         "3997.34",
         "33129.59",
         "February 21 2023",
         "Tuesday, 2023-02-21",
         "21-Feb-23",
         "2023-02-21 00:00:00"
        ],
        [
         "1273",
         "2/20/2023",
         null,
         null,
         "February 20 2023",
         "Monday, 2023-02-20",
         "20-Feb-23",
         "2023-02-20 00:00:00"
        ],
        [
         "1272",
         "2/17/2023",
         "4079.09",
         "33826.69",
         "February 17 2023",
         "Friday, 2023-02-17",
         "17-Feb-23",
         "2023-02-17 00:00:00"
        ],
        [
         "1271",
         "2/16/2023",
         "4090.41",
         "33696.85",
         "February 16 2023",
         "Thursday, 2023-02-16",
         "16-Feb-23",
         "2023-02-16 00:00:00"
        ],
        [
         "1270",
         "2/15/2023",
         "4147.6",
         "34128.05",
         "February 15 2023",
         "Wednesday, 2023-02-15",
         "15-Feb-23",
         "2023-02-15 00:00:00"
        ],
        [
         "1269",
         "2/14/2023",
         "4136.13",
         "34089.27",
         "February 14 2023",
         "Tuesday, 2023-02-14",
         "14-Feb-23",
         "2023-02-14 00:00:00"
        ],
        [
         "1268",
         "2/13/2023",
         "4137.29",
         "34245.93",
         "February 13 2023",
         "Monday, 2023-02-13",
         "13-Feb-23",
         "2023-02-13 00:00:00"
        ],
        [
         "1267",
         "2/10/2023",
         "4090.46",
         "33869.27",
         "February 10 2023",
         "Friday, 2023-02-10",
         "10-Feb-23",
         "2023-02-10 00:00:00"
        ],
        [
         "1266",
         "2/9/2023",
         "4081.5",
         "33699.88",
         "February 09 2023",
         "Thursday, 2023-02-09",
         "9-Feb-23",
         "2023-02-09 00:00:00"
        ],
        [
         "1265",
         "2/8/2023",
         "4117.86",
         "33949.01",
         "February 08 2023",
         "Wednesday, 2023-02-08",
         "8-Feb-23",
         "2023-02-08 00:00:00"
        ],
        [
         "1264",
         "2/7/2023",
         "4164.0",
         "34156.69",
         "February 07 2023",
         "Tuesday, 2023-02-07",
         "7-Feb-23",
         "2023-02-07 00:00:00"
        ],
        [
         "1263",
         "2/6/2023",
         "4111.08",
         "33891.02",
         "February 06 2023",
         "Monday, 2023-02-06",
         "6-Feb-23",
         "2023-02-06 00:00:00"
        ],
        [
         "1262",
         "2/3/2023",
         "4136.48",
         "33926.01",
         "February 03 2023",
         "Friday, 2023-02-03",
         "3-Feb-23",
         "2023-02-03 00:00:00"
        ],
        [
         "1261",
         "2/2/2023",
         "4179.76",
         "34053.94",
         "February 02 2023",
         "Thursday, 2023-02-02",
         "2-Feb-23",
         "2023-02-02 00:00:00"
        ],
        [
         "1260",
         "2/1/2023",
         "4119.21",
         "34092.96",
         "February 01 2023",
         "Wednesday, 2023-02-01",
         "1-Feb-23",
         "2023-02-01 00:00:00"
        ],
        [
         "1259",
         "1/31/2023",
         "4076.6",
         "34086.04",
         "January 31 2023",
         "Tuesday, 2023-01-31",
         "31-Jan-23",
         "2023-01-31 00:00:00"
        ],
        [
         "1258",
         "1/30/2023",
         "4017.77",
         "33717.09",
         "January 30 2023",
         "Monday, 2023-01-30",
         "30-Jan-23",
         "2023-01-30 00:00:00"
        ],
        [
         "1257",
         "1/27/2023",
         "4070.56",
         "33978.08",
         "January 27 2023",
         "Friday, 2023-01-27",
         "27-Jan-23",
         "2023-01-27 00:00:00"
        ],
        [
         "1256",
         "1/26/2023",
         "4060.43",
         "33949.41",
         "January 26 2023",
         "Thursday, 2023-01-26",
         "26-Jan-23",
         "2023-01-26 00:00:00"
        ],
        [
         "1255",
         "1/25/2023",
         "4016.22",
         "33743.84",
         "January 25 2023",
         "Wednesday, 2023-01-25",
         "25-Jan-23",
         "2023-01-25 00:00:00"
        ]
       ],
       "shape": {
        "columns": 7,
        "rows": 1305
       }
      },
      "text/html": [
       "<div>\n",
       "<style scoped>\n",
       "    .dataframe tbody tr th:only-of-type {\n",
       "        vertical-align: middle;\n",
       "    }\n",
       "\n",
       "    .dataframe tbody tr th {\n",
       "        vertical-align: top;\n",
       "    }\n",
       "\n",
       "    .dataframe thead th {\n",
       "        text-align: right;\n",
       "    }\n",
       "</style>\n",
       "<table border=\"1\" class=\"dataframe\">\n",
       "  <thead>\n",
       "    <tr style=\"text-align: right;\">\n",
       "      <th></th>\n",
       "      <th>date_str</th>\n",
       "      <th>sp500</th>\n",
       "      <th>djia</th>\n",
       "      <th>date_ex1</th>\n",
       "      <th>date_ex2</th>\n",
       "      <th>date_ex3</th>\n",
       "      <th>date</th>\n",
       "    </tr>\n",
       "  </thead>\n",
       "  <tbody>\n",
       "    <tr>\n",
       "      <th>1304</th>\n",
       "      <td>4/4/2023</td>\n",
       "      <td>4100.60</td>\n",
       "      <td>33402.38</td>\n",
       "      <td>April 04 2023</td>\n",
       "      <td>Tuesday, 2023-04-04</td>\n",
       "      <td>4-Apr-23</td>\n",
       "      <td>2023-04-04</td>\n",
       "    </tr>\n",
       "    <tr>\n",
       "      <th>1303</th>\n",
       "      <td>4/3/2023</td>\n",
       "      <td>4124.51</td>\n",
       "      <td>33601.15</td>\n",
       "      <td>April 03 2023</td>\n",
       "      <td>Monday, 2023-04-03</td>\n",
       "      <td>3-Apr-23</td>\n",
       "      <td>2023-04-03</td>\n",
       "    </tr>\n",
       "    <tr>\n",
       "      <th>1302</th>\n",
       "      <td>3/31/2023</td>\n",
       "      <td>4109.31</td>\n",
       "      <td>33274.15</td>\n",
       "      <td>March 31 2023</td>\n",
       "      <td>Friday, 2023-03-31</td>\n",
       "      <td>31-Mar-23</td>\n",
       "      <td>2023-03-31</td>\n",
       "    </tr>\n",
       "    <tr>\n",
       "      <th>1301</th>\n",
       "      <td>3/30/2023</td>\n",
       "      <td>4050.83</td>\n",
       "      <td>32859.03</td>\n",
       "      <td>March 30 2023</td>\n",
       "      <td>Thursday, 2023-03-30</td>\n",
       "      <td>30-Mar-23</td>\n",
       "      <td>2023-03-30</td>\n",
       "    </tr>\n",
       "    <tr>\n",
       "      <th>1300</th>\n",
       "      <td>3/29/2023</td>\n",
       "      <td>4027.81</td>\n",
       "      <td>32717.60</td>\n",
       "      <td>March 29 2023</td>\n",
       "      <td>Wednesday, 2023-03-29</td>\n",
       "      <td>29-Mar-23</td>\n",
       "      <td>2023-03-29</td>\n",
       "    </tr>\n",
       "    <tr>\n",
       "      <th>...</th>\n",
       "      <td>...</td>\n",
       "      <td>...</td>\n",
       "      <td>...</td>\n",
       "      <td>...</td>\n",
       "      <td>...</td>\n",
       "      <td>...</td>\n",
       "      <td>...</td>\n",
       "    </tr>\n",
       "    <tr>\n",
       "      <th>4</th>\n",
       "      <td>4/10/2018</td>\n",
       "      <td>2656.87</td>\n",
       "      <td>24408.00</td>\n",
       "      <td>April 10 2018</td>\n",
       "      <td>Tuesday, 2018-04-10</td>\n",
       "      <td>10-Apr-18</td>\n",
       "      <td>2018-04-10</td>\n",
       "    </tr>\n",
       "    <tr>\n",
       "      <th>3</th>\n",
       "      <td>4/9/2018</td>\n",
       "      <td>2613.16</td>\n",
       "      <td>23979.10</td>\n",
       "      <td>April 09 2018</td>\n",
       "      <td>Monday, 2018-04-09</td>\n",
       "      <td>9-Apr-18</td>\n",
       "      <td>2018-04-09</td>\n",
       "    </tr>\n",
       "    <tr>\n",
       "      <th>2</th>\n",
       "      <td>4/6/2018</td>\n",
       "      <td>2604.47</td>\n",
       "      <td>23932.76</td>\n",
       "      <td>April 06 2018</td>\n",
       "      <td>Friday, 2018-04-06</td>\n",
       "      <td>6-Apr-18</td>\n",
       "      <td>2018-04-06</td>\n",
       "    </tr>\n",
       "    <tr>\n",
       "      <th>1</th>\n",
       "      <td>4/5/2018</td>\n",
       "      <td>2662.84</td>\n",
       "      <td>24505.22</td>\n",
       "      <td>April 05 2018</td>\n",
       "      <td>Thursday, 2018-04-05</td>\n",
       "      <td>5-Apr-18</td>\n",
       "      <td>2018-04-05</td>\n",
       "    </tr>\n",
       "    <tr>\n",
       "      <th>0</th>\n",
       "      <td>4/4/2018</td>\n",
       "      <td>2644.69</td>\n",
       "      <td>24264.30</td>\n",
       "      <td>April 04 2018</td>\n",
       "      <td>Wednesday, 2018-04-04</td>\n",
       "      <td>4-Apr-18</td>\n",
       "      <td>2018-04-04</td>\n",
       "    </tr>\n",
       "  </tbody>\n",
       "</table>\n",
       "<p>1305 rows × 7 columns</p>\n",
       "</div>"
      ],
      "text/plain": [
       "       date_str    sp500      djia       date_ex1               date_ex2  \\\n",
       "1304   4/4/2023  4100.60  33402.38  April 04 2023    Tuesday, 2023-04-04   \n",
       "1303   4/3/2023  4124.51  33601.15  April 03 2023     Monday, 2023-04-03   \n",
       "1302  3/31/2023  4109.31  33274.15  March 31 2023     Friday, 2023-03-31   \n",
       "1301  3/30/2023  4050.83  32859.03  March 30 2023   Thursday, 2023-03-30   \n",
       "1300  3/29/2023  4027.81  32717.60  March 29 2023  Wednesday, 2023-03-29   \n",
       "...         ...      ...       ...            ...                    ...   \n",
       "4     4/10/2018  2656.87  24408.00  April 10 2018    Tuesday, 2018-04-10   \n",
       "3      4/9/2018  2613.16  23979.10  April 09 2018     Monday, 2018-04-09   \n",
       "2      4/6/2018  2604.47  23932.76  April 06 2018     Friday, 2018-04-06   \n",
       "1      4/5/2018  2662.84  24505.22  April 05 2018   Thursday, 2018-04-05   \n",
       "0      4/4/2018  2644.69  24264.30  April 04 2018  Wednesday, 2018-04-04   \n",
       "\n",
       "       date_ex3       date  \n",
       "1304   4-Apr-23 2023-04-04  \n",
       "1303   3-Apr-23 2023-04-03  \n",
       "1302  31-Mar-23 2023-03-31  \n",
       "1301  30-Mar-23 2023-03-30  \n",
       "1300  29-Mar-23 2023-03-29  \n",
       "...         ...        ...  \n",
       "4     10-Apr-18 2018-04-10  \n",
       "3      9-Apr-18 2018-04-09  \n",
       "2      6-Apr-18 2018-04-06  \n",
       "1      5-Apr-18 2018-04-05  \n",
       "0      4-Apr-18 2018-04-04  \n",
       "\n",
       "[1305 rows x 7 columns]"
      ]
     },
     "execution_count": 6,
     "metadata": {},
     "output_type": "execute_result"
    }
   ],
   "source": [
    "financial.sort_values(\"date\",ascending = False)"
   ]
  },
  {
   "cell_type": "code",
   "execution_count": 7,
   "metadata": {},
   "outputs": [
    {
     "data": {
      "text/plain": [
       "Text(0.5, 1.0, 'The evolution of the stock market')"
      ]
     },
     "execution_count": 7,
     "metadata": {},
     "output_type": "execute_result"
    },
    {
     "data": {
<<<<<<< HEAD
      "image/png": "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",
=======
      "image/png": "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",
>>>>>>> upstream/main
      "text/plain": [
       "<Figure size 640x480 with 1 Axes>"
      ]
     },
     "metadata": {},
     "output_type": "display_data"
    }
   ],
   "source": [
    "# plt.plot() is used to create line plots\n",
    "# The first two arguments are column names for the (x,y) data\n",
    "# The third argument is the data\n",
    "# Make sure that the data is sorted, since the lines will be connected\n",
    "# based on the order of the dataset\n",
    "\n",
    "plt.plot(\"date\", \"sp500\",\n",
    "          data = financial)\n",
    "plt.xlabel(\"Time\")\n",
    "plt.ylabel(\"S&P 500 Index\")\n",
    "plt.title(\"The evolution of the stock market\")\n"
   ]
  },
  {
   "attachments": {},
   "cell_type": "markdown",
   "metadata": {},
   "source": [
    "<font size = \"5\">\n",
    "\n",
    "S&P 500 tracks the average performance of <br>\n",
    "of the largest companies in the US stock market\n",
    "\n",
    "$\\quad$ https://en.wikipedia.org/wiki/S%26P_500 <br>\n",
    "$\\quad$ https://fred.stlouisfed.org/series/SP500"
   ]
  },
  {
   "attachments": {},
   "cell_type": "markdown",
   "metadata": {},
   "source": [
    "<font size = \"5\">\n",
    "\n",
    "Try it yourself!\n",
    "\n",
    "- Generate a line plot which has the Dow Jones <br>\n",
    "Industrial Index (\"djia\") on the y-axis and <br>\n",
    "\"date\" on the x-axis."
   ]
  },
  {
   "cell_type": "code",
   "execution_count": 9,
   "metadata": {},
   "outputs": [
    {
     "data": {
      "text/plain": [
<<<<<<< HEAD
       "Text(0.5, 1.0, 'The evolution of the stock market (Dow Jones)')"
      ]
     },
     "execution_count": 12,
=======
       "Text(0.5, 1.0, 'The evolution of the stock market')"
      ]
     },
     "execution_count": 9,
>>>>>>> upstream/main
     "metadata": {},
     "output_type": "execute_result"
    },
    {
     "data": {
<<<<<<< HEAD
      "image/png": "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",
=======
      "image/png": "iVBORw0KGgoAAAANSUhEUgAAAk0AAAHFCAYAAADv8c1wAAAAOXRFWHRTb2Z0d2FyZQBNYXRwbG90bGliIHZlcnNpb24zLjguMCwgaHR0cHM6Ly9tYXRwbG90bGliLm9yZy81sbWrAAAACXBIWXMAAA9hAAAPYQGoP6dpAACjO0lEQVR4nOzdd3hTZfsH8G+a1Z0uumjZUFpaNkIBFQTKHioiohUUiyJDFH4q6qs4UQGV14G+DhBBigo4GJWNIhSk7L2hBTroSHeacX5/pOf0nOQkTdqkTcr9ua5eJOecnJykIzf3cz/3I2EYhgEhhBBCCLHKo7EvgBBCCCHEHVDQRAghhBBiAwqaCCGEEEJsQEETIYQQQogNKGgihBBCCLEBBU2EEEIIITagoIkQQgghxAYUNBFCCCGE2ICCJkIIIYQQG1DQRO5YEonEpq/du3dj9+7dkEgk+OWXXxr7sp2mVatWmDJlSp0e++OPP+KTTz4R3SeRSLBgwYI6X1dD2LFjB3r27AkfHx9IJBL8+uuvosfdvHkTCxYswNGjR832TZkyBb6+vs69UBt98cUXWLFihdOfRyKRYObMmU5/Hmdx5PfM2s8GaTpkjX0BhDSW/fv3C+6//fbb2LVrF3bu3CnYHhcXh8OHDzfkpbmdH3/8ESdPnsScOXPM9u3fvx9RUVENf1E2YhgGEyZMQIcOHfD777/Dx8cHMTExosfevHkTb775Jlq1aoWuXbs27IXa4YsvvkBISEidg2BiP3f52SD1Q0ETuWP16dNHcL9Zs2bw8PAw207qx9Xfz5s3b6KgoAD3338/Bg0a1NiXQxpAeXk5vL29G/syiBui4TlC7KDVavHqq68iMjIS/v7+GDx4MM6dO2d23Pbt2zFo0CD4+/vD29sb/fr1w44dO2x6juLiYsybNw+tW7eGQqFA8+bNMWfOHJSVlXHHdOvWDXfffbfZY/V6PZo3b44HHniA21ZQUIBnn30WzZs3h0KhQJs2bfDqq69Co9FYvY4VK1ZAIpHg6tWrgu3sUOXu3bsBAAMGDMCmTZtw7do1wbAmS2x47uTJkxg7diwCAwPh6emJrl274vvvvxd9njVr1tj0novZu3cvBg0aBD8/P3h7e6Nv377YtGkTt3/BggVcFuyll16CRCJBq1atRM+1e/du9OrVCwDwxBNPcK/T9LVdvHgRI0aMgK+vL6KjozF37lyz97qqqgrvvPMOOnbsCKVSiWbNmuGJJ55AXl5era/p8uXLmDhxIiIjI6FUKhEWFoZBgwZxw0KtWrXCqVOnsGfPHu4a+a/p+vXreOyxxxAaGgqlUonY2FgsWbIEBoNB8DwajQZvvfUWYmNj4enpieDgYAwcOBD79u2zeG0Mw+CVV16BXC7H119/bfV1sEN7y5cvR0xMDLy8vNCzZ0+kp6eDYRgsWrQIrVu3hq+vL+677z5cvHhR8Pht27Zh7NixiIqKgqenJ9q1a4enn34at2/fFhy3YMECSCQSHD58GOPHj0dgYCDatm1r8br++ecfhISEYNSoUdzv3IULFzBp0iTBe/b5559zj7H1Z4M0AQwhhGEYhpk8eTLj4+Mjum/Xrl0MAKZVq1bMo48+ymzatIlZs2YN06JFC6Z9+/aMTqfjjv3hhx8YiUTCjBs3jlm/fj3zxx9/MKNGjWKkUimzfft2q9dQVlbGdO3alQkJCWE++ugjZvv27czSpUsZlUrF3HfffYzBYGAYhmGWLl3KAGDOnz8vePzmzZsZAMzvv//OMAzDVFRUMJ07d2Z8fHyYxYsXM1u3bmX+85//MDKZjBkxYoTgsS1btmQmT57M3V++fDkDgLly5Yroe7Fr1y6GYRjm1KlTTL9+/Zjw8HBm//793BcLAPPGG29w98+ePcv4+fkxbdu2ZVauXMls2rSJeeSRRxgAzAcffFCn91zM7t27GblczvTo0YNZu3Yt8+uvvzJJSUmMRCJhUlNTGYZhmMzMTGb9+vUMAGbWrFnM/v37mcOHD4ueT61Wc+/Ja6+9xr3OzMxMhmGMPz8KhYKJjY1lFi9ezGzfvp15/fXXGYlEwrz55pvcefR6PTNs2DDGx8eHefPNN5lt27Yx33zzDdO8eXMmLi6OKS8vt/q6YmJimHbt2jE//PADs2fPHmbdunXM3Llzue/H4cOHmTZt2jDdunXjrpF9Tbm5uUzz5s2ZZs2aMV9++SWTlpbGzJw5kwHATJ8+nXsOrVbLDBw4kJHJZMy8efOYzZs3M7///jvzyiuvMGvWrBF8b2fMmMEwDMNUVlYyEydOZPz8/JgtW7ZYfQ3sY1u2bMn07duXWb9+PbNhwwamQ4cOTFBQEPP8888zY8eOZTZu3MisXr2aCQsLYzp37sz9/DMMwyxbtoxZuHAh8/vvvzN79uxhvv/+e6ZLly5MTEwMU1VVxR33xhtvcM/10ksvMdu2bWN+/fVX7nvG/51fu3Yto1QqmenTp3M/X6dOnWJUKhWTkJDArFy5ktm6dSszd+5cxsPDg1mwYIFNPxuk6aCgiZBqtgRNpoHGTz/9xADggoSysjImKCiIGT16tOA4vV7PdOnShbnrrrusXsPChQsZDw8P5t9//xVs/+WXXxgAzObNmxmGYZjbt28zCoWCeeWVVwTHTZgwgQkLC2O0Wi3DMAzz5ZdfMgCYn376SXDcBx98wABgtm7dym2ra9DEMAwzcuRIpmXLlqKvyTRomjhxIqNUKpnr168Ljhs+fDjj7e3NFBUVCZ6ntvfckj59+jChoaFMSUkJt02n0zHx8fFMVFQU9wF85coVBgCzaNEiq+djGIb5999/GQDM8uXLzfZNnjxZ9L0eMWIEExMTw91fs2YNA4BZt26d6Lm/+OILi89/+/ZtBgDzySefWL3OTp06Mffee6/Z9pdffpkBwBw4cECwffr06YxEImHOnTvHMAzDrFy5kgHAfP3111afhw2a8vPzmf79+zPNmzdnjh49avUx/MeGh4czpaWl3LZff/2VAcB07dpVECB98sknDADm+PHjoucyGAyMVqtlrl27xgBgfvvtN24fGzS9/vrrZo/j/86///77jFQqFQTuDMMwQ4cOZaKiohi1Wi3YPnPmTMbT05MpKChgGMb6zwZpOmh4jhA7jBkzRnC/c+fOAIBr164BAPbt24eCggJMnjwZOp2O+zIYDBg2bBj+/fdfwTCbqY0bNyI+Ph5du3YVPH7o0KGCIbHg4GCMHj0a33//PTesUlhYiN9++w2PP/44ZDJjueLOnTvh4+OD8ePHC56HLRC2dcjQkXbu3IlBgwYhOjra7JrKy8vNCvRre8/FlJWV4cCBAxg/frxgdpRUKkVycjKysrJsHuKzh0QiwejRo82ul3+tGzduREBAAEaPHi34Hnft2hXh4eHc91hMUFAQ2rZti0WLFuGjjz7CkSNHzIbVrNm5cyfi4uJw1113CbZPmTIFDMNwkyC2bNkCT09PPPnkk7We88qVK0hMTERxcTHS09PRpUsXm69n4MCB8PHx4e7HxsYCAIYPHy4Y4mW389/H3NxcPPPMM4iOjoZMJoNcLkfLli0BAGfOnDF7rgcffFD0GhiGwdNPP4033ngDP/74I1588UVuX2VlJXbs2IH7778f3t7egu/XiBEjUFlZifT0dJtfL3F/FDQRYofg4GDBfaVSCQCoqKgAAOTk5AAAxo8fD7lcLvj64IMPwDAMCgoKLJ4/JycHx48fN3usn58fGIYR1Gs8+eSTuHHjBrZt2wYAWLNmDTQajWDGVH5+PsLDwwUfQAAQGhoKmUyG/Pz8ur8ZdZSfn4+IiAiz7ZGRkdx+vtreczGFhYVgGMau53EEb29veHp6CrYplUpUVlZy93NyclBUVASFQmH2fc7OzjaryeGTSCTYsWMHhg4dig8//BDdu3dHs2bNMHv2bJSUlNR6fba+93l5eYiMjISHR+0fEQcPHsT58+fx8MMP2z1LMigoSHBfoVBY3c6+jwaDAUlJSVi/fj1efPFF7NixAwcPHuQCGLGfDbHXDRjry9auXYtOnTph+PDhgn35+fnQ6XT49NNPzb5XI0aMAACr3y/S9NDsOUIcKCQkBADw6aefWpw1FhYWZvXxXl5e+O6776yeHwCGDh2KyMhILF++HEOHDsXy5cvRu3dvxMXFcccEBwfjwIEDYBhGEDjl5uZCp9MJzmeK/fA3LWKu74dEcHAwbt26Zbb95s2bAGD1mmwVGBgIDw8Ppz9PXYSEhCA4OBhpaWmi+/38/Kw+vmXLlvj2228BAOfPn8dPP/2EBQsWoKqqCl9++aXVx9r63jdr1gx79+6FwWCoNXB6+OGHER4ejldffRUGgwGvvfaa1eMd4eTJkzh27BhWrFiByZMnc9tNi8X5TP/jwFIqldi1axeGDh2KwYMHIy0tDYGBgQCMP0dsdnLGjBmij2/dunU9XglxNxQ0EeJA/fr1Q0BAAE6fPl2npn+jRo3Ce++9h+Dg4Fr/GLN/zD/55BP8/fffOHToEL766ivBMYMGDcJPP/2EX3/9Fffffz+3feXKldx+S9gZV8ePHxf0Lfr999/NjlUqlVYzP6bXtGHDBty8eZPLcLDX5O3t7ZAWBT4+PujduzfWr1+PxYsXw8vLC4AxQ7Fq1SpERUWhQ4cOdp/XlixXbUaNGoXU1FTo9Xr07t27zucBgA4dOuC1117DunXrBL3ELH0/Bg0ahIULF+Lw4cPo3r07t33lypWQSCQYOHAgAOPw2Jo1a7BixQqbhuhee+01+Pn54fnnn0dZWRkWLlxYr9dVGzYAYr8fLNOff1t169YNe/bsweDBgzFgwABs27YNoaGh8Pb2xsCBA3HkyBF07tyZy3iJccTPBnF9FDQR4kC+vr749NNPMXnyZBQUFGD8+PEIDQ1FXl4ejh07hry8PCxbtszi4+fMmYN169bhnnvuwfPPP4/OnTvDYDDg+vXr2Lp1K+bOnSv4oH3yySfxwQcfYNKkSfDy8sLDDz8sON/jjz+Ozz//HJMnT8bVq1eRkJCAvXv34r333sOIESMwePBgi9fSq1cvxMTEYN68edDpdAgMDMSGDRuwd+9es2MTEhKwfv16LFu2DD169ICHhwd69uwpet433ngDGzduxMCBA/H6668jKCgIq1evxqZNm/Dhhx9CpVLV9jbbZOHChRgyZAgGDhyIefPmQaFQ4IsvvsDJkyexZs0ai5kHa9q2bQsvLy+sXr0asbGx8PX1RWRkpCD4q83EiROxevVqjBgxAs899xzuuusuyOVyZGVlYdeuXRg7dqwgwOU7fvw4Zs6ciYceegjt27eHQqHAzp07cfz4cbz88svccQkJCUhNTcXatWvRpk0beHp6IiEhAc8//zxWrlyJkSNH4q233kLLli2xadMmfPHFF5g+fToXSD7yyCNYvnw5nnnmGZw7dw4DBw6EwWDAgQMHEBsbi4kTJ5pd23PPPQdfX19MmzYNpaWl+O9//1un99gWHTt2RNu2bfHyyy+DYRgEBQXhjz/+4Iaq6yI2NhZ///03Bg8ejHvuuQfbt29HVFQUli5div79++Puu+/G9OnT0apVK5SUlODixYv4448/uDowR/xsEDfQiEXohLgUW2bP/fzzz4Lt7Mwr0xkze/bsYUaOHMkEBQUxcrmcad68OTNy5Eizx4spLS1lXnvtNSYmJoZRKBTcdOfnn3+eyc7ONju+b9++DADm0UcfFT1ffn4+88wzzzARERGMTCZjWrZsycyfP5+prKwUHGc6e45hGOb8+fNMUlIS4+/vzzRr1oyZNWsWs2nTJrPZcwUFBcz48eOZgIAARiKRMPw/LTCZPccwDHPixAlm9OjRjEqlYhQKBdOlSxez99De91zM33//zdx3332Mj48P4+XlxfTp04f5448/RM9ny+w5hjHOfuvYsSMjl8sFr83Szw87e4tPq9UyixcvZrp06cJ4enoyvr6+TMeOHZmnn36auXDhgsXnzsnJYaZMmcJ07NiR8fHxYXx9fZnOnTszH3/8saAFw9WrV5mkpCTGz8+Pm27PunbtGjNp0iQmODiYkcvlTExMDLNo0SJGr9cLnquiooJ5/fXXmfbt2zMKhYIJDg5m7rvvPmbfvn3cMeC1HOC/PzKZjHniiSfMzskn9lhL3wuxn4XTp08zQ4YMYfz8/JjAwEDmoYceYq5fv27288a+/3l5eWbXIPY9y8rKYjp27Mi0atWKuXTpEnddTz75JNO8eXNGLpczzZo1Y/r27cu88847Zq9d7GeDNB0ShmGYBo7TCCGEEELcDs2eI4QQQgixAQVNhBBCCCE2oKCJEEIIIcQGFDQRQgghhNiAgiZCCCGEEBtQ0EQIIYQQYgNqbulABoMBN2/ehJ+fn9OauhFCCCHEsRiGQUlJSe1rLjZmk6gvvviCSUhIYPz8/Bg/Pz+mT58+zObNm7n9AES/PvzwQ+6Ye++912z/ww8/LHiegoIC5rHHHmP8/f0Zf39/5rHHHmMKCwsFx1y7do0ZNWoU4+3tzQQHBzOzZs1iNBqNXa8nMzPT4jXTF33RF33RF33Rl2t/ZWZmWv2cb9RMU1RUFN5//320a9cOAPD9999j7NixOHLkCDp16mS2sOSWLVswdepUPPjgg4LtKSkpeOutt7j77DpTrEmTJiErK4tbIHPatGlITk7GH3/8AQDQ6/UYOXIkt0hlfn4+Jk+eDIZh8Omnn9r8etiFNjMzM+Hv72/z4wghhBDSeIqLixEdHV3rgtku1xE8KCgIixYtwtSpU832jRs3DiUlJdixYwe3bcCAAejatSs++eQT0fOdOXMGcXFxSE9P59bsSk9PR2JiIs6ePYuYmBhs2bIFo0aNQmZmJrdOUGpqKqZMmYLc3FybA6Di4mKoVCqo1WoKmgghhBA3Yevnt8sUguv1eqSmpqKsrAyJiYlm+3NycrBp0ybRYGr16tUICQlBp06dMG/ePJSUlHD79u/fD5VKJVjktE+fPlCpVNi3bx93THx8vGBhxaFDh0Kj0SAjI8PiNWs0GhQXFwu+CCGEENI0NXoh+IkTJ5CYmIjKykr4+vpiw4YNiIuLMzvu+++/h5+fHx544AHB9kcffRStW7dGeHg4Tp48ifnz5+PYsWPcatfZ2dkIDQ01O19oaCiys7O5Y8LCwgT7AwMDoVAouGPELFy4EG+++abdr5kQQggh7qfRg6aYmBgcPXoURUVFWLduHSZPnow9e/aYBU7fffcdHn30UXh6egq2p6SkcLfj4+PRvn179OzZE4cPH0b37t0BQHQmG8Mwgu22HGNq/vz5eOGFF7j77JgoIYQQQpqeRh+eUygUaNeuHXr27ImFCxeiS5cuWLp0qeCYv//+G+fOncNTTz1V6/m6d+8OuVyOCxcuAADCw8ORk5NjdlxeXh6XXQoPDzfLKBUWFkKr1ZploPiUSiX8/f0FX4QQQghpmho9aDLFMAw0Go1g27fffosePXqgS5cutT7+1KlT0Gq1iIiIAAAkJiZCrVbj4MGD3DEHDhyAWq1G3759uWNOnjwpmK23detWKJVK9OjRwxEvixBCCCFurlGH51555RUMHz4c0dHRKCkpQWpqKnbv3s21BgCMQ14///wzlixZYvb4S5cuYfXq1RgxYgRCQkJw+vRpzJ07F926dUO/fv0AALGxsRg2bBhSUlLw1VdfATC2HBg1ahRiYmIAAElJSYiLi0NycjIWLVqEgoICzJs3DykpKZQ9IoQQQgiARg6acnJykJycjFu3bkGlUqFz585IS0vDkCFDuGNSU1PBMAweeeQRs8crFArs2LEDS5cuRWlpKaKjozFy5Ei88cYbkEql3HGrV6/G7NmzkZSUBAAYM2YMPvvsM26/VCrFpk2b8Oyzz6Jfv37w8vLCpEmTsHjxYie+ekIIIYS4E5fr0+TOqE8TIYQQ4n7crk8TIYQQQogro6CJEEIIIcQGFDQRQgghhNiAgiZCCCGEEBtQ0EQIIeSOUFGlB819IvVBQRMhhJAm78rtMsS+nob560809qUQN0ZBEyGEkCbvqz2XAACp/2Y28pUQd0ZBEyGEkCavSmdo7EsgTQAFTYQQQpo8jZ6CJlJ/FDQRQghp8jRaCppI/VHQRAghpEnLK9Fg+5mcxr4M0gRQ0EQIIcStHMssQkml1ubjJ32d7sSrIXcSCpoIIYS4jbX/XsfYz//BW3+ctvkxF3JLBfe1VN9E6oiCJkIIIW7jpXXGPks/Z2TZdLxYRqpMo3PoNZE7BwVNhBBC3EJBWZXdj7mWX2627bnUo/jn4m1HXBK5w1DQRAghxC3klWgE920ZZruaX2a2bc/5PDz6zQGHXRe5c1DQRAghxC3klwmDpuKK2ovBR8RHYP/8+7D9hXvRo2Wgsy6N3CEoaCKEEOIWlmw9L7jf453tWJV+zepjPDwkiFB5oV2oLyb0jHLm5ZE7AAVNhBBC3ELGtUKzba/9etLmxyfFhQvuGwxMva+J3FkoaCKEEOIW4pv71+vxgT4Kwf0SmkVH7ERBEyGEELeQrdaYbWsT4iO4fymvFI99cwD7L+UjW12Jz3ddxPrDNe0J9vzfAO62utz2BpmEAICssS+AEEIIqU2VzoDbpeZBU5FJMfj8dSdw8GoB9l68jTYhPrh8uwztQn3xQHdjPVPLYB9EqjxxU12JoooqtIB3g1w/aRoo00QIIcTl/XPJ2FdJ5SXHc4Pac9sLyqoErQhySiq525dvG9sN+HkK8wMqb+MwXSFlmoidKGgihBDi8lbtN86SG98jCnMGt8fh/wxBpMoTANDr3e34+VAmGIaBv6fc7LF+JtvmDumALx7tjtgIP7NjaYkVYg0FTYQQQlzanvN52HE2FwBwf7fmkEgkCPJRwJeXQfq/X46DYYATN9RmjzfNNA2OC8OIhAiE+nkKth+5XohOb/yJr/ZccsKrIE0BBU2EEEJcVm5JJSZ/d5C737aZL3fbW1ETDL02MhY31RWi5/D3tK18d/76E6jSGbBwy9k6Xi1p6ihoIoQQ4jSHrhbg9M3iOj/+s50XBfe9FFLutq+yJhiKi/BHtroSYkyH58RsOn4LZ7NL6niV5E5BQRMhhBCnOHOrGOO/3I8R//27To/X6Q1Yud9yx28fZU0AFeCtQJVOvB7JT2k903QprxQzfjxcp2skdxYKmgghhDjFmoPXudsand7ux+eJtBjgS2wTDKmHBOO6RiIm3A8aC0XcvrUMz129bb6oLyFiqE8TIYQQh8sprsQvGTVNJUsrdThTWIKO4X7wkEigkNX+f/aCsiqr+6f0a43kxFaQekgAAFpLmaZahudoxhyxFQVNhBBCHG7vhdsor6rJLv3v78v4as9lAECQjwK75g6Aytt6MFPE66PkIQEeT2xldgwbMAFAVXXwc1frIBSWVeFCbikAwJtXByVGYyHYIsQUBU2EEEIczrRTNxswAcYM0sYTN/Fo75ZWz8Fmmnq3DsL3T94FT7n14IetaVLKPBDAC8gUUvOs1isbTiCzoBz/GRVHQROxGdU0EUIIcTh1ufWhtfxS6/sZhsGOMzkAgEBvRa0BEyAMmvjHy0WGAv+9UoC/L9zG7VJNnYOmKp0B6ZfzLRagk6aHgiZCCCEOZ5ppMnV/t+ZW95+4ocavR28CqL2Qm8UOzylkHgj2UXDbxTJNbFBVqdWjXKOz6fym/rvjAib+Lx1vbTxVp8cT90NBEyGEEIc6l11itVXAnv8bgOgg6wvl3iyqaVTZLtTXypE12IyPQuqBZn5KbrtCJjE71osLmgwoq2PQ9PluYw+pVenXazmSNBWNGjQtW7YMnTt3hr+/P/z9/ZGYmIgtW7Zw+6dMmQKJRCL46tOnj+AcGo0Gs2bNQkhICHx8fDBmzBhkZWUJjiksLERycjJUKhVUKhWSk5NRVFQkOOb69esYPXo0fHx8EBISgtmzZ6Oqynr6mBBCiJFOb8CKf67g1E01Xlp33OJxix/qgpbBPrWejz9kNlmkANzUvou3uSVUvJUyQdAkF8k0KeXGbZVaPUrqGDQFeSvMthkMDJ5dnYH3Np+p0zmJa2vUQvCoqCi8//77aNeuHQDg+++/x9ixY3HkyBF06tQJADBs2DAsX76ce4xCIfwhnTNnDv744w+kpqYiODgYc+fOxahRo5CRkQGp1Pg/iUmTJiErKwtpaWkAgGnTpiE5ORl//PEHAECv12PkyJFo1qwZ9u7di/z8fEyePBkMw+DTTz91+vtACCHu7pPtF/DZrotWj/ljZn8kRKnw0bbz2Hk2B68Mj0XfdiGix7JB08CYZoIu4GKOZxVh0jcHuPt+njKE+FoPmtjhuQqtHiWVdQua9Axjtu1YVhE2n8gGALwyIrZO5yWuq1GDptGjRwvuv/vuu1i2bBnS09O5oEmpVCI8PFz08Wq1Gt9++y1++OEHDB48GACwatUqREdHY/v27Rg6dCjOnDmDtLQ0pKeno3fv3gCAr7/+GomJiTh37hxiYmKwdetWnD59GpmZmYiMjAQALFmyBFOmTMG7774Lf39/Z70FhBDi9gwGxmLAFB3khcwC41BbQpQKAHA5rxQnbxTjWJbaYtDEDbXZ0M9p++kcwX1/T3mtmSb+8NxtkSaaBgMDDw/zYT0+vd48aOK3WdDqDaLPTdyXy3w39Xo9UlNTUVZWhsTERG777t27ERoaig4dOiAlJQW5ubncvoyMDGi1WiQlJXHbIiMjER8fj3379gEA9u/fD5VKxQVMANCnTx+oVCrBMfHx8VzABABDhw6FRqNBRkaGxWvWaDQoLi4WfBFCyJ3ij2M30erlTXhr42nR/Use6oLoQPPapbhI439Ez2Zb/pup4WbC1T5r7rJJR29/L7kg06QUCbw8ecNzucXGoKlDWE3t1DubzoARySTx6Qzm+/mNMiu19ndBJ66t0YOmEydOwNfXF0qlEs888ww2bNiAuLg4AMDw4cOxevVq7Ny5E0uWLMG///6L++67DxqN8Qc8OzsbCoUCgYGBgnOGhYUhOzubOyY0NNTseUNDQwXHhIWFCfYHBgZCoVBwx4hZuHAhVyelUqkQHR1d9zeCEELciMHAYNaaIwCAFfuuih4TF+kPsbgjUuUFAMgrsbxMij2Zpqv5JkGTp7CmSQx/9lxuiXGh3w/Hd+H2f/fPFaSdtPz3HxAuDXM0swgAoOVlnyq11IqgqWn0oCkmJgZHjx5Feno6pk+fjsmTJ+P0aeP/Wh5++GGMHDkS8fHxGD16NLZs2YLz589j06ZNVs/JMAwkkpq0Kv92fY4xNX/+fKjVau4rMzOz1tdLCCFNwZHqIMEaX6UMDMyjJjYLtO9SPk5kGYu3bxRV4KdDmTBUZ2/YgEQsS2TqSp55polfpO0vsowKGzSVanTIr26iGRngKTjmWPW1ibmeXw5+omnc5/9ApzegvKqmPooyTU1PowdNCoUC7dq1Q8+ePbFw4UJ06dIFS5cuFT02IiICLVu2xIULFwAA4eHhqKqqQmFhoeC43NxcLnMUHh6OnJwcs3Pl5eUJjjHNKBUWFkKr1ZploPiUSiU384/9IoSQpsxgYKA3MEi/nF/rsd4KKeYPNxZDP31PG257EK+H0ujP9qKiSo9+7+/Ei78cx18X8gDYnmmq0hlQViUMTvw95fDwkGDT7P745ZlE0eVa2KDpRmEFGMa4HEuIjxJyKf8/05af9z+/nTTbVlalFwRKFDQ1PY0eNJliGIYbfjOVn5+PzMxMREREAAB69OgBuVyObdu2ccfcunULJ0+eRN++fQEAiYmJUKvVOHjwIHfMgQMHoFarBcecPHkSt27d4o7ZunUrlEolevTo4fDXSAghruDtjafx6oYTguwI62hmES7nlZptP59bgnavbsaiP8+Z7evVKhBT+rbi7vsoZegSHYDTbw3FfN5MMj+TZpV3f7iLu51ZUI5/Lt7G5ersUW01TQqZB069OVSwTeVlPH+nSBV6tgoSfRxb03S9oBwA0MxXCQ8PCSSoiZTE6sAZhsEHaWex53ye2b7yKp2gOzgNzzU9jTp77pVXXsHw4cMRHR2NkpISpKamYvfu3UhLS0NpaSkWLFiABx98EBEREbh69SpeeeUVhISE4P777wcAqFQqTJ06FXPnzkVwcDCCgoIwb948JCQkcLPpYmNjMWzYMKSkpOCrr74CYGw5MGrUKMTExAAAkpKSEBcXh+TkZCxatAgFBQWYN28eUlJSKHtECGmS1BVafLv3CgBAp2fwwfjO3L7bpRqM+/wfAMC5d4YJApfbJVWidUoA0L1lIF4a2hEHrxQgXOXJDa15K4QfNaYL6PJnr53NLsF/fqvpsG1LTZPpMWLDcaY8q1/TtXxj0BTqbxwy5A8nSkVSTYevF2HZ7kui51z05znERdR8ZlTpKWhqaho1aMrJyUFycjJu3boFlUqFzp07Iy0tDUOGDEFFRQVOnDiBlStXoqioCBERERg4cCDWrl0LPz8/7hwff/wxZDIZJkyYgIqKCgwaNAgrVqzgejQBwOrVqzF79mxult2YMWPw2WefcfulUik2bdqEZ599Fv369YOXlxcmTZqExYsXN9ybQQghDaiU19DxbE6JYF9mdfYFAP46fxtD4mrKFPLLLBdvs8Nim5+72+pz+ygtf/Rc5z03YFtNk8wkJeTvVXvQxPZ+qqgeQgusroEK8lEgp3o2ndj43ImsIovnXH/4BqIG1cwWNNQy+464n0YNmr799luL+7y8vPDnn3/Weg5PT098+umnVptQBgUFYdWqVVbP06JFC2zcuLHW5yOEkKaAv3SI1mTB2XPZNUHUxuM3BUGTtRlvphkkS6wFQqaNJm0Jmkwn7NjyGHZ4jsVmqxKaq5BTbGxtozeYZ4rE6qP4snhBn06kj5O7KyyrwtX8MnRrEVj7wU2Qy9U0EUIIcT5B0MQbRjpwOR8vrz/B3Tet3Skos7y8lI/Ctv+HW5uVXFwpXOjXluE5e87P8jSplWIX9Y1vruK2aUWCnjKNsLh77TTh0l7rj9zgbjfFTNOwpX/h/i/2Ye+F2419KY2CgiZCCLkDmXauZs1OPSI4rqhcC3V5TSBTWG45aPJW2pZpAoDtL9wjur24wv5MU114mmTF2Flzj9zVgtumFalJMl3c189K/ZRY80t3xw5dbjpxs5GvpHFQ0EQIIXegUkGmyfjhXl6l44bffph6F7d/6vf/AgCOZRbh1yOWPyzZpUls0S7UDwdeGWS2vb6Zph4tbRs2Ms00scudhPl74ol+rQBYCJpM2ht4KaQY2km8NY2hCQZNrKu3y2s/qAmioIkQQu5A/DYDN4oqcPV2Gb7bewUGBvBTynB3+2ZcP6VD1wpxKa8UYz//hyucFmNvgKMSKdiuMqmvsmUZFb7alj5hmdY0yXnXHlz9usVqkvhdwAHja/7wwS6iHcibYqaJtd+GPl1NEQVNhBByByo1qc0ZsHg3Fm89DwAoqc5C/T6zHwKqC59NF8V9tHcL3N0+RNC00t7FaT3l0loDLWsz7erDUy5e0wTUvA6xlgGmQZ1UIoHKW46ZA9uZHatvQkFTUXkVkj7eY9dj8ko0otk6d0ZBEyGE3IHKNeYNLVlsABEV6I3kPi0BAGduCRfXTU5siR+m9kaL4Jop9vYGTYDlnkq9WgXi6XvaoG/bYLvOZ2uYYjqUyO8ELqt+HWKF4PygqXfrIIRV93fiLxDcsvo9aUpBk7dChvM55s1OrRnz2V7EvLYFJ29YXo7G3VDQRAghd4BKrV7wv37TgmY+fj1TRPXiulfza2pY/D1liA40Bga+vEyQog5BE9u929SzA9ph/ojYOgVitjDNYPFH9djWCRUindLZ9/D/hsYgdVofbqYef6iRHd7TN6HZc5U6vVmHdNOsG59Wb0BOcSUMTE3jUL7ckkr0/2AnPtp23tGX6lQUNBFCSBOXW1yJ7m9vw8wfD3PbCsu1osdO6dsKvdvUZHd8q5c8ySmu5LZtmNGPCzr4S6LIZbVP9TdlafaZl409n+qqmZ8S/zc0hrvPfz/Y11RcaR40sYGCUuYhaG3QkpdxYzugi/V5cpbCsipkqytrP7COfth/DaaJM2szKbPVxoBJIfNAiI8waFKXa/H0DxnIKqzAf3dccMblOg0FTYQQ0sTtv5yP8io9/jyVg3sX7YLBwOBCbonosa14H/5ATQDBBk2hfkq0bebL7fdV1gQ9dck0WappsrVRpil7kjszeHVILYJqXjcbyJk22gRq6pxMrzs6yBtLJ3bFd1N6QlqdkmnIcp5ub29Dn4U7oK4QD4br63q++Wy5S3mlWJeRJbp2Ibs0DrumH6ukUovhS//CketF3DZ3WtiYgiZCCGni+MMo1/LL8cGfZ5F+uUD02GBfYVbArzqjxGYZfE2Gtfj36zKUZqkPkz3tC+rjp6cTMTmxJR65K5rbxgaK2eoKfPP3ZdwsquD2se+l2Gsd27U57usYxi3rcuhqAa7eLsPnuy6ipNI5wQz/mgDgQo54MFxf1wrKzLY99s0BzP35GN7eeNpsH5ul4y9ps+tcLrq8uRU3TTJivx29AXdBQRMhhDRxpsMoX+25DMB8zTagph6H5etpstiuSQNL/vBcXbp3W8pO1XV4zt4qortaB+HNsfEI9ffktrGBYmG5Fu9sOoPhS//m9lVVF4dby6qxmZXUfzMxYPFuLPrzHN7ZeMbOK7Mdv+cWf/FjRxLLurGB9JqDmSLHG4NEf97Px1/n88yG+ADzmYyujIImQghp4sQ+8AAgMsDLbJtZpsmk5shbbhJE8YIbG1YvMWMpO2Xrkiys0V0iAQDT721r/0WYiA7yxsZZ/dG2mQ8AQF2h5fo/VVX3abIWIGpECqT/vSqe2XOEUt73d1l1QOxo9g6hsZ3d2Z+fXedysfyfq6LHutMafRQ0EUJIE1deJf6BF87LrrCCfU0yTSbDcQdNPvz5wy+W2gdYE2iS2QKA6QPaim63ZunDXbHv5fswLD7c7msw5SmXIr65CsPjI7ht288YF/G1NjzHunrbfCjLmUo0NUN/YtlDRxALBFliT8l2dt9+JgdDP/4LTyz/t07ndjUUNBFCSBNnKWhqU51J4Qv0th40mZJLPfD3iwOxe96AOg2zPDeoPfw9ZUiKq1mKZGzXSLvP4+EhEc2c1YeUFw2krDwEoKZ3k7U18a4XiCwx4pxYBgBwOa8mSDMdXnWUSq3lwEasszu/hutcLXVWJ24U1fm6GhoFTYQQ0oR98/dlrDl4XXTfC0kduNvBPgqseKKXIFAAjIEDfwju9VFxZueJDvJGqxDzAMwW4SpP/PvaYHz5WA/etZj39WkMps0ptXoDl2myt37LiTET/rl4m7ttKUCuL42V4TnxoMlyHzBTYjVRrso5/ekJIYS4hHc2mRcg+yplmDGwHUL9aobnRneJxICYUNFz8NdQm9S7hcOvkV1fbk1KH5RX6UTXcWsMpmvHZasruZYD1obn3hrbCa//dsqp18b3z6WaoKlMZPp/XV3KK8XCzWcQF6niltb5cHxnHLhcgHWHs7jjxJa6sSdocicUNBFCSBNl2rF56cSuGNMlUtCUkeVhpYqbfx5nznRKtHPJFGczbU5ZVK61KdP0eGIrs6BJ7D13lJtFNVP4yzWOyzQlf3MAN9WVXD0XAAyODUNFlV4QNInNiHNmi4XGRMNzhBDSRJk2HewU6W/xw9tJ9cNuzXTtuYLyqprmlk5a3sVeOr1BMIzoyGDFtJ8SYGwh4CkXvnadSRfPi7klgkCLr1+7YKybnijYNndIB9FjTVXpDNwsxsZCmSZCCGmiynj1Lf99pBvahfpZPFYqpaiJ71hmEVbsuyrYVlRexcs0ucb7ZTrzzJEdwVuH+OAKbybgHzP7Qyb1MAu8TWu/nks9Knq+yYkt8ebYeADAsdeT4Ocpw42iCkQF1l7Ar67QYtCS3ejWIhBfP97TzlfiOK4RKhNCCHGoSq0eT1ZP81bKPDCmi/iMtI7hxkDK0v47lVjNUkmlriZokto3TOmsEMs0aCqrEi7MXB8B3sICb7bWrE9r4TCq1mQY89TNYtHzteZNFlB5y+HhIUF0kLdNQ5d/HLuJ26VV2HY6x6ZrdxbKNBFCSBOklHlwU72t9cH5bWY/5JdW2TRd/04awlPKzYOmUo2OC0jsnj3npPdOU91s00NSU1tUXKE1a1JaF/wEkqfcA6HVQVMLk/UJ9SbDmH3aBHHL9AT5KFBQZuxI34a3ZqG9+IXlegNjNsuzoVCmiRBCmiD+/96tfWArZVKb+xt529ml252J1SwVV2i5GXVyFxnO1FT3T/JRyLjlXxw1RGeofq1LJ3bF2beHCxbendK3FXfbdJYhm6UbHh8uWAi5dS1tKXKKK/Hgsn2Yk3rEbB+/VqvYSYsS24KCJkIIaaKmD2gLuVSCZY92d8j56roenDsSa17JX8OvLuvsOQObRVTKPaCqHk4rclBQwdYqifVhem1kLD5+uAsAILdEg/sW78aJLDUAcNm4EQkRyCupWQuvtuD8mVUZyLhWiF+P3jQr+M4urilKd2Tdlr1c47tOCCHE4V4cGoMjrydhGG85kPrwvqOCJvPXupfXRNL+5pbOyUzllxmDEqVMygU3m4/fcsgsM0P1OcSGwmRSD3SJCuDuX75dhmk/GLums2vJyaUSQaBZ25Aav7O5afbqRmGF8Xk9JJA3YsBKQRMhhDRREomk1mVQ7NEp0t9h53J1YkFRZkEFd1vuUf+apvxSDT7dcQE3iyrMd9qIze7EhPtxQdM3e69g4/FbdT4ni800SS2M78pM3oNb6kr8d8cFHLpWyO03DX6sMfCONS1mz6oOmtY+3QfNHbxcjj0oaCKEkCaGYRhuwVRH+OWZRIzvEYW3q6eL3wmsZZLkUomgvkdMm1rqd7q/vQ093tmOJdvOo+/7O1HEy8jYg10TLlzlKRhG23VWvE+SPfTVmSZLr1WsTcVH285zt2VSiV2TB/S87JhWJwy22Dom07URGxoFTYQQ0sS8n3YWnRdsRauXN+FyXmm9z9ezVRAWP9TFITOy3AV/KOmeDs0E+2xpbPllcg+L+xiGEQxbAcDgj/bYeYVGWl6zTX7QVN+aq5JKLTdcZqlbfG3vg8zDw2KWinWjqALjl+1Dq5c3CdbNqzLJNLG1W87sSG8LCpoIIaQJUVdo8dWey9x9a2ukEdv0bh0kuG9LTU2HMD9uNhsgnM2oNzAwLTm6XVq3TJOWWwtPwhWCA/UPmlYfqFnk2dKPkI+y9gCmtozcoasF3HAeH394Tm9guCBKrEC/Id0580cJIaQJq9IZcCG3BKdNGgsG+TTucIY7+/SRbrhZVIF+7UKw6M9z3HZbl1BhF7kFgOYBNYsjmy7PUh8a3lp4/IVz6xtc8LM+ljJNnjIpJBKYBYAsrcFQa/F3Wwu9m/hBU0OtfWgLCpoIIaQJeC71CLaczDbrhXMnzXhztNHVXdKv5ZcJttcle8efjWe6kHJ91GSaHDs8x19PzlLg4+EhgbdcKliuR3gOBnOHdMB/fjuFh3tGix7TLtRS0FQTibENPAHKNBFCCKkndYUWW05mA4BgrTAANi1RQawznYFoWm9jSYivErdLjS0B+DVMlh5fl07XVbxMkycvMPMUaZlgD/6sN0uZJgDwVsqsBE0GPNanJRLbhlhsbOkpl6J7iwAcvl4k2M7PNLHZNKmHBLJGHm6mwW5CCHFzW06YTy9v08wHO+be2whX0/T4egqDpkEdQ2163PdP9sLT97YBAFzLL+e2W1obrqxKJ7pdTGn10B+/EJxfa+Uv0pDSFiey1Nh74bbgGq0Fcv6elnMvHSP8IZFI0C7U1+o5ooO8zbbxn79SawzKGjvLBFCmiRBC3N5lk+wSANwXE2qxXoTYhz+0Nq5rJBY+kGDT4zpFquCnlOOrPZe59dcAy0GT1sZhu/2X8vHoN+kwbYE0tFMYd1tvR38kvtGf7QUAdI0O4LZZC3gSmqtwKU/48/fdlJ4I8lHWumwK63Ke+c9vmaYme1VRHTQ1dj0TQJkmQghxe4dFZh+JLThL6s/XU2bXkKe/lzE3UaHVc8GSpZomWwOdw9cLzQKmUzeLoZRJMa6rsQ7LUM+O4Eczi7jb1kYMe/FmFqZO64N10/vivo5hgqCrNoNizTN3Z27VTGgoqJ5Z6AqTGui3ihBC3Nz1gnKzbWLLgJD6YxfItRW/Hqqk0jikxq9pentcPBeUaG0MmsQyVQ/1jAJQM8W/rpkmMdaCxLta1QRNvVoFoUfLQLvP/2T/1mbb+Ovn5VXXhTVzgT5hjRo0LVu2DJ07d4a/vz/8/f2RmJiILVu2AAC0Wi1eeuklJCQkwMfHB5GRkXj88cdx8+ZNwTkGDBgAiUQi+Jo4caLgmMLCQiQnJ0OlUkGlUiE5ORlFRUWCY65fv47Ro0fDx8cHISEhmD17Nqqq6tY3gxBCGlK5SCGuqywo29RU2jnzTSb1gE/1DMZr+WX4IO0szmWXAACiAr2Q3KclN+ykt7EVQYXJ93vjrP7o2zbE+HzVQZM9y5ewLK1XZy1p1T7MD18+1gM/pvS2u4id5e8pN8si8bNx7NBmkG/jZ5oataYpKioK77//Ptq1awcA+P777zF27FgcOXIEUVFROHz4MP7zn/+gS5cuKCwsxJw5czBmzBgcOnRIcJ6UlBS89dZb3H0vL+G6NJMmTUJWVhbS0tIAANOmTUNycjL++OMPAIBer8fIkSPRrFkz7N27F/n5+Zg8eTIYhsGnn37qzLeAEELqhWEY0QJiVyiabYp8bWjoaMrfS46yKj1mrD6Mm+pKbjvb74kNdLQG2wIytsaHFd9cxd1mAxdDHYImS9mp2ob6hsWH2/1cpsb3iML//qppyspvM8D+p8DHBdpnNGrQNHr0aMH9d999F8uWLUN6ejqmTp2Kbdu2CfZ/+umnuOuuu3D9+nW0aNGC2+7t7Y3wcPFv2pkzZ5CWlob09HT07t0bAPD1118jMTER586dQ0xMDLZu3YrTp08jMzMTkZHG8eAlS5ZgypQpePfdd+Hvf+csUkkIcS+VWoNoJoD6MznW0oldsebgdbwwJMbux/p7ynFLXSkImICafk/sNHpbh9TEMossaT0yTZYeU9/6KFvMHtQenSL9cTxLjW/3XoFGZ0BmQTlmrjmCkup1FL2oELyGXq9HamoqysrKkJiYKHqMWq2GRCJBQECAYPvq1asREhKCTp06Yd68eSgpKeH27d+/HyqViguYAKBPnz5QqVTYt28fd0x8fDwXMAHA0KFDodFokJGRYfGaNRoNiouLBV+EENKQynlZph+m3sXdVtVxyjkRN7Zrc6ROS0QzP/vrathicFNymTHA4TJNNvZ/Mh2e42PXeqtLoGMpaHNkfZQlvkoZxnZtzr2/VToDXtlwAscyi7jZdV6Kxp/w3+hXcOLECSQmJqKyshK+vr7YsGED4uLizI6rrKzEyy+/jEmTJgkyP48++ihat26N8PBwnDx5EvPnz8exY8e4LFV2djZCQ80r80NDQ5Gdnc0dExYWJtgfGBgIhULBHSNm4cKFePPNN+v0ugkhxBHYqdmecuEyGnXt00Mcz89T/HthOjxna3BSqbUcNNWnEFws09S2mQ9iwvzsPlddscPKGp3BbD0+V8ieNnrQFBMTg6NHj6KoqAjr1q3D5MmTsWfPHkHgpNVqMXHiRBgMBnzxxReCx6ekpHC34+Pj0b59e/Ts2ROHDx9G9+7dAYhX/jMMI9huyzGm5s+fjxdeeIG7X1xcjOho8VbxhBDiDOrqWUYBXgpBo8FA78YvmiVGlhpAmg7P2bomXaXOctBkGoDp9AZ89ddl3NO+GRKiVBYfx38M37bn76110V1HYicwaLR66E1qvNgC+sbU6MNzCoUC7dq1Q8+ePbFw4UJ06dIFS5cu5fZrtVpMmDABV65cwbZt22qtL+revTvkcjkuXLgAAAgPD0dOTo7ZcXl5eVx2KTw83CyjVFhYCK1Wa5aB4lMqldzMP/aLEEIaUlGF8X/jAd5ytAnxxeOJLfF4Ykt0DG+47ACxzlLWjw0Q7M801QQTE3sJ/6Nummn66q/LWPTnOa5ppTU6kUL0hgyYgJpWGRqdATqTIPLBHs0b9FrENHrQZIphGGg0xp4MbMB04cIFbN++HcHBwbU+/tSpU9BqtYiIiAAAJCYmQq1W4+DBg9wxBw4cgFqtRt++fbljTp48iVu3apYi2Lp1K5RKJXr06OHIl0cIIQ5VVG7MNKm85PDwkOCtsfF4a2w8rTnnQvxqzTRVF2/bWNPEDs+9e3883rtf2J3ctOXApuPmS+xYYhqkNAZ2eK5KZxAUvKu85BgYY9vyNc7UqMNzr7zyCoYPH47o6GiUlJQgNTUVu3fvRlpaGnQ6HcaPH4/Dhw9j48aN0Ov1XDYoKCgICoUCly5dwurVqzFixAiEhITg9OnTmDt3Lrp164Z+/foBAGJjYzFs2DCkpKTgq6++AmBsOTBq1CjExBhnQSQlJSEuLg7JyclYtGgRCgoKMG/ePKSkpFD2iBDi0sqq1yAzXVSWuA7/WmqapB7Gf22d8cYGTW1CfM0yQWxdG7tQ8IVc24e0GqLguzZs0LT/cr5g+5gukS7xH4FG/S3LyclBcnIybt26BZVKhc6dOyMtLQ1DhgzB1atX8fvvvwMAunbtKnjcrl27MGDAACgUCuzYsQNLly5FaWkpoqOjMXLkSLzxxhuQSmsKxlavXo3Zs2cjKSkJADBmzBh89tln3H6pVIpNmzbh2WefRb9+/eDl5YVJkyZh8eLFzn8TCCGkHtju0rRsiusKV3mKbmcX2JWzmSYb+zSxw3OeIt/zzs0DAADHsooA2F4nZXz+xg+aLDVl7RjhGsPNjRo0ffvttxb3tWrVymJ3UlZ0dDT27NlT6/MEBQVh1apVVo9p0aIFNm7cWOu5CCHElbDLerBZC+J6LC1cywZLUq7lgG1BC9v4UWwB287RKkgkQGZBBW4UVXDbbWmVYFp43RgsLf8T7i8eeDY0+i0jhBA3xmWaaK05l2VpeI4NeuQetje3zCwo57WZMP+e+3vK0a6ZLwBg/6WaIa4AG1pQuEKmyVLGNIyCJkIIIfWlqa5vobXmXJel/kJsICO1sbnl9tM5uPvDXdwyKmLDcwAQ6m/MKuUU13QgtyUccqVCcFNtmoln6xoa/ZYRQoibWZV+DU8sP4iKKj001R+0FDS5Lk9LQZO3MWhiZ8/VlmlauuOC8LwWsove1Z2z2YVuAdvWomMnFbA619LXyRnEgqYHujfnXlNjc42rIIQQYrPXfj0JAFh94Bq3Gjwt0Ou6LK2Zxi51w7UJqCXTY9oySWx4DqhZ2FYQNNmwrEpRdaPUmDA/PNanBYY6YCFee4kNM380oWuDX4clFDQRQoibKqnUQaOjTJOrk1so0u9QvTwJ2xG8tpoiX5N+T5YCZS+RTJPehqDpePWMu8gATyQntqr1eGcI8nHtTvb0W0YIIW7KQyLBzeoZUq6wLhexT5vqgu2ahpTWa5puFlUK7lvq1i2aabJhYtyJG8ZF52WNOBPTRylD8wAv7v7s+9o12rWIoUwTIYS4KYkEOJpZBAC4q3XtKyYQ1yGRAH7VjSi5TFMtw3MllVqbzs0G0PnVDS4B24bn2JYDPVsG2vQ8zrL26T54ad1xTOzVAqO7RDbqtZiioIkQQtxUqUbHLaPSPtS3ka+GWOOrlKGUV2jtp5RxmSJbM03s8F2QjwL3d7O8Dpt3dTB2U12TmbKlnUFF9bIlrSz0lWooUYHeWP1Un0a9BktoeI4QQtxEmUaHtJM1a4ndKDQOzQX7KLjlM4hrSptzN8Z2rcma8BfxNV0vzhI2E7Vuel/8Z1ScxePEap1syTRVVDdKtVS4TihoIoQQt/HaryfxzKrD3P2swnIAQHSQd2NdErFRVKA3kvu05O6r+EGT1LbZc2wmSmahlonFX+iWZUvfyooqYybMi+rjLKKgiRBC3MSGIzcE949lqQFQ0OQu+IXb/C7hMpMFe6/nl3MBMR8bVFmajcdiF/Tls2l4rvpxlGmyjIImQghxA1//ddnivuhAL4v7iOuQSmqCJn6mScr1aTJAo9Nj9Gd70f+DXbieXxM4MQzDBVXSWjJN7UTq22xpbslmqCz1fyIUNBFCiMs7l12CdzefsbhfZcO6YqTx8YMRf6+aGjQ5ryN4aaUO6uomk0u2nUOVzoD8Uo0gU8Qeb8mozuYzzmqradLo9CipNA7PBbt4r6TGREETIYS4uPHL9nG3z70zDFP6thLsr224hrgGP15zSmGmyfj9q9IbBMHR9YJyPP3DIfR4ZzvO5ZTwjrceNEk9JGZrtdXW3PJ2qbGnk1wq4ZZ3IeboN40QQlxcpc44bDJ9QFsoZVKz2VFy6gbuFvgdvflZJ7aGqFJrEMygq9IZsOtcHgBg1poj3HZbgmTTuqTamlvmVi/u28xXCYnEelB2J6PfNEIIcWFF5VXQVhcAzxho7I5sumSKopbhGuIafHiLzvIDEx+lMcApr9IJMk3suoIAcDmvjLtdW6YJEAmaask05ZYYG2E28/es9dx3MgqaCCHEhajLtfh810VcuW38kLyYWwoAiFR5wre6F5NppoEd3iGuTeohQYvqmY4DY5px272rg6kyjR5afU2gVKUXTw/V1nIAAD5/tLtgiK624bk8NmjyVdZ67jsZdUMjhBAXsvbQdSz68xw+2X4eF94dwQVN7aoXdxVjS+NC4hrWPt0HpZU6tOd9Py1lmjRa8aDJluGzMH9PBPDqphjGOIPO0np1bKYp1J+CJmsoaCKEkEZ2Ka8UM1YfRrcWgbhQXfDLDsldYIOmZjXTyCtM+vDY0oOHuIYIlRegEm5jM03lVXpBTVN2sXCBXnuZZqr+vngb93ZoJnpsXonxuUL9KGiyhoImQghpZB9tPY+z2SU4m10i2G4wMFymqX0YL2gy6fhc2/IbxLWxC+yaZprq643RnZBfquG6yH+5+xJ6tgwUXXKnoMw4ey6YhuesooFwQghpZGxfHlPHsoq4D7Mw3rCJWdBkofaFuAc2aCrT6GsNgF8bGWvzeXu1CsKw+Ahuzbv9l/PxyfbzoseymU0lta+wit4dQghpZKbDbazZqUdQpqleD0wus3g8Dc+5NzbzU6HVQ19Lb4Bx3Zrbff5gn5qAe/OJbNFjbO02fqejoIkQQhpZsYVMU2ZBBa4XGJfS4C+i+shdLQTHdW8Z6LyLI05Xk2nSiS7ay28xUZdGpvzu421FllgBarKVMmpfYRXVNBFCSCNjh+cUMg9U6Qx4tHcLrD5wHUBNBoDfdyexbTD+fnEgGAa4qa5A9xYUNLkztn+TRmeARifMNEk9JJg5sB0+2mYcVqttCRUxt0s13O0QC0uk2LoY8J2O3h1CCGlk7EKpUdUL73aOUnE9mVjeCmGzwuggb7QI9kafNsENc5HEafhZxOJKYdZRb2AEPwuyOvTkeqB7FHfb0lCwrnpYkIbnrKNMEyGENDJN9TIpT/RtBYlEgh4tg8wyCrTyfNOllHlA6iGB3sBwi+ayPpvUjQuqgbplmrq3CMT0AW2xbPclwbn42IxmXc5/J7E7ZP32229Ft+t0OsyfP7/eF0QIIXcSvYHhZi6N7ByJx/q0RLtQX8h4wyS+ShktotqESSQSrpj/vc1nAADdWgTg1JtDMapzpCDTVNd14TpF+gOwkmnSs4XgNABljd3vzty5c/Hggw+ioKCA23b27Fncdddd+Omnnxx6cYQQ0pRtOn4Ld3+wk7vPX4iXXdYCAFqFeFOtyR2CzTT5KGTcrLoQB/ROUlT//GgttKdgh+fkNDxnld2/hUeOHEFOTg4SEhKwbds2fP755+jevTvi4+Nx9OhRJ1wiIYQ0TdnFlbiprun6bLoQL0spo6G5Ow0/gO7VKhAP94zGvKQOdT4f+7NVpTMPmhiGwfkcYxNVqmmyzu6aptatW+Ovv/7C888/j2HDhkEqlWLlypWYOHGiM66PEEKaLH5TSw+J5YVYFZRluuPwu8NLJBJ8ML5zvc7H/gyJBU3rDt/gbsvoZ82qOr07GzduxJo1a9C3b18EBATg66+/xs2bNx19bYQQ0qTdKKzgbitlUov1KpYyUKTpuq9jqEPPx/4MiQ3PrT5wjbtNheDW2f2b+PTTT2PChAl48cUX8ddff+H48eNQKpVISEigmiZCCLHRoasFWHc4i7uvlFv+c0xB053l7bGd8H/DYhx6TmvDc2F+ntxtGp6zzu7fxH/++QcHDhzAvHnzIJFIEB4ejs2bN+Ott97Ck08+6YxrJISQJqO8SoebRRVoZ9KZ2dtKSwEKmu4syYmt4O/p2NmS7ESCqupZcqduqrHlxC0AQChvXUNLLQmIkd2/iRkZGejSpYvZ9hkzZiAjI8MhF0UIIU3V/Z/vQ9/3d6K4Qocu0QHc9kALnZoBYVEwaZq+Su7h1PPXZJqMQdH9n+/D9NWHse10Djx4w8KtQ3yceh3uzu7fRKVSiUuXLuG1117DI488gtzcXABAWloadDpdLY8mhJA7z9d/XUbqwetgGAbncowFvvcs2oVnB7TF/w01DsMEmQRNA2OacbcpaGr62jYzZh5VXs7px1XTcsCYaaqqrm3aePwmKqqzSw/3jHZIe4OmzO7fxD179iAhIQEHDhzA+vXrUVpqnKZ4/PhxvPHGG3ada9myZejcuTP8/f3h7++PxMREbNmyhdvPMAwWLFiAyMhIeHl5YcCAATh16pTgHBqNBrNmzUJISAh8fHwwZswYZGVlCY4pLCxEcnIyVCoVVCoVkpOTUVRUJDjm+vXrGD16NHx8fBASEoLZs2ejqqrKrtdDCCGmCsqq8O7mM3h5/Ql0fWubYN/TP2RwNSSmQdP9vKUvqBt408cWYOss9FGqLy7TpDeAYWoWBa7SGbiGlzHhfk557qbE7qDp5ZdfxjvvvINt27ZBoaj5JR84cCD2799v17mioqLw/vvv49ChQzh06BDuu+8+jB07lguMPvzwQ3z00Uf47LPP8O+//yI8PBxDhgxBSUnNVMw5c+Zgw4YNSE1Nxd69e1FaWopRo0ZBr68Zl500aRKOHj2KtLQ0pKWl4ejRo0hOTub26/V6jBw5EmVlZdi7dy9SU1Oxbt06zJ071963hxBCBPhtBfi3WSMTIvD14z0xuW8rwXZ+k8E2NGTS5LFT/dnlTByNrZHSGxgUV9SMCmn1DLfena8nraxWG7vfoRMnTuDHH380296sWTPk5+fbda7Ro0cL7r/77rtYtmwZ0tPTERcXh08++QSvvvoqHnjgAQDA999/j7CwMPz44494+umnoVar8e233+KHH37A4MGDAQCrVq1CdHQ0tm/fjqFDh+LMmTNIS0tDeno6evfuDQD4+uuvkZiYiHPnziEmJgZbt27F6dOnkZmZicjISADAkiVLMGXKFLz77rvw9/e3920ihNzhisqrsPlENloGe1s9LjrIG9FB5sfwO4DHhNPfoKaO7dHlrKDJSyFFsI8C+WVVyCws57arK6rw79VCAECgt+W6OmJkd6YpICAAt27dMtt+5MgRNG/evM4XotfrkZqairKyMiQmJuLKlSvIzs5GUlISd4xSqcS9996Lffv2ATAWpWu1WsExkZGRiI+P547Zv38/VCoVFzABQJ8+faBSqQTHxMfHcwETAAwdOhQajcZqcbtGo0FxcbHgixBCAGDuT8fwyoYTeOr7QxaP8bIy7Fapq8mWx4TRsElTxwZNegMjGD5zJHYIuJiX8WQDJgC0vqEN7A6aJk2ahJdeegnZ2dmQSCQwGAz4559/MG/ePDz++ON2X8CJEyfg6+sLpVKJZ555Bhs2bEBcXByys7MBAGFhYYLjw8LCuH3Z2dlQKBQIDAy0ekxoqHmTsNDQUMExps8TGBgIhULBHSNm4cKFXJ2USqVCdHS0na+eENLUXLldhhfWHsWOs8ZJMpYWSAWA/z7SzeI+PS/joKIPsyZPxlso11nZJrauSWOhbiqQfs5qZXfQ9O6776JFixZo3rw5SktLERcXh3vuuQd9+/bFa6+9ZvcFxMTE4OjRo0hPT8f06dMxefJknD59mttv2iGXYZhaV3k2PUbs+LocY2r+/PlQq9XcV2ZmptXrIoQ0fdNWHsL6IzfMtvdpE8TdHhDTDMdeT8KQuDCz41jD4sPxQPfmWDqxqzMuk7gYuazms6a00jkz0a01uASAABqeq5XdQZNcLsfq1atx/vx5/PTTT1i1ahXOnj2LH374AVKp/TM8FAoF2rVrh549e2LhwoXo0qULli5divDwcAAwy/Tk5uZyWaHw8HBUVVWhsLDQ6jE5OTlmz5uXlyc4xvR5CgsLodVqzTJQfEqlkpv5x34RQu5sF3JLRbcntgnhbhdXaGvNHillUnw0oSvGdq172QNxH94KGdo2Mxb876zOUjoa23ag0kL201ntDpqSOjf/aNu2LcaPH48JEyagffv2DrsghmGg0WjQunVrhIeHY9u2mim6VVVV2LNnD/r27QsA6NGjB+RyueCYW7du4eTJk9wxiYmJUKvVOHjwIHfMgQMHoFarBcecPHlSUKu1detWKJVK9Ojh3IZjhJA7Q8cIPyyd2BWhfkq8MiK2sS+HuKBp97TBi8NikNg22CnnZzNNFRa6fstpsd5a2TR77oUXXrD5hB999JHNx77yyisYPnw4oqOjUVJSgtTUVOzevRtpaWmQSCSYM2cO3nvvPbRv3x7t27fHe++9B29vb0yaNAkAoFKpMHXqVMydOxfBwcEICgrCvHnzkJCQwM2mi42NxbBhw5CSkoKvvvoKADBt2jSMGjUKMTHGpnJJSUmIi4tDcnIyFi1ahIKCAsybNw8pKSmUPSKEOESEyhOdowIoc0QserhXC6een22SSkul1J1NQdORI0cE9zMyMqDX67mg4/z585BKpXZnZXJycpCcnIxbt25BpVKhc+fOSEtLw5AhQwAAL774IioqKvDss8+isLAQvXv3xtatW+HnVzOT5OOPP4ZMJsOECRNQUVGBQYMGYcWKFYKhwtWrV2P27NncLLsxY8bgs88+4/ZLpVJs2rQJzz77LPr16wcvLy9MmjQJixcvtuv1EEKIJQFeVC9CGhebaXpr4+lajiSWSBg75zZ+9NFH2L17N77//ntu1lphYSGeeOIJ3H333Xd0Q8ji4mKoVCqo1WrKUBFyB2IYBq3nbxbdd+yNJKoZIY3q+bVHsUFkkgLr6vsjG/BqXIutn992D2AuWbIECxcuFEzzDwwMxDvvvIMlS5bU7WoJIW7rWGYRsnjN8u5kpRrxWU+xEf7wp27LpJEprNQsRao8G/BK3Jfdv8XFxcXIyclBp06dBNtzc3MFy5sQQpq+a/llGPv5PwDu7P+lsvJLzderTJ3WBz1aBtbaKoUQZ7PWvPLd+xMa8Ercl92Zpvvvvx9PPPEEfvnlF2RlZSErKwu//PILpk6dyi13Qgi5M5zNrvmPkrMWGnUn+WUas22tgn1oVhJxCZEBXhb3yaQU1NvC7kzTl19+iXnz5uGxxx6DVmtsxS6TyTB16lQsWrTI4RdICHFNBgMjWI7hZlElWtSyzlpTN22l+bJLoX7KRrgSQsxZDZo8KLC3hd3vkre3N7744gvk5+fjyJEjOHz4MAoKCvDFF1/Ax4dW4iakKdp0/BaeX3sUu8/VNN17a+Np/N8vx7n79yzahct54o0d7wSVWj3yy8yH5zw86H/wxDVEBliuW6JMk23qHFr6+Pigc+fO6NKlCwVLhDRxf57KxoYjN3D4Wk33/RX7rpodN+Gr9Aa8KtdCvW+Iq2tuJdMkpeDeJnYPz5WVleH999/Hjh07kJubC4NBWMdw+fJlh10cIcQ1nLyhBgDERVpvpXG71Lym505RZmHmHCGuwlrLCxkFTTaxO2h66qmnsGfPHiQnJyMiIoJmhBByByipDgieWXUYPz2diLtaB9XyiDtPWZUwaPLzlGHxQ10a6WoIMWft89qDPsttYnfQtGXLFmzatAn9+vVzxvUQQlwQP4vy4i/HsPv/Bgr2P9C9OdYfttw0zx2wfX7r+h9B00zT8TeS6D+VxKUFeMtRVG6czNEu1LeRr8Y92F3TFBgYiKAg+l8mIXcKg4ER1OtczS83WyX9pWEdARjrIuxcZMAlMAyD8V/ux0Nf7q/z9ZdphO8JBUzEFcVG1AyxD44Nw/EFSbj83gh4yqVWHkVYdgdNb7/9Nl5//XWUl1MHYELuBOVa8wLnbHUld/v/hsbAr7rbtd4kwHIXeSUaZFwrxKFrhVDz2ijYg59pSooLc9SlEeJQK57oxd1WyDzg7ymnGZ52sHt4bsmSJbh06RLCwsLQqlUryOXCwrLDhw877OIIIY2rvEqHXw5lAjD+gQ3wkiO3RIOb6grumKn9W0Mp84DUQwK9gUFJpQ4+SvdaMkTPyy5JUMfhOV6w+NHDXet7SYQ4RZBPzcLR1pZVIeLs/ss2btw4J1wGIcQVvbrhJLfAZ6tgb8g8PIxBU1FNpkkp84BEIoGPQoriSp1ZQbQ70OlrgiZ9HYfnyqtf94iEcPi6WdBI7hz8WXJy6s1kN7t/s9944w1nXAchxIUcuJyPJVvP4+DVAm5bz1ZByCwwDsu/sv4EAGP2ia3d8aoOmirccHhOy1sCprblYIrKq+ClkEIpE9aAsIv1eisoYCKui19rR8v72I/eMUKImfIqvSBgAozDcCG+xiVBqqoDCyXvj65XdSGpaZG4O9DoeEGTwXKm6XapBt3f3oZJXx8w21deXQhOWSbiLhQyCgHsZfNvd2Cgbat0FxQU1HoMIcS1sYXdrEBvOdo280Uwrx4CAJTymj+67OybCjcMmqp4QZPeStD056lsGBgg41ohGIYR/E2syTTRLCTiHijTZD+bg6ZPPvnEiZdBCHElviZB0xeP9gAABPsKF5/lD1F5VQcL7jg8Z2umqZC3tlyJRgd/z5qJMGxNk7sVwZM7lw8F+Haz+bd78uTJzrwOQoiL+PdqAdYcvC7YFuyrEPzL4qf3vdw001Sm0WHqin+5+3qD5ZqmrMKaWYMFpVWCoInt00QfRMTVTR/QFrvP5eGhntGNfSluh3JzhBCOulyLh77cb9bdO6B6zaogb5PhOZGgyd1qmn4+lMktEwMAWr3lTNPF3FLu9ou/HBfsK6NME3ETLw3riC3P3U0/q3VAQRMhhPPfnRdEt6u8jUGTaeEoP2jydNPhuUqdMLNkrabpan4Zd9u0UJ5tbkkfRIQ0XfTbTQgBABRXavHt3iuCbQ90a44hcWFc7VLrEB/BfvHhOetT9l2NaZBkqaZJqzcgn1fTBBjrmNgWA9zwHAVNhDRZlGkihAAA/jh202zbvKExGJ4Qwd2PDvLG7PvacfcFheBuWtNUYBIIWappyi+tgmnfy9xiDXebG56jmiZCmqx6B016vR5Hjx5FYWGhI66HENJITt8sBgA8c29bPDugLaYPaIvIAC+z4wbF1qyrJsg0Kdyzpim/VCO4b6mmKa/EeFyYv5JbfmJV+jUYDAxKKrW4lm9s/EmZJkKaLrt/u+fMmYOEhARMnToVer0e9957L/bt2wdvb29s3LgRAwYMcMJlEkKcjZ0Z1jrEGw/3amHxOBlv6YUWQd7cba5PkxvVNDEMg1+PCjNslmqa8kqNS8eE+nmiZZAPDl4twDd7r0AqlSA2vGbleOrTREjTZXem6ZdffkGXLl0AAH/88QeuXLmCs2fPYs6cOXj11VcdfoGEEOfT6g3Ycz4PABAV6G31WH5DvHs7NONuu+PwXPpl82a8WgvLqNwuMQ7jhfgqcLusJju1fO9VQTPQQJMGoISQpsPuoOn27dsIDw8HAGzevBkPPfQQOnTogKlTp+LEiRMOv0BCiOMxJsU5Px3K5G5HBZoPyfGxwREA9G4TxNtu/HPiTkHTkcyasoLoIOPrLqkUX3CYfV3eShly1JWCfWx2SiH1EPRuIoQ0LXYHTWFhYTh9+jT0ej3S0tIwePBgAEB5eTmkUkpLE+LqKqr0uPvDXXjpl+PcNPnv913l9kfXkmmKDvLGf0bF4cvHugsWp+VqmtxqeK7mdnykCoB5YTjrWGYRAGNglNg2hNvu5ynj1uLr1iLAKddJCHENdtc0PfHEE5gwYQIiIiIgkUgwZMgQAMCBAwfQsWNHh18gIcSx/r6Qh6zCCuy9eBveCil+O3oD53NKIZdKkD5/EDw8al9jcmr/1mbb3HHtuezqjNHMge1QVGEMlkwLw1nrjxgbfl7ILcE3j/fC9jM5AIw9rNi162gBVEKaNruDpgULFiA+Ph6ZmZl46KGHoFQa16KSSqV4+eWXHX6BhBDHqNIZsPtcLtJOZQMAbhRV4NC1QpzLLgEARAZ4ma0tZw93rGnKLjYGTWEqT3jKPRDmr4Rc6gGd3oBjWWp0jQ6A1EMiGM68VVSJcJUnNs3uj5H/3YuSSh0XNCkpaCKkSavT3Njx48cDACora8b1aW06QlyXwcDgoS/34ViWWrD9oS/3c7fHdm1er+dwpwV7z2WXINRPiZzqoCnc3xPJfVpi5n3tAQAjlv6N07eK8cGDCXi4VwsUV9TUObHd0dnapeIKLTc8R5kmQpo2u3/D9Xo93n77bTRv3hy+vr64fPkyAOA///kPvv32W4dfICGk/i7llZoFTKb8PevXX4jNNGl0rt0R/GJuCYZ+8he6vb0NN4uMQVOEyhMAoNHpMX/9cZy+ZexZ9c3fxg7p/Nlycg/jn03/6vX4NDoDVzyukFLQREhTZvdv+LvvvosVK1bgww8/hEJRM7U2ISEB33zzjUMvjhDiGOoKba3H1HfWF5tl0bj48NyhqzUz5m5X1y+F+huHJb/bexVrDtbMJGxVvWxMfmlNcbi+eqjOTymDpLr8i91PmSZCmja7f8NXrlyJ//3vf3j00UcFs+U6d+6Ms2fPOvTiCCGOUVxZe9AUF+lf6zHWSKsLyPWma424mABv8+AwyNv4H8DzOSWC7exMutM3a7J0hurX5+EhgW/17EE2+KKgiZCmze7f8Bs3bqBdu3Zm2w0GA7Ta2v8wE0Ia3t8XbgvuN/MTFnx/+VgPxDdX1es5ZNXDVpY6aruK1Qeum22TVQ+rmc4bLNPoYDAwWPDHaW6bgff62CE6LmiitiuENGl2B02dOnXC33//bbb9559/Rrdu3RxyUYQQx7qYWyq4P5i3fhwADIsPr/dzsJkmnYsHTaYBpDUllTpueRlW//bCHk0ADc8Rcqew+zf8jTfewMyZM/HBBx/AYDBg/fr1SElJwXvvvYfXX3/drnMtXLgQvXr1gp+fH0JDQzFu3DicO3dOcIxEIhH9WrRoEXfMgAEDzPZPnDhRcJ7CwkIkJydDpVJBpVIhOTkZRUVFgmOuX7+O0aNHw8fHByEhIZg9ezaqqsQb3RHiDhiGwfz1J7hAYfqAtpjStxVeGhbj8OeSscNzFha8dQsmqaZSjQ5lVcIO4fOHx3K3zTJNFDQR0qTZ/Rs+evRorF27Fps3b4ZEIsHrr7+OM2fO4I8//uAaXdpqz549mDFjBtLT07Ft2zbodDokJSWhrKyMO+bWrVuCr++++w4SiQQPPvig4FwpKSmC47766ivB/kmTJuHo0aNIS0tDWloajh49iuTkZG6/Xq/HyJEjUVZWhr179yI1NRXr1q3D3Llz7X2LCHEZ1wvKseagcTgqzF+JZ+5piwVjOiHA2/Hro7lDpknHW1furlZBCPZR4MvHunPbJCZRU6lGh3Je0PT5pO7wUdbMMmRnHOZX1z5RnyZCmrY6zTEeOnQohg4dWu8nT0tLE9xfvnw5QkNDkZGRgXvuuQcAuHXuWL/99hsGDhyINm3aCLZ7e3ubHcs6c+YM0tLSkJ6ejt69ewMAvv76ayQmJuLcuXOIiYnB1q1bcfr0aWRmZiIyMhIAsGTJEkyZMgXvvvsu/P3rVyRLSGNgP8y9FVL8/eJ9opmQ1tUzxOqLKwR3ctBUqtHh2dWHMTIhHA/3amHXY/N43b7XTOvDXTNLYpJp0hsYfLrzInd/ZOcIwX7TGYfUcoCQpq3Ov+FVVVXIysrC9evXBV/1oVYbZ6gEBQWJ7s/JycGmTZswdepUs32rV69GSEgIOnXqhHnz5qGkpGYWzP79+6FSqbiACQD69OkDlUqFffv2ccfEx8dzARNgDA41Gg0yMjLq9boIaSxsPU6bZj4Wh468FY4pXpZxmSbn9mn6as8l/HU+Dy+ts3+BcLYvU/MAL7OACRAP+Hafy7N4PnZ4jkXDc4Q0bXZnmi5cuIAnn3ySCzZYDMNAIpFAr69bjxaGYfDCCy+gf//+iI+PFz3m+++/h5+fHx544AHB9kcffRStW7dGeHg4Tp48ifnz5+PYsWPYtm0bACA7OxuhoaFm5wsNDUV2djZ3TFiYsDg2MDAQCoWCO8aURqOBRlPzP9fi4mLbXzAhDWB1+jUAQLCP+fIo/p4yFFfqMMikKLyu2CDEwBhnmNmyhl1d3CiqqP0gC9i15thmlqZUvCCoeYBXrc9l2hCUgiZCmja7g6YpU6ZAJpNh48aN3KK9jjBz5kwcP34ce/futXjMd999h0cffRSensI/eCkpKdzt+Ph4tG/fHj179sThw4fRvbuxXkHsOtlAj2XLMXwLFy7Em2++af2FEdJIyjQ6nLhhzN6KzY77Y1Z/7Dmfh4d7RTvk+diWA4CxV5OH2QR+x6isR/PMzMJyAEC4haCpT5tgeEgkuLt9CD7efr7WoMlbaRI00fAcIU2a3UHT0aNHkZGRgY4dOzrsImbNmoXff/8df/31F6KiokSP+fvvv3Hu3DmsXbu21vN1794dcrkcFy5cQPfu3REeHo6cnByz4/Ly8rjsUnh4OA4cOCDYX1hYCK1Wa5aBYs2fPx8vvPACd7+4uBjR0Y75ACJN08r9V5F6MBMTekbheJYaM+9rhzbNfJ3yXH+eykZ5lR6tgr0xUSQwahnsg8cTHVPPBABSaU2QpDcwkDupZVF91rbLuGbsBp5goSfVsPhwLsBcse+qYN/6Z/uaHS8zyaZRpomQps3u3/C4uDjcvm17nxNrGIbBzJkzsX79euzcuROtW7e2eOy3336LHj16oEuXLrWe99SpU9BqtYiIMBZtJiYmQq1W4+DBg9wxBw4cgFqtRt++fbljTp48iVu3bnHHbN26FUqlEj169BB9HqVSCX9/f8EXIZacuVWM1387hdO3irHgj9NYf+QGkr89WPsD6+jA5QIAwIgEx2WEreEHEM4sBq/gZZoMdj5PXolxOL2VDcXvQT7CGYadRDqme0goaCLkTmL3b/gHH3yAF198Ebt370Z+fj6Ki4sFX/aYMWMGVq1ahR9//BF+fn7Izs5GdnY2KiqEKfHi4mL8/PPPeOqpp8zOcenSJbz11ls4dOgQrl69is2bN+Ohhx5Ct27d0K9fPwBAbGwshg0bhpSUFKSnpyM9PR0pKSkYNWoUYmKM/WqSkpIQFxeH5ORkHDlyBDt27MC8efOQkpJCwRBxiGv55WbbbhRV4MrtMpGjzZVqdDiaWWTz85VWT5UP9TOvZ3IGfmG1M9sOVGgNvNv2ZZ3YNfgCbWi5UFRe06MtwFsOpcw8dSaTUtBEyJ3E7t/wwYMHIz09HYMGDUJoaCgCAwMRGBiIgIAABAYG2nWuZcuWQa1WY8CAAYiIiOC+TIfgUlNTwTAMHnnkEbNzKBQK7NixA0OHDkVMTAxmz56NpKQkbN++XbA23urVq5GQkICkpCQkJSWhc+fO+OGHH7j9UqkUmzZtgqenJ/r164cJEyZg3LhxWLx4sZ3vECHiSiys/zbyv39zGRBr5q8/gXGf/4Otp8QnJpjadNyYNTWtu3EWqaRhMk2lvPex3M6husLqQEhs/TlT/EWOm/mKB56mM/CUVNNESJNm91/TXbt2OezJGRsX9pw2bRqmTZsmui86Ohp79uyp9RxBQUFYtWqV1WNatGiBjRs32nRNhNirVKMT3V5epcepm2oMiDGf4cl/7B/HbgIApv2QgU8f6YbRXSItHn+Bt/BsQzVc9PCQwENinD3nzLYD7CK6AKobT9qeSSutNH4P/Dxr/9PHzyypvMSDLCkNzxFyR7E7aLr33nudcR2ENHkl1R/YbZv5oFJrEMzMqq24+TwvCAKAWWuOWA2a+IvS1qdw2l5SDwkMegbPrTkKqYcEK5+8y6GtB/QGBoXlNRmgMo3tr02nN3DDhp4iQ22mXhkRi9GfGWfzWgqGTDNNFDQR0rTVKW9fVFSEb7/9FmfOnIFEIkFcXByefPJJqFT1WyWdkKaMHZ4bFBuGV0bEorxKh8e/PYhD1wprHWYqrhAf2uNbl5GFuT8fw38f6YYfD9YETQ25qomnTAqtXof9l/MBAGeyi9Ep0nF/F7R6YQarvEo8e8fS6Q34++JtdG8RKAhwPG2Y2scv/BZrhAlQTRMhdxq7f8MPHTqEtm3b4uOPP0ZBQQFu376Njz76CG3btsXhw4edcY2EuLU/T2Vjxo+H8fXfVwAAvtU1Rt4KGUKqa2XKayloZrNUfMnfHhDUSc39+RgAYPaaI6jS1QQXY7pazkg5WphJ/yMbR+BtZlpgXlZLsPn131fwxPJ/MXXFv4L+TrYMWfIzZKaz5Cxtpz5NhDRtdv+GP//88xgzZgyuXr2K9evXY8OGDbhy5QpGjRqFOXPmOOESCXFvu87mckXZgLCehl3CpKKWjAkbNN3ToRm37e8Lt5GwYCsu5paIPqZjuB+uvj+SC9IaQpi/sL7I0UGTXi88oVZnvXZqVXVH9EPXCrmgSSnzsHvI0GKmyUP4J5QyTYQ0bXXKNL300kuQyWr+EMtkMrz44os4dOiQQy+OuC+DgalX5+amjB/EeFUHTbXV5uRXLzQb6qdEbISwBcZbG8+IPqZNM8c1rrSVszMtWpMCc0sxmd7A4Knv/xXUjVVWtyqwZWjOlKUYy/Tl+igaLkAlhDQ8u//C+fv7iy7Mm5mZCT8/P4dcFHF/U1b8i8SFOwTTtu9UpkNI/B5BPtUBlLV+QyWVWqw7nAUAaBfqix+f6m22/3uT7tUAkF9aZbbN2UwzMozFsKZuTFsZGCyksg5dLcD2M7mCbWwQ7ym3P7CzlGmS8jJNcqnEplYGhBD3Zfdfj4cffhhTp07F2rVrkZmZiaysLKSmpuKpp54S7aNE7hwZ1wrx44HrKCyrwl/n81BYrsUxO5oxNiUZ1woxfVUGjmUWoaBM2IOpfVjNsile1VkPawXNa//NxNX8cvh5yjCqc4TZB3OLIG98s/ey2eP6tQupz0uoE2d3HjetabLUtkSs+J0tpvf3tD+wsfQYfhf0Zr7KBum8TghpPHbnkhcvXgyJRILHH38cOp3xD71cLsf06dPx/vvvO/wCift4cNk+ADWLogLO7dfjyqavykBuiQZbTtY0ory3QzN0jPBDiyBvbhtb02Rt9tzJ6kV3n+rfBlGBxsfu+b8B+Oqvy/jxwHVotAZotML3ObFNMJ6+t43DXo+tTPsWObumydLMwEqd+fuZX93fKdCn9m7grEEdQ7HzXC5mDGwnup9fG9WsgTqvE0Iaj91Bk0KhwNKlS7Fw4UJcunQJDMOgXbt28Pb2rv3B5I6whjfdvajcfYfnGIbBzB+PoFKrx9eP97SreDivVJhd8lFI8VVyD7N6mppCcMtBE9uXKDKgZmZay2AfdI0OMAZNvABh46z+6BTp32gZD0vDWI5iGoRbGp4Ta9HANsUMtiNo+jK5B8o0OgRYWHaFn2myJxgjhLinOlctent7IyEhwZHXQtwY/4ObHyi5a9BUUaXH4euF2HTCOOtt9Gd78dyg9kjqFG7T42PC/HA2u2ZW25C4MNECZK/qwmFrmaaaWhzh49n7u87lcXU6Xgppow4RmQaWloKaujKvaRI/TqywfvUB40y6yAAvm59PLvWwGDCZXk9uce1L4RBC3JvNQdMDDzxQ+8lkMoSHh2PIkCEYPXp0vS6MuJfCMvHgqMhNC8HPZBfj0W8OcPdP3SzGtB8ycPX9kTY93nTJFEvBFjuTzlrBfKVOfNYXv9cQOzOMzVw1FpNejw4PmrR622qa2CaYiW2CuUab53NKARgDWkcp5C3q6+9FM+cIaepsLgRXqVS1fnl5eeHChQt4+OGH8frrrzvzuomL4a8HxvffHReQxatxcheZBeLXvOKfK7U+lmEYsyCoc5R4V+yoQGPWw9p7pLEw60usQaO3vHE/uE0zTXoHl7SZZposxWRs0BQiUmfUIdxxQRO/55ZfHQrMCSHuxea/sMuXL7f5pJs2bcL06dPx1ltv1emiiPvh/4/bVOrBTMwbGtOAV1M3+aUaLN1xAUlx4Xgu9ajoMQv+OI2RnSOtFv1eyitFSaUOSpkHlkzoAr2B4Qq4TTWvHiq6XVoFrd4AuUnjn58PZeJCrjFD4mWWaTLPKnkrGzvTJAyaHD0RwNaapqrqoMlTJLBsH+prtq2uBnQIhY9CirIqPeYP7+iw8xJCXJNTOtH169cPPXv2dMapiYuylGkCgMu3SxvwSupu4ZazWLn/Gh77tmZY7uGe0RhjsjDuyZtqq+dh67jCVZ4Y1TkSY7s2t3isLy9T8dCX+3Ext+a9up5fjv/75TiXXTEbnhPpN2QadDU002VFTDND9WVrTZNWZ9yhkHngxxRhXysfB3ZI9/CQ4NRbw3D1/ZFo08xxwRghxDU55S9sQEAA1q9f74xTExfFzzRJJMDKJ+/Cu/fHAzCvQ3FVYj2lFozphP8+0k2wraqWpTvY+iLTzJAYudSDG2Y7mlmEKcsPcvv+uXRbcKwtw3ONzXx4zrHfe9M+TQVlGhh42yqq9MgqLOeGO+VSD/Rt2/D9qgghTZPr/dUlbonNNE3q3QJn3hqGezo0g7y6W7LO0YUtTqAu13LDYKxvHu/JLXPCV1vQVGFhtpsl/GVVsgor8P2+q9hxJgd7zuWZHCesmREbnmtspokuRwdN2epKwf33Np/FtB9qlm/6/dgN9P9gF37OMHZQZ9eCezyxJQDHFoETQu48NN2DOEQhrwcOGyzIqqdSmWYHWJfySqE3MOjgAh9kC7eYr9/Gr1v6bUY/jP38HwD2BE22/Z/E11PGNV4EgDd+P2XxOL66LAfibKY1TY4Omi7mmg/18pdLMQ1U5dU/g6+MiEWXqADBgseEEGIv1/urS9wCf9mPY5lF+H6/sQcOf101WXXaQSuSacpWV2LQkj0Y9/k/Vhs7NpStp3PMtvFrX7pEB2BwbBgAQFPr8Jzx9dgyPAfYtsirRAJ421AI3ticPTxnaRHol345jsyCcrP3hK3x8pRL8WCPKOraTQipF7uDpsjISEyaNAn/+9//cO7cOWdcE3Fxv2RkodMbf2LDEeMQyKw1R7h9QbyuyPLqD1CdSE3TuRxj48fyKj1ulzq/KWDayWz8c/G2xf3tRIp4Tdd4Ywuvq0SW6GDdUlfgxV+OA4Do0J4YXxsKk32VMrOAxLQQfM7g9jY9nzOZz55zbNBUZWGod+2hTLzw01Gz96SxC+MJIU2L3X9RlixZAn9/f3z00UeIjY1FREQEJk6ciC+//BJnzpgPcZCmZ97Px8AwwEvrTgAArvN6GvGzM1ymSeSDU8vL1lhr7OgI20/n4JlVGXj0mwPcOm6mCqoL2b9K7oH7uzXHgtFxCPEVZiWU1a/H0gd3UXkVEhfu5O6LBWJiTIfdxPiJBFb8QvAfpt6F5wa5QNBkEtjVlpWzl1jWknUxtxSeMvFlagghxBHsrml65JFH8MgjjwAAcnJysGvXLmzcuBGzZs2CwWCAXt/4Qy3EefJ5WaEqnQHTVtYU4UokQPcWAdx9rqZJ5IOO/+Hn7KDp050XuNujPt2Ly++N4LI2FVV6KGQeuFFYAQDoEOaHoRa6d7NFxWJLdADA139fFtx/bnAHm66vtkVP5g/viPu7mbctUMqkeHZAW1RqDbi7vWvU6phmw0orHfu9tRaEBfsqzeq8RnWOtHA0IYTYr06F4KWlpdi7dy/27NmD3bt348iRI0hISMC9997r6OsjLuZSXpngPlsL5O8pw5HXkwSZhprZc+aZpqoGCpoyC8pxLEuYXbpWUI7WIT7ILCjH3R/uQocwX654O0LlKXYaADVB09IdFzB9QFuzouN1GTe42z8/k2jz4rW1ZWPCVZ4I9Re/rheHuVZDRdOXXObgejVr7Ss6hPly3yMW1TARQhzJ7qCpd+/eOH78OOLj4zFgwAC88soruPvuuxEQEOCEyyOu5nKeeKPK3m2CzYIENtOkFekKXdUAw3M/Hcrk6ov4Tt5QI9zfE3d/uAtAzZpkIb5Kq20CwniByzubTiM2wh+RKi8M7BgKhmG4tgtbn7/HrhmBptkZU942FIq7CtOaJtM1+OrLWj1ZkI9C8HPlb8OwJyGE2MPumqYLFy7A29sbbdq0QZs2bdCuXTsKmO4QpRodXv31JABgZOcIbJ59N7fPT+QDSi6tKQQ3nfXEzxiYBk37Lt3GpzsuCJoW1sXpm8Wi20/cUOPbvZfNtgd6W187LCkujLu9Kv06Xt1wEk+s+Bd6AwONzsBlz6xlq8TUlpByxdYClpgPzzk2aLKWafrzVA7Gf7mfu2+adSKEkPqy+69KQUEBdu3ahX79+mH79u249957ER4ejocffhhffvmlM66RuIi5Px3lppAntglGXKQ/vpvSE52jVHiib2uz42XVw3PXC8oR/8afyLhWwO2zVtM06esDWLLtPLafMW8DYA8NLyvROsQHHzyYAADYfOIWDl8vMjte5WU9aAqzEAzdUleguPo1eEhsayHAZ5qdMeUKLRlsZfparBVu1wV7PrFAM69E4/AWB4QQwlen/4p17twZs2fPxrp167BlyxYMHz4c69evx4wZMxx9fcRFMAyDP0/VBDEtg40L0N7XMQy/z+yPhCiV2WPY4TnAOPX8+bXHuPuWhuf4H7L1Hdpha4XmD++InXPvxX0djZmirMIK0Vl0/rUETf6ecrRt5mO2/Za6EsXVBc9+nvJah9tM1XZ8THjjN/+0lWnI4ugldNjvKb8fk6WY08JavoQQUmd2B01HjhzBxx9/jLFjxyIoKAh9+vTBiRMn8Nxzz+H33393xjUSF3DwSoHgfpiFwmQ+0x45/CUwLBWCs7PYACCQ1/OpLmo+YD0gkUgQ4qvgpqDnlpj3hqot0wQAA2JCzbaVaXQorh6G8veyv47mXitdqrtEqdAy2DxQc1Wm8YtOpJ6tPthhXn4rAUt9rsQCeUIIqQ+7/8L36tUL3bp1w7333ouUlBTcc8898Pf3d8a1ERcw7+djyFZXmhU2h/nVHjTJTDIo/ECJn1Eq5gVNV/NrZufVt6ZJU71wrrK6uFsikaCZnxLX8svFj7dSZMwSC6xuFNUEen7K2gMvU4/c1QJ+njL4ecrw5IpDgn3D4iPsPl9jMs36OHp4js0+8n+WercOEiylsm56X/x29AZm3tfOoc9NCCF2B00FBQUUJDVxBgMDnYGBgWHwS/XCp+mX8wEY+zA9ntgKqlqKpgHr3Zj5BcL8TBM/oKlvN+kj1wsBCJtAWssmPdQzutZzij3+1Q0n8d9HugGoW6ZJ6iHB2K7NBeuqBfkoYGAYPNyr9mtyJRKzmibHjJExDIPfj93E5eqWFyW8nx+VlzAj2b1FAHq0DHTI8xJCCJ/df+HZgCkjIwNnzpyBRCJBbGwsunfv7vCLI40j+bsDuJhbii8f68FtYwOYJ/u3trlhIL+myRTbgRsQBk387uJi/Z1sVarRcYvg8j/H+YGcn6dM8OE7wIbFXC0FRWy2zN/T/kwTi5+Z++npPogO8nbJ9eWs8TBdRsVBmaa9F2/judSjovsYXvGSXCoxC9wIIcRR7A6acnNzMXHiROzevRsBAQFgGAZqtRoDBw5EamoqmjVzjc7EpG40Oj3+uWjMKt3/xT6z/fYsS8HOnhNTWCYeNBXwttenHuYmb8jsdkmV6Patz9+Dh77cj6zCCsRF+Nv0YSuWaUpsE8wFX7UVk1vDf71Rge4XMAHmw3OOWnuOn4UzpecFTe7U04oQ4n7sLgSfNWsWiouLcerUKRQUFKCwsBAnT55EcXExZs+e7YxrJA2IX6wtxnRtL2vkIpmmI9cLcbtUg13n8rhtReVaPPK/dBgMDAp5Gai6TB9nGAbTV2Vg6Cd/cdtC/Wu6Qj/WpyUAYHSXSESovPBVcg98Pqk7fpmeaNP5+UHTske7Y0rfVlj6SFfe7Lm6f2i3beaLUZ0j8PS9baw22XRlphMBHVXTxM/gBXrLoeBlDHu3DuZu27L4MSGE1JXdf2HS0tKwfft2xMbGctvi4uLw+eefIykpyaEXRxyjSmfAsawi+HvKa52+frvUfFYZn9KOD3OZSE3TjjO5SP0302z7/sv5uFFUgd28YKouw3NF5VpsOZkt2MYfTnx2QFt0ivRH56gAAECnSBU6Rdo+y8qXV+jdo1UgpB4SpKzMwLHMIgD1G56TSCT4bJJ7D3OP7hKJ9zaf5e7XZ4iVz0dZ83P31N1t8NG289z9h3tF45UNxsWjaYFeQogz2Z1pMhgMkMvNPxjkcjkMDp5eTBxjztojeOjL/Rj6yV84c0u8SzarsMz6kiZKO7osm86eA4CdZ3MtBmYXTZZoqcvQDj9TBQD3dGgmWN5FIpFgQEwogurYzsCXl0kK8FKgpFLHBUxA/TJNTUGEygsnFiThf8nGejitg4bn+AXlT/ZrLchC8r+/PpRpIoQ4kd1B03333YfnnnsON2/e5LbduHEDzz//PAYNGuTQiyOOceByTY8lS0uLsApMgo6XTBaEtWfYSGz2HL+lgKksXo8mANDXIQg3DZo8HbyURvMAL8wd0gELRsdBIfMwq2GyJxPXVPl5yrklTBxVCM42Q72nQzN4Wckm0fAcIcSZ7P5E+eyzz1BSUoJWrVqhbdu2aNeuHVq3bo2SkhJ8+umndp1r4cKF6NWrF/z8/BAaGopx48bh3LlzgmOmTJkCiUQi+OrTp4/gGI1Gg1mzZiEkJAQ+Pj4YM2YMsrKyBMcUFhYiOTkZKpUKKpUKycnJKCoqEhxz/fp1jB49Gj4+PggJCcHs2bNRVSX8EHY3hWVV3CwywHrQMn1VBrfA7diukbj6/khMH9BWcIw9mSbTBXwBoJy3JMiH4zsL9t0wCZrqkmky7cHkjNqgWYPaY0o/47IxppklpZU2C3cSNmB21PAcWxulsDIjE6DhOUKIc9n9Fz46OhqHDx/Gpk2bMGfOHMyePRubN29GRkYGoqKi7DrXnj17MGPGDKSnp2Pbtm3Q6XRISkpCWZnwg33YsGG4desW97V582bB/jlz5mDDhg1ITU3F3r17UVpailGjRkGvr/mAnjRpEo4ePYq0tDSkpaXh6NGjSE5O5vbr9XqMHDkSZWVl2Lt3L1JTU7Fu3TrMnTvX3rfIpVy+LRzy2nM+T/S4Uo1OUAsUwMug/GdUHHfbWu8laxY/1MVs4VnTXjpZhcKApy4fuIerezOxvJyc+THNbNAisUbs0KyjCsHZ89T280fDc4QQZ6rzX5ghQ4ZgyJAh9XrytLQ0wf3ly5cjNDQUGRkZuOeee7jtSqUS4eHhoudQq9X49ttv8cMPP2Dw4MEAgFWrViE6Ohrbt2/H0KFDcebMGaSlpSE9PR29e/cGAHz99ddITEzEuXPnEBMTg61bt+L06dPIzMxEZKSxcHjJkiWYMmUK3n33Xbdt6Jlfaswy+XvKUFypw8XcUugNjFkWyLTWKcC7puZnav/WuFFYAX8vGcItLFpbG4XMAwqpByq1NR+ipgEHv7M2ULdM0+FrRYL7eicvQNY8wEtwv65BZVPDTgLQOqjOsao6gGaD0kd7t8DqA9cx0aT5J79gnBBCHM2uv/AGgwHfffcdRo0ahfj4eCQkJGDMmDFYuXKloMFcXanVxkVUg4KCBNt3796N0NBQdOjQASkpKcjNrVkyISMjA1qtVjBzLzIyEvHx8di3z9hnaP/+/VCpVFzABAB9+vSBSqUSHBMfH88FTAAwdOhQaDQaZGRk1Pu1NRSDgcFnOy9g38XbAICK6rW6Okb4I9BbjvIqPf4yyTYZDAyWbBUOiwaYdPx+fXQc5gzuUOfrCvFVmAUUXgopXh1RMwuzvjVNl/JKcdok+KvPbDZbBPooBNPsKdNkxLYEyCyowMXcknqfzzTT9MboTkid1gdvjY0XHEeZJkKIM9n8F55hGIwZMwZPPfUUbty4gYSEBHTq1AnXrl3DlClTcP/999frQhiGwQsvvID+/fsjPr7mD+Hw4cOxevVq7Ny5E0uWLMG///6L++67DxqNcQZWdnY2FAoFAgOFQz1hYWHIzs7mjgkNNV9oNTQ0VHBMWFiYYH9gYCAUCgV3jCmNRoPi4mLBV2P74/hNLN56HpO+OQCgZoFTP6UM93czDp+uOyys9zqbXYL06mLxjuF+6NEyEMMdtObZ+w8k4Kn+rZHYJlhQWwUYh86eurs1Fow2Dv/lmSyiu2LfNbuea+W+q9ztLc/djQe7R+HxxJZ1u3A7dIkO4G5T0GTE7wb/gEiTVHuxheBs0KSQeaBPm2Cz97t/u5B6PxchhFhi83/LVqxYgb/++gs7duzAwIEDBft27tyJcePGYeXKlXj88cfrdCEzZ87E8ePHsXfvXsH2hx9+mLsdHx+Pnj17omXLlti0aRMeeOABi+djGEbQ4Vms23NdjuFbuHAh3nzzTcsvqoH9e7UAH/P61wBARXXhtadCir5tg/HdP1eQaZLReX7tUQBAfHN/bJx1t0OvaeJdLUS3yzwk3Adg21Bf0WNq6xllil3EtW0zH8RG+GPJhC52Pb6u+HVTYg0970T896GYt1RNXYX4KhHf3B9RgV6i+/9+cSAu5pXi7va0IgEhxHls/m/xmjVr8Morr5gFTICxDcHLL7+M1atX1+kiZs2ahd9//x27du2qtZg8IiICLVu2xIULFwAA4eHhqKqqQmGhsAA4NzeXyxyFh4cjJyfH7Fx5eXmCY0wzSoWFhdBqtWYZKNb8+fOhVqu5r8xM86aNDeVyXike+nI/rvJmjx24nI+K6hoiL7mUG7oo1wg/xM7lGIdPTt5ouEyZMNAQ/hg286vp4G2wo66JXbbF1rXxHIX/WuyZXdiUWVtCpy4m9W6BjbPuxoyB7UT3Rwd5Y2CMeTaZEEIcyea/bMePH8ewYcMs7h8+fDiOHTtm15MzDIOZM2di/fr12LlzJ1q3bl3rY/Lz85GZmYmICOPwUY8ePSCXy7Ft2zbumFu3buHkyZPo27cvACAxMRFqtRoHDx7kjjlw4ADUarXgmJMnT+LWrVvcMVu3boVSqUSPHjUL1/IplUr4+/sLvpytqLwKaSezzYKJz3ddMjv2050X8dlOY3BpYBiuSJY/7V+jq7nt04DTtfm9dkyHWPjTxqvsmH3FvhalvGEDF35bA4WUCpEB64s1E0KIu7L506WgoMBixgUw1hCZZntqM2PGDKxatQo//vgj/Pz8kJ2djezsbFRUGIePSktLMW/ePOzfvx9Xr17F7t27MXr0aISEhHA1VCqVClOnTsXcuXOxY8cOHDlyBI899hgSEhK42XSxsbEYNmwYUlJSkJ6ejvT0dKSkpGDUqFGIiYkBACQlJSEuLg7Jyck4cuQIduzYgXnz5iElJcWlZs4t3HwWz6zKwBu/nxJsv3LbfEFTmVSCMnZ4Ti7lFjMtq6rJNPHriMQWo3UWQdAkNQ2aakaNbZ2yfjG3FD8dyhI9n7OxrRMiVZ5o3cynQZ/bVdEsQkJIU2RzTZNer4dMZvlwqVQKnc6+2oVly5YBAAYMGCDYvnz5ckyZMgVSqRQnTpzAypUrUVRUhIiICAwcOBBr166Fn1/NGmoff/wxZDIZJkyYgIqKCgwaNAgrVqyAlPe//tWrV2P27NncLLsxY8bgs88+E1z/pk2b8Oyzz6Jfv37w8vLCpEmTsHjxYrtek7OtPWQcAvwh/RreHldTMG9aZA1AsI7b/yXFoLI6E1Ouqcku8RtKWqrdcgZrw3P+nvygyfrw3P/+uoSPt13gZgkCDd+V+8n+rfFg9yj4KKWi6+3dicSW0CGEEHdnc9DEMAymTJkCpVIpup+dzWaP2toUeHl54c8//6z1PJ6envj000+tdiQPCgrCqlWrrJ6nRYsW2LhxY63P15gUMg9uJhEf24+JtfihLpj3s3G4NCbMD4E+ClRq9ZBLJajSG3Dldhlah/gIpvm/MKTuLQXs5WmleLp5gBdkHhLoDEytmaYyjV4QMAGNU1ek8m64LJ07qGvw+O3eK2gV7I1BsZaz2oQQ0lhs/ss2efJkhIaGcsuQmH6FhobWeeYcsR2/7ogNOiu1epRWF3fvn38frr4/EsPia5qBhvobA11PuRStgo3DRxuq2w5kVnfh7tMmCA/2sK+je30YeAGzaaYpMsCL23bPh7uQevC6xfNUmgRMABVju4K6zCI8llmEtzeextTvD3HbTmSp0erlTZi95ogjL48QQurE5kzT8uXLnXkdxAqDgcH1gnK0DPYWdMku1ejg5ynnhubkUgnC/Y0du8t5dUv8WqULucbap//uvIgXkmKQWWDMNDVEf5voIC/u+fjDgqZBjjFokqBCC2h0Bry8/oTF1gWmWSYA8FFQg8PGVpeaJrEWE8+sMjaW/f3YTcwZ3B5tmom3pyCEkIZA/yV3A29tPI0Bi3ej85tbUcLrecMuO1JQPTQX7KPk6pIqeDPkxBbOZbHrvUUFejv8uk39NqM/d5tfg2X6ARsR4Glzk0j+62Txm02SxlGXmib+zwE7BM0PpEw72RNCSEOjoMkNrKjudF1i0iTwmR+M/wu/XWb8YAnyqVkvjt9WwINX4M3POlXpDFxNU3SQeNNARwryUYh+mHoppILtzQO8bF53jp9pahXsjY2z+gv6PJHGUZdJBfyfATYY1vDq99YczHTIck2EEFJXFDS5MbZdwJFrxlYPwb7iQVNim2Du9m8z+nG3MwvLcUtdHTQ1QKYJAH5M6YNQPyW+eLQ7t81TLsV79ydw9yNUnmYBoiX8mqY+bYIR31zluIslDYofDvHbYrCWTOjSoDM8CSHEFBV/uKGYMD+cyylBWZUea/+9ji0njZ3MI1U12SL+sNV4XoF3qxAftGnmg8t5Zfho63kYGOOMvIbKztzVOggHXx1str17ywAAgJ+nDH6ecjzVvzW++usyAOtDPfzgqhMFTG6NPyt0+urDZrNEKSAmhDQ2Cprc0EcPd8HI/xrX6Htp3Qlu+5R+rbjb0UFemDukAwJ8FPAwCTpy1JUAgE0njN3POzdXNfr/4G8WGa+peYAx8Js/IhbdWgTimVUZaG5hvTGgpjbqx5Te6NuWFmt1R0euF8LfSy4YijuWWdR4F0QIIRZQ0OSGxIq2B8eGITaipnN5y2AfzBrUXvTxvp4yrlM4AEztX/vyNc6m1RsQHeSFFkE1r40NoMT6UrHyqwuFQ3ypjskd5RZX4v4v9gEAPn2kWyNfDSGEWEc1TW5gsEmjP1+leaxrz/Dau+MSBPdziivrdmEONCg2DH+/eB/+93hPbhs7g85S0KTVG1BYrgUABPOK4In7uKWu+dlzhZ9DQgixhoImN9CnTRB3W+UlF20h4GXH0iEtgoWZqtqWKmksbINES0FTYfXQnIcECPSmoMkd8dcgfGfTGYvHURaKEOIKaHjODfB7Fk28K1r0GC+F7fFvmxAfdI0OQIivEt9M7ln7AxoJ+4FartWDYRizuqvb1f2pgnyUZnVbxD3obWwt0TK4YWZ3EkKINRQ0uQF+0z+lTDyjZGm7GJnUA7/yWg+4KjZ7pDcwKK7UCXpMncsuwYj//g0ACPGlLJO70tmY5fRWNOwizIQQIoaG59wAfziODRwWP9QFU/q24rZbK5Z2V55yKfdhWVgmXJD4t6M3uNtiPX2Ie1jwxymbjvOipXEIIS6AgiY3EKHy5G7f3605AGPvpQVjOsHP0/hhEhHgKfpYd8d2OS8oFwZNN4tq1q6jtebcV0Z1Y9ba+FCmiRDiAujTxg30axuC5VN6oXOUSrBUCgAsn9ILZ7NL8FAP8Vondxfko0BWYYVZpimLt+Dv2+PiG/qySAPzoqCJEOICKGhyAx4eEgzsGCq6r2erIPRsFSS6rylg65ryLQRNv87oh660QK9LGtQxFDvO5iLKSnNSWymklBQnhDQ++ktEXBqbWTPNNOVXL1JMi/O6rkm9WwAQ76FVUqnF+GX7bD5XY3esJ4QQgIIm4uLYmq2FW85y2zQ6Pddbit1PXA/bBkKsq0CpRodDNtYzEUKIq6Cgibi0oyJrkJXyFumlInDX5SFhgybzqKlMozfbBhizU/wFpgEqAieEuA4KmohLaxfqy91mqj982Q9cL7lUtDs6cQ3st0asgWW5hTYRAV5yfPBgZ6xJ6cNtiw6ixpaEENdAQRNxaS8M6cDdrtIbe1HlVS/S60tDcy6NzTSJJJosZpp8lDJIPSRIbBvMbaPAmBDiKihoIi6NX+itqW7g+esRY2PLni0DG+WaiG3Y2m0GtmeaxLJKHlQETghxERQ0EZemkHpwH76VWmN2Iu1UNgDgkbtaNNZlERtIYLkQvLxKPNPUIczXbBslmgghroKCJuLSJBIJlNULFmu0BgxYtAt5JcbhuVbBPo15aaQWbLDDiIzPafXiy/6IrqFImSZCiIugoIm4PPaDVKPT42p+ObddJqUPU1cmsVLTpOOln0Z2juBuK2Tmf5Io00QIcRUUNBGX5yk3/pjeLKoUbKegybVxmSaRfbrqPltD4sLweJ+W3HalSNAko6iJEOIiKGgiLo/NNJ25VSzYLvOgH19Xxo6qXbldhvzqGY8svcE4PGcaEPEzTa+NjIXKS05rCxJCXAZ96hCXx2aa+F3BAco0uTr+0icfbz8v2McOz8mkHoJCcX6m6am72+DIf4agY7i/cy+UEEJsREETcXmixcGgYRtXx//ulFQKWwyww3MyD4mgUNx0YV4P+h4TQlwIBU3E5YnVuQA0POfq+Jkm07YDXKbJQyLYRwvzEkJcGX3qEJfnKadMkzvif3tM15/japqkEsRG+DXkZRFCSJ3ROhTE5VnKNNHQjWuT8AboTHs1aauH56QeEgT7KrHv5fto8WVCiMujv1LE5SnllBB1R/yRNtNeTXpueM74vY0M8GqoyyKEkDqjTyPi8jwtFIIT1yaxMjyntdBygBBCXBkFTcTlsZmmuUM64MPxnRv5aoitPKwUguvZ4TlqG0EIcSMUNBGXx7YcqNTpQR+x7sPa8NzRzCIAgJRmyxFC3EijBk0LFy5Er1694Ofnh9DQUIwbNw7nzp3j9mu1Wrz00ktISEiAj48PIiMj8fjjj+PmzZuC8wwYMAASiUTwNXHiRMExhYWFSE5OhkqlgkqlQnJyMoqKigTHXL9+HaNHj4aPjw9CQkIwe/ZsVFVVOe31E9uwmSaN1oCEKFUjXw2xFT/TZFoIfuhaoeBfQghxB40aNO3ZswczZsxAeno6tm3bBp1Oh6SkJJSVlQEAysvLcfjwYfznP//B4cOHsX79epw/fx5jxowxO1dKSgpu3brFfX311VeC/ZMmTcLRo0eRlpaGtLQ0HD16FMnJydx+vV6PkSNHoqysDHv37kVqairWrVuHuXPnOvdNILWqWbDXgI7h/liT0ge75w1o3IsiteLnkNiaptxi4fqBQ2LDGvCKCCGkfhp19lxaWprg/vLlyxEaGoqMjAzcc889UKlU2LZtm+CYTz/9FHfddReuX7+OFi1acNu9vb0RHh4u+jxnzpxBWloa0tPT0bt3bwDA119/jcTERJw7dw4xMTHYunUrTp8+jczMTERGRgIAlixZgilTpuDdd9+Fvz8t5dBY2GVUKrV6AEBi2+DGvBxiI9Pmlp/tvIDFW8/jlREdEe7vieziSvpeEkLcikvVNKnVagBAUFCQ1WMkEgkCAgIE21evXo2QkBB06tQJ8+bNQ0lJCbdv//79UKlUXMAEAH369IFKpcK+ffu4Y+Lj47mACQCGDh0KjUaDjIwM0WvRaDQoLi4WfBHH42eaiPsQ1DQBWLzVuP7ce5vPQqs3fi/lUpf6E0QIIVa5TJ8mhmHwwgsvoH///oiPF1/VvLKyEi+//DImTZokyPw8+uijaN26NcLDw3Hy5EnMnz8fx44d47JU2dnZCA0NNTtfaGgosrOzuWPCwoRDBYGBgVAoFNwxphYuXIg333yzTq+X2I5tbslmmoh74A/PmdY0VVUHTQoLjUsJIcQVuUzQNHPmTBw/fhx79+4V3a/VajFx4kQYDAZ88cUXgn0pKSnc7fj4eLRv3x49e/bE4cOH0b17dwDia1oxDCPYbssxfPPnz8cLL7zA3S8uLkZ0dLSVV0nqwldp/DEtq9LVciRxJcJCcOG+Kh2baaLZc4QQ9+ES/82bNWsWfv/9d+zatQtRUVFm+7VaLSZMmIArV65g27ZttdYXde/eHXK5HBcuXAAAhIeHIycnx+y4vLw8LrsUHh5ullEqLCyEVqs1y0CxlEol/P39BV/E8fy9jEFTcQUFTe7EWnNLdqhVQcNzhBA30qh/sRiGwcyZM7F+/Xrs3LkTrVu3NjuGDZguXLiA7du3Izi49sLRU6dOQavVIiIiAgCQmJgItVqNgwcPcsccOHAAarUaffv25Y45efIkbt26xR2zdetWKJVK9OjRo74vldSDv6ccAFBcqW3kKyH2EDa3ZESPoeE5Qog7adThuRkzZuDHH3/Eb7/9Bj8/Py7To1Kp4OXlBZ1Oh/Hjx+Pw4cPYuHEj9Ho9d0xQUBAUCgUuXbqE1atXY8SIEQgJCcHp06cxd+5cdOvWDf369QMAxMbGYtiwYUhJSeFaEUybNg2jRo1CTEwMACApKQlxcXFITk7GokWLUFBQgHnz5iElJYUySI3M38sYNJVUUqbJXVmImagQnBDiVhr1L9ayZcugVqsxYMAAREREcF9r164FAGRlZeH3339HVlYWunbtKjiGnfWmUCiwY8cODB06FDExMZg9ezaSkpKwfft2SKU1a5atXr0aCQkJSEpKQlJSEjp37owffviB2y+VSrFp0yZ4enqiX79+mDBhAsaNG4fFixc37JtCzPh5ssNzWrOCYuK6PDws1zSxKGgihLiTRs001fYB2KpVq1qPiY6Oxp49e2p9rqCgIKxatcrqMS1atMDGjRtrPRdpWOzwnM7AoEKrh7fCZeYvECvEmluaokJwQog7of/mEZfnrZBCWp21oCE69yGYPSeyXyH1sDgzlRBCXBEFTcTlSSQSwRAdcQ/WZs8BlGUihLgfCpqIW6AZdO5HODxnvp9mzhFC3A391SJugevVRMNzbkMiaG4plmmiPz+EEPdCf7WIW+AyTTQ85zYEa8+JZJooaCKEuBv6q0XcAlfTRJkmt1Fbc0slDc8RQtwM/dUibiHEV4lQPyWkNNvKbfC/U3qRoibKNBFC3A01vCFu4d37E/Du/QmNfRnEDvxMk2jQJKMAmBDiXui/eoQQ5+DFRHoqBCeENAH0V4sQ4hQe/D5NBgZdowME+xUUNBFC3Az91SKEOAW/5YDOwMBLLhXspz5NhBB3Q3+1CCFOYZppMp1BR8NzhBB3Q3+1CCFOIeEVNekZ86Apq7C8oS+JEELqhYImQohTCNeeM59Bdz6ntIGviBBC6oeCJkKIU/CDJr2BEV1/jhBC3An1aSKEOF1BWZVZITghhLgbyjQRQpxCAmHzyhtFFY10JYQQ4hgUNBFCnEIh80DnKFVjXwYhhDgMBU2EEKd5eXjHxr4EQghxGAqaCCFOY22B5Z4tAxvwSgghpP4oaCKEOI1Majlo+u8j3RrwSgghpP4oaCKEOI2HlUxTqJ+yAa+EEELqj1oOEEKcRuZh/v+yF4fFoH2oH2S0jAohxM1Q0EQIcRqRmAkPdo9CmL9nw18MIYTUE/1XjxDiNGKZJgVlmAghbor+ehFCnEYsPlLI6M8OIcQ90V8vQojTiBWCSz0sF4cTQogro6CJEOI0YsNz1mbUEUKIK6OgiRDiNGKF4BQzEULcFQVNhBCnoUwTIaQpoaCJEOI0YpkmKmkihLgrCpoIIU4jlmmSUKaJEOKmKGgihDiN6YK9FC8RQtwZBU2EEKeRmPyFoXomQog7o6CJEOI0piEShUyEEHfWqEHTwoUL0atXL/j5+SE0NBTjxo3DuXPnBMcwDIMFCxYgMjISXl5eGDBgAE6dOiU4RqPRYNasWQgJCYGPjw/GjBmDrKwswTGFhYVITk6GSqWCSqVCcnIyioqKBMdcv34do0ePho+PD0JCQjB79mxUVVU55bUTcidQyqSC+5RpIoS4s0YNmvbs2YMZM2YgPT0d27Ztg06nQ1JSEsrKyrhjPvzwQ3z00Uf47LPP8O+//yI8PBxDhgxBSUkJd8ycOXOwYcMGpKamYu/evSgtLcWoUaOg1+u5YyZNmoSjR48iLS0NaWlpOHr0KJKTk7n9er0eI0eORFlZGfbu3YvU1FSsW7cOc+fObZg3g5AmSCHzQMtg75oNFDMRQtwZ40Jyc3MZAMyePXsYhmEYg8HAhIeHM++//z53TGVlJaNSqZgvv/ySYRiGKSoqYuRyOZOamsodc+PGDcbDw4NJS0tjGIZhTp8+zQBg0tPTuWP279/PAGDOnj3LMAzDbN68mfHw8GBu3LjBHbNmzRpGqVQyarXaputXq9UMAJuPJ+RO0PKljdxXzGubG/tyCCHEjK2f3y5V06RWqwEAQUFBAIArV64gOzsbSUlJ3DFKpRL33nsv9u3bBwDIyMiAVqsVHBMZGYn4+HjumP3790OlUqF3797cMX369IFKpRIcEx8fj8jISO6YoUOHQqPRICMjQ/R6NRoNiouLBV+EEMtoeI4Q4s5cJmhiGAYvvPAC+vfvj/j4eABAdnY2ACAsLExwbFhYGLcvOzsbCoUCgYGBVo8JDQ01e87Q0FDBMabPExgYCIVCwR1jauHChVyNlEqlQnR0tL0vm5A7CoVMhBB35jJB08yZM3H8+HGsWbPGbJ9pMzyGYWptkGd6jNjxdTmGb/78+VCr1dxXZmam1Wsi5E5HmSZCiDtziaBp1qxZ+P3337Fr1y5ERUVx28PDwwHALNOTm5vLZYXCw8NRVVWFwsJCq8fk5OSYPW9eXp7gGNPnKSwshFarNctAsZRKJfz9/QVfhBCht8Z2qrlDMRMhxI01atDEMAxmzpyJ9evXY+fOnWjdurVgf+vWrREeHo5t27Zx26qqqrBnzx707dsXANCjRw/I5XLBMbdu3cLJkye5YxITE6FWq3Hw4EHumAMHDkCtVguOOXnyJG7dusUds3XrViiVSvTo0cPxL56QO0SXqADuNmWaCCHuTNaYTz5jxgz8+OOP+O233+Dn58dlelQqFby8vCCRSDBnzhy89957aN++Pdq3b4/33nsP3t7emDRpEnfs1KlTMXfuXAQHByMoKAjz5s1DQkICBg8eDACIjY3FsGHDkJKSgq+++goAMG3aNIwaNQoxMTEAgKSkJMTFxSE5ORmLFi1CQUEB5s2bh5SUFMogEVIPUt4KvbRYLyHEnTVq0LRs2TIAwIABAwTbly9fjilTpgAAXnzxRVRUVODZZ59FYWEhevfuja1bt8LPz487/uOPP4ZMJsOECRNQUVGBQYMGYcWKFZBKaxrrrV69GrNnz+Zm2Y0ZMwafffYZt18qlWLTpk149tln0a9fP3h5eWHSpElYvHixk149IXcGftBEi/USQtyZhGEYprEvoqkoLi6GSqWCWq2m7BQh1S7klGDIx38BAEJ8FTj02pBGviJCCBGy9fPbJQrBCSFNF2WaCCFNBQVNhBCnEgRNjXgdhBBSXxQ0EUKcSlgITmETIcR9UdBECHEqmUfNnxmKmQgh7oyCJkKIU/FiJso0EULcGgVNhBCn4meaCCHEndFfM0KIU/FrmgzU4YQQ4sYoaCKEOJWMgiZCSBNBQRMhxKkUspo/MxqdoRGvhBBC6oeCJkKIU8mlNX9miiu0jXglhBBSPxQ0EUIajIFG5wghboyCJkIIIYQQG1DQRAghhBBiAwqaCCFO5+cpa+xLIISQeqOgiRDidP6e8sa+BEIIqTcKmgghTqfyoqCJEOL+KGgihDidvxcNzxFC3B8FTYQQp6PhOUJIU0BBEyHE6UL8lI19CYQQUm+UMyeEON3zgzsg/XI+JvSMbuxLIYSQOqOgiRDidM38lNg5d0BjXwYhhNQLDc8RQgghhNiAgiZCCCGEEBtQ0EQIIYQQYgMKmgghhBBCbEBBEyGEEEKIDShoIoQQQgixAQVNhBBCCCE2oKCJEEIIIcQGFDQRQgghhNiAgiZCCCGEEBtQ0EQIIYQQYgMKmgghhBBCbEBBEyGEEEKIDShoIoQQQgixgayxL6ApYRgGAFBcXNzIV0IIIYQQW7Gf2+znuCUUNDlQSUkJACA6OrqRr4QQQggh9iopKYFKpbK4X8LUFlYRmxkMBty8eRN+fn6QSCSNfTlNUnFxMaKjo5GZmQl/f//Gvpwmi97nhkPvdcOg97lhuOv7zDAMSkpKEBkZCQ8Py5VLlGlyIA8PD0RFRTX2ZdwR/P393eoX0l3R+9xw6L1uGPQ+Nwx3fJ+tZZhYVAhOCCGEEGIDCpoIIYQQQmxAQRNxK0qlEm+88QaUSmVjX0qTRu9zw6H3umHQ+9wwmvr7TIXghBBCCCE2oEwTIYQQQogNKGgihBBCCLEBBU2EEEIIITagoIkQQgghxAYUNJEGt3DhQvTq1Qt+fn4IDQ3FuHHjcO7cOcExDMNgwYIFiIyMhJeXFwYMGIBTp04Jjvnf//6HAQMGwN/fHxKJBEVFRWbPdfjwYQwZMgQBAQEIDg7GtGnTUFpa6syX5zIc8T4XFBRg1qxZiImJgbe3N1q0aIHZs2dDrVYLzlNYWIjk5GSoVCqoVCokJyeLfj/+v727DWmyfcMAfixrvjRbznITRNrTG1ZG1IdKojJSBkVFFFFiSQUtKoIgoj6kEUXYG6Uf7IVWQZRBRX4IKdC0F7WISVIkJVq5uYwVGpku2/l86N+e9tenZ+W9e06PH+zDrl1e93UeG3Lu3tg9EKmZ84EDB5CWloaYmBiMHDlSjfL6DbVybmpqwoYNG2A2mxEdHY2xY8ciNzcXHo9HtVpDSc3X85IlS5CcnIyoqCgkJiYiOzsbTqdTlTr/FJsmUl1FRQW2bNmC6upq3LlzB93d3cjMzMTnz599c/Lz83Hs2DEUFhbi8ePHMJlMyMjI8F3fDwA6OjpgsViwZ8+eXo/jdDqxcOFCjBs3DjU1NSgtLcWzZ8+Qk5MT7BL7BSVydjqdcDqdOHLkCOrq6nD+/HmUlpZiw4YNfsdas2YNamtrUVpaitLSUtTW1iI7O1vVekNFzZw9Hg9WrlyJzZs3q1pjf6BWzi9evIDX68WpU6fw7NkzHD9+HEVFRf/6f2agUfP1nJ6ejqtXr6K+vh7Xrl1DQ0MDVqxYoWq9v02IQqy1tVUASEVFhYiIeL1eMZlMcujQId+czs5O0ev1UlRU1OPvy8vLBYB8/PjRb/zUqVOSkJAg3759843Z7XYBIC9fvgxOMf1YX3P+4erVq6LVauXr168iIvL8+XMBINXV1b45VVVVAkBevHgRpGr6r2Dl/DObzSZ6vV7xvYcTNXL+IT8/X8xms3KbDyNq5nzz5k3RaDTi8XiUK0BhPNNEIffjlK3BYAAANDY2wuVyITMz0zcnMjIS8+bNw8OHDwNet6urC1qt1u/ii9HR0QCA+/fvK7H1sKJUzm1tbRgxYgSGDv1+6cqqqiro9XrMnDnTN2fWrFnQ6/W/9XwNFMHKmfypmXNbW5vvOIONWjl/+PABly5dQlpaGoYNG6ZgBcpi00QhJSLYsWMH5syZgylTpgAAXC4XAMBoNPrNNRqNvscCsWDBArhcLhw+fBgejwcfP370nWJvaWlRqILwoFTObrcb+/fvx6ZNm3xjLpcLCQkJPeYmJCT81vM1EAQzZ/qHmjk3NDSgoKAAVqtVod2HDzVy3rVrF4YPH474+Hi8efMGN2/eVLgKZbFpopDaunUrnj59isuXL/d4TKPR+N0XkR5jvzJ58mRcuHABR48eRUxMDEwmE/766y8YjUZERET0ee/hRImc29vbsWjRIkyaNAm5ubm/XONX6wxkwc6ZvlMrZ6fTCYvFgpUrV2Ljxo3KbD6MqJHzzp07Ybfbcfv2bURERGDt2rWQfnyhEjZNFDLbtm1DSUkJysvLkZSU5Bs3mUwA0ONdS2tra493N/9lzZo1cLlccDgccLvdyMvLw/v372E2m/teQJhQIudPnz7BYrFAp9Phxo0bfqfPTSYT3r171+O479+//+3nK5wFO2f6Tq2cnU4n0tPTMXv2bJw+fToIlfRvauU8atQoTJgwARkZGbhy5Qpu3bqF6urqIFSkDDZNpDoRwdatW3H9+nWUlZX1aGDMZjNMJhPu3LnjG/N4PKioqEBaWtofHdNoNEKn06G4uBhRUVHIyMjoUw3hQKmc29vbkZmZCa1Wi5KSEkRFRfmtM3v2bLS1teHRo0e+sZqaGrS1tf3x8xVO1Mp5sFMzZ4fDgfnz52P69Omw2Wx+34sc6EL5ev5xhqmrq0uhaoJA7W+eE23evFn0er3cvXtXWlpafLeOjg7fnEOHDoler5fr169LXV2drF69WhITE6W9vd03p6WlRex2u5w5c0YASGVlpdjtdnG73b45BQUF8uTJE6mvr5fCwkKJjo6WEydOqFpvqCiRc3t7u8ycOVNSU1Pl1atXfut0d3f71rFYLDJ16lSpqqqSqqoqSU1NlcWLF6tecyiomfPr16/FbrfLvn37RKfTid1uF7vdLp8+fVK9brWplbPD4ZBx48bJggULpLm52W/OYKBWzjU1NVJQUCB2u12ampqkrKxM5syZI2PHjpXOzs6Q1B4INk2kOgC93mw2m2+O1+uV3NxcMZlMEhkZKXPnzpW6ujq/dXJzc/9znezsbDEYDKLVamXq1Kly8eJFlaoMPSVy/vFzDr3dGhsbffPcbrdkZWVJbGysxMbGSlZWVo+fgBio1Mx53bp1vc4pLy9Xr+AQUStnm832r3MGA7Vyfvr0qaSnp4vBYJDIyEgZM2aMWK1WaW5uVrni36MR6cffuCIiIiLqJwbPB7VEREREfcCmiYiIiCgAbJqIiIiIAsCmiYiIiCgAbJqIiIiIAsCmiYiIiCgAbJqIiIiIAsCmiYjof/Ly8jBt2rRQb4OI+in+uCURDQq9XYH9Z+vWrUNhYSG6uroQHx+v0q6IKJywaSKiQeHnq7IXFxdj7969qK+v941FR0dDr9eHYmtEFCb48RwRDQomk8l30+v10Gg0Pcb+/+O5nJwcLFu2DAcPHoTRaMTIkSOxb98+dHd3Y+fOnTAYDEhKSsK5c+f8juVwOLBq1SrExcUhPj4eS5cuRVNTk7oFE5Hi2DQREf1CWVkZnE4nKisrcezYMeTl5WHx4sWIi4tDTU0NrFYrrFYr3r59CwDo6OhAeno6dDodKisrcf/+feh0OlgsFng8nhBXQ0R9waaJiOgXDAYDTp48iYkTJ2L9+vWYOHEiOjo6sGfPHowfPx67d++GVqvFgwcPAABXrlzBkCFDcPbsWaSmpiIlJQU2mw1v3rzB3bt3Q1sMEfXJ0FBvgIioP5s8eTKGDPnn/aXRaMSUKVN89yMiIhAfH4/W1lYAwJMnT/Dq1SvExsb6rdPZ2YmGhgZ1Nk1EQcGmiYjoF4YNG+Z3X6PR9Drm9XoBAF6vFzNmzMClS5d6rDV69OjgbZSIgo5NExGRgqZPn47i4mIkJCRgxIgRod4OESmI32kiIlJQVlYWRo0ahaVLl+LevXtobGxERUUFtm/fjubm5lBvj4j6gE0TEZGCYmJiUFlZieTkZCxfvhwpKSlYv349vnz5wjNPRGGOP25JREREFACeaSIiIiIKAJsmIiIiogCwaSIiIiIKAJsmIiIiogCwaSIiIiIKAJsmIiIiogCwaSIiIiIKAJsmIiIiogCwaSIiIiIKAJsmIiIiogCwaSIiIiIKAJsmIiIiogD8DbCOdmMHCS3HAAAAAElFTkSuQmCC",
>>>>>>> upstream/main
      "text/plain": [
       "<Figure size 640x480 with 1 Axes>"
      ]
     },
     "metadata": {},
     "output_type": "display_data"
    }
   ],
   "source": [
    "# Write your own code\n",
<<<<<<< HEAD
    "plt.plot(\"date\",\"djia\", \n",
    "         data = financial)\n",
    "plt.xlabel(\"Time\")\n",
    "plt.ylabel(\"Dow Jones Industrial Index\")\n",
    "plt.title(\"The evolution of the stock market (Dow Jones)\")\n"
=======
    "\n",
    "plt.plot(\"date\", \"djia\",\n",
    "          data = financial)\n",
    "plt.xlabel(\"Time\")\n",
    "plt.ylabel(\"Dow Jones Index\")\n",
    "plt.title(\"The evolution of the stock market\")\n",
    "\n"
>>>>>>> upstream/main
   ]
  },
  {
   "attachments": {},
   "cell_type": "markdown",
   "metadata": {},
   "source": [
    "# <span style=\"color:darkblue\"> II. Dates + Wild Cards  </span>"
   ]
  },
  {
   "attachments": {},
   "cell_type": "markdown",
   "metadata": {},
   "source": [
    "<font size = \"5\">\n",
    "\n",
    "Convert to string (a)\n",
    "\n",
    "\n",
    "- A wildcard ```%``` is used to denote date formats\n",
    "- Useful when working with text data\n",
    "\n",
    "$\\quad$ <img src=\"figures/wildcards_fig1.png\" alt=\"drawing\" width=\"300\"/>"
   ]
  },
  {
   "cell_type": "code",
<<<<<<< HEAD
   "execution_count": 16,
=======
   "execution_count": 10,
>>>>>>> upstream/main
   "metadata": {},
   "outputs": [],
   "source": [
    "# \"String from time\" .dt.strftime()\n",
    "# The first argument needs to be a datetime type \n",
    "# The second argument is the format you want to use\n",
    "# Note: \"dt\" stands for datatime\n",
    "\n",
    "financial[\"month_str\"] = financial[\"date\"].dt.strftime(\"%m\")\n",
    "financial[\"week_str\"]  = financial[\"date\"].dt.strftime(\"%W\")\n"
   ]
  },
  {
   "attachments": {},
   "cell_type": "markdown",
   "metadata": {},
   "source": [
    "<font size = \"5\">\n",
    "\n",
    "Convert to string (b)\n",
    "\n",
    "$\\quad$ <img src=\"figures/wildcards_fig2.png\" alt=\"drawing\" width=\"400\"/>"
   ]
  },
  {
   "cell_type": "code",
<<<<<<< HEAD
   "execution_count": 14,
=======
   "execution_count": 11,
>>>>>>> upstream/main
   "metadata": {},
   "outputs": [],
   "source": [
    "financial[\"monthname\"]   =  financial[\"date\"].dt.strftime(\"%B\")\n",
    "financial[\"weekdayname\"] =  financial[\"date\"].dt.strftime(\"%A\")"
   ]
  },
  {
   "attachments": {},
   "cell_type": "markdown",
   "metadata": {},
   "source": [
    "<font size = \"5\">\n",
    "\n",
    "Personalized format"
   ]
  },
  {
   "cell_type": "code",
<<<<<<< HEAD
   "execution_count": 15,
=======
   "execution_count": 18,
>>>>>>> upstream/main
   "metadata": {},
   "outputs": [
    {
     "name": "stdout",
     "output_type": "stream",
     "text": [
      "0       This is the month of April\n",
      "1       This is the month of April\n",
      "2       This is the month of April\n",
      "3       This is the month of April\n",
      "4       This is the month of April\n",
      "                   ...            \n",
      "1300    This is the month of March\n",
      "1301    This is the month of March\n",
      "1302    This is the month of March\n",
      "1303    This is the month of April\n",
      "1304    This is the month of April\n",
      "Name: date, Length: 1305, dtype: object\n",
      "0       The day of the week is Wednesday\n",
      "1        The day of the week is Thursday\n",
      "2          The day of the week is Friday\n",
      "3          The day of the week is Monday\n",
      "4         The day of the week is Tuesday\n",
      "                      ...               \n",
      "1300    The day of the week is Wednesday\n",
      "1301     The day of the week is Thursday\n",
      "1302       The day of the week is Friday\n",
      "1303       The day of the week is Monday\n",
      "1304      The day of the week is Tuesday\n",
      "Name: date, Length: 1305, dtype: object\n",
      "0       2018-04\n",
      "1       2018-04\n",
      "2       2018-04\n",
      "3       2018-04\n",
      "4       2018-04\n",
      "         ...   \n",
      "1300    2023-03\n",
      "1301    2023-03\n",
      "1302    2023-03\n",
      "1303    2023-04\n",
      "1304    2023-04\n",
      "Name: date, Length: 1305, dtype: object\n"
     ]
    }
   ],
   "source": [
    "# Insert wildcards inside custom strings\n",
    "# Internally it will \"fill-in-the-blank\" with the corresponding information\n",
    "# You can use commas, dashes (--), slash (/) or other characters\n",
    "\n",
    "message_monthname =  financial[\"date\"].dt.strftime(\"This is the month of %B\")\n",
    "\n",
    "message_monthday  =  financial[\"date\"].dt.strftime(\"The day of the week is %A\")\n",
    "\n",
    "message_yearmonth =  financial[\"date\"].dt.strftime(\"%Y-%m\")\n",
    "\n",
    "\n",
    "print(message_monthname)\n",
    "print(message_monthday)\n",
    "print(message_yearmonth)\n"
   ]
  },
  {
   "attachments": {},
   "cell_type": "markdown",
   "metadata": {},
   "source": [
    "<font size = \"5\">\n",
    "\n",
    "Try it yourself!\n",
    "\n",
    "- Create a new column called \"date_test\" <br>\n",
    "  which has the format using ```.dt.strftime()```\n",
    "  \n",
    "$\\quad$ ```Monday, December 31, 2023 ```"
   ]
  },
  {
   "cell_type": "code",
<<<<<<< HEAD
   "execution_count": 30,
=======
   "execution_count": 23,
>>>>>>> upstream/main
   "metadata": {},
   "outputs": [
    {
     "data": {
      "text/plain": [
       "0       Wednesday, April 04, 2018\n",
       "1        Thursday, April 05, 2018\n",
       "2          Friday, April 06, 2018\n",
       "3          Monday, April 09, 2018\n",
       "4         Tuesday, April 10, 2018\n",
       "                  ...            \n",
       "1300    Wednesday, March 29, 2023\n",
       "1301     Thursday, March 30, 2023\n",
       "1302       Friday, March 31, 2023\n",
       "1303       Monday, April 03, 2023\n",
       "1304      Tuesday, April 04, 2023\n",
       "Name: date, Length: 1305, dtype: object"
      ]
     },
     "execution_count": 23,
     "metadata": {},
     "output_type": "execute_result"
    }
   ],
   "source": [
    "# Write your own code\n",
    "\n",
    "date_test = financial[\"date\"].dt.strftime(\"%A, %B %d, %Y\")\n",
<<<<<<< HEAD
    "\n"
=======
    "\n",
    "date_test\n"
>>>>>>> upstream/main
   ]
  },
  {
   "attachments": {},
   "cell_type": "markdown",
   "metadata": {},
   "source": [
    "# <span style=\"color:darkblue\"> III. Data Operations </span>"
   ]
  },
  {
   "attachments": {},
   "cell_type": "markdown",
   "metadata": {},
   "source": [
    "<font size = \"5\">\n",
    "\n",
    "Parsing + wild cards\n",
    "\n",
    "$\\quad$ <img src=\"figures/wildcards_fig3.png\" alt=\"drawing\" width=\"400\"/>"
   ]
  },
  {
   "cell_type": "code",
<<<<<<< HEAD
   "execution_count": 31,
=======
   "execution_count": 25,
>>>>>>> upstream/main
   "metadata": {},
   "outputs": [],
   "source": [
    "# Combine wildcards + characters depending on the input\n",
    "# Can include spaces, commas, \"/\", \"-\" or any other formatting\n",
    "# Be careful to include the wildcar letters in upper or lower case \n",
    "# depending on the intended format \n",
    "\n",
    "financial['date_ex1_dt'] = pd.to_datetime(financial[\"date_ex1\"], format = \"%B %d %Y\")\n",
    "financial['date_ex2_dt'] = pd.to_datetime(financial[\"date_ex2\"], format = \"%A, %Y-%m-%d\")\n"
   ]
  },
  {
   "cell_type": "markdown",
   "metadata": {},
   "source": [
    "**Does the following line of code work?** ```pd.to_datetime(financial[\"date_ex1\"], format = \"%A, %Y-%m-%d\")```"
   ]
  },
  {
   "attachments": {},
   "cell_type": "markdown",
   "metadata": {},
   "source": [
    "<font size = \"5\">\n",
    "\n",
    "Period grouping"
   ]
  },
  {
   "cell_type": "code",
<<<<<<< HEAD
   "execution_count": 1,
=======
   "execution_count": 27,
>>>>>>> upstream/main
   "metadata": {},
   "outputs": [
    {
     "ename": "NameError",
     "evalue": "name 'pd' is not defined",
     "output_type": "error",
     "traceback": [
      "\u001b[0;31m---------------------------------------------------------------------------\u001b[0m",
      "\u001b[0;31mNameError\u001b[0m                                 Traceback (most recent call last)",
      "Cell \u001b[0;32mIn[1], line 5\u001b[0m\n\u001b[1;32m      1\u001b[0m \u001b[38;5;66;03m# In \"freq\" specify the letter for the level of aggregation\u001b[39;00m\n\u001b[1;32m      2\u001b[0m \u001b[38;5;66;03m# year (y), month (m), week (w), day(d)\u001b[39;00m\n\u001b[1;32m      3\u001b[0m \u001b[38;5;66;03m# There are also more advanced options! See documentation\u001b[39;00m\n\u001b[0;32m----> 5\u001b[0m month_config \u001b[38;5;241m=\u001b[39m pd\u001b[38;5;241m.\u001b[39mGrouper(key\u001b[38;5;241m=\u001b[39m\u001b[38;5;124m'\u001b[39m\u001b[38;5;124mdate\u001b[39m\u001b[38;5;124m'\u001b[39m, freq\u001b[38;5;241m=\u001b[39m\u001b[38;5;124m'\u001b[39m\u001b[38;5;124my\u001b[39m\u001b[38;5;124m'\u001b[39m)\n",
      "\u001b[0;31mNameError\u001b[0m: name 'pd' is not defined"
     ]
    }
   ],
   "source": [
    "# In \"freq\" specify the letter for the level of aggregation\n",
    "# year (y), month (m), week (w), day(d)\n",
    "# There are also more advanced options! See documentation\n",
    "\n",
    "month_config = pd.Grouper(key='date', freq='y')"
   ]
  },
  {
   "attachments": {},
   "cell_type": "markdown",
   "metadata": {},
   "source": [
    "<font size = \"5\">\n",
    "\n",
    "Aggregate by period"
   ]
  },
  {
   "cell_type": "code",
<<<<<<< HEAD
   "execution_count": 25,
=======
   "execution_count": 29,
>>>>>>> upstream/main
   "metadata": {},
   "outputs": [
    {
     "data": {
      "application/vnd.microsoft.datawrangler.viewer.v0+json": {
       "columns": [
        {
         "name": "index",
         "rawType": "int64",
         "type": "integer"
        },
        {
         "name": "date",
         "rawType": "datetime64[ns]",
         "type": "datetime"
        },
        {
         "name": "sp500_mean",
         "rawType": "float64",
         "type": "float"
        }
       ],
       "conversionMethod": "pd.DataFrame",
<<<<<<< HEAD
       "ref": "ef4a53eb-a63a-4e62-ae39-30484f82a9e7",
=======
       "ref": "f29d4540-8267-441c-a72e-329df57ef17f",
>>>>>>> upstream/main
       "rows": [
        [
         "0",
         "2018-12-31 00:00:00",
         "2751.9218617021274"
        ],
        [
         "1",
         "2019-12-31 00:00:00",
         "2913.3605555555555"
        ],
        [
         "2",
         "2020-12-31 00:00:00",
         "3217.8564822134385"
        ],
        [
         "3",
         "2021-12-31 00:00:00",
         "4273.406626984127"
        ],
        [
         "4",
         "2022-12-31 00:00:00",
         "4098.514741035857"
        ],
        [
         "5",
         "2023-12-31 00:00:00",
         "4003.57984375"
        ]
       ],
       "shape": {
        "columns": 2,
        "rows": 6
       }
      },
      "text/html": [
       "<div>\n",
       "<style scoped>\n",
       "    .dataframe tbody tr th:only-of-type {\n",
       "        vertical-align: middle;\n",
       "    }\n",
       "\n",
       "    .dataframe tbody tr th {\n",
       "        vertical-align: top;\n",
       "    }\n",
       "\n",
       "    .dataframe thead th {\n",
       "        text-align: right;\n",
       "    }\n",
       "</style>\n",
       "<table border=\"1\" class=\"dataframe\">\n",
       "  <thead>\n",
       "    <tr style=\"text-align: right;\">\n",
       "      <th></th>\n",
       "      <th>date</th>\n",
       "      <th>sp500_mean</th>\n",
       "    </tr>\n",
       "  </thead>\n",
       "  <tbody>\n",
       "    <tr>\n",
       "      <th>0</th>\n",
       "      <td>2018-12-31</td>\n",
       "      <td>2751.921862</td>\n",
       "    </tr>\n",
       "    <tr>\n",
       "      <th>1</th>\n",
       "      <td>2019-12-31</td>\n",
       "      <td>2913.360556</td>\n",
       "    </tr>\n",
       "    <tr>\n",
       "      <th>2</th>\n",
       "      <td>2020-12-31</td>\n",
       "      <td>3217.856482</td>\n",
       "    </tr>\n",
       "    <tr>\n",
       "      <th>3</th>\n",
       "      <td>2021-12-31</td>\n",
       "      <td>4273.406627</td>\n",
       "    </tr>\n",
       "    <tr>\n",
       "      <th>4</th>\n",
       "      <td>2022-12-31</td>\n",
       "      <td>4098.514741</td>\n",
       "    </tr>\n",
       "    <tr>\n",
       "      <th>5</th>\n",
       "      <td>2023-12-31</td>\n",
       "      <td>4003.579844</td>\n",
       "    </tr>\n",
       "  </tbody>\n",
       "</table>\n",
       "</div>"
      ],
      "text/plain": [
       "        date   sp500_mean\n",
       "0 2018-12-31  2751.921862\n",
       "1 2019-12-31  2913.360556\n",
       "2 2020-12-31  3217.856482\n",
       "3 2021-12-31  4273.406627\n",
       "4 2022-12-31  4098.514741\n",
       "5 2023-12-31  4003.579844"
      ]
     },
<<<<<<< HEAD
     "execution_count": 25,
=======
     "execution_count": 29,
>>>>>>> upstream/main
     "metadata": {},
     "output_type": "execute_result"
    }
   ],
   "source": [
    "financial.groupby(month_config).agg(sp500_mean = (\"sp500\",\"mean\")).reset_index()"
   ]
  },
  {
   "cell_type": "code",
   "execution_count": 30,
   "metadata": {},
   "outputs": [],
   "source": [
    "# Group on the period column\n",
    "# We use a wrapper () to split the command into multiple lines\n",
    "# The \".reset_index()\" option ensures that the grouper is\n",
    "# converted to a column. This is important for plotting.\n",
    "# There's a lot of options to \n",
    "\n",
    "monthlydata = (financial\n",
    "               .groupby(month_config) \n",
    "               .agg(sp500_mean = (\"sp500\",\"mean\"))\n",
    "               .reset_index())"
   ]
  },
  {
   "cell_type": "code",
   "execution_count": 31,
   "metadata": {},
   "outputs": [
    {
     "data": {
      "application/vnd.microsoft.datawrangler.viewer.v0+json": {
       "columns": [
        {
         "name": "index",
         "rawType": "int64",
         "type": "integer"
        },
        {
         "name": "date",
         "rawType": "datetime64[ns]",
         "type": "datetime"
        },
        {
         "name": "sp500_mean",
         "rawType": "float64",
         "type": "float"
        }
       ],
       "conversionMethod": "pd.DataFrame",
       "ref": "4227f3e2-28ce-42e8-ae06-8484283587bd",
       "rows": [
        [
         "0",
         "2018-12-31 00:00:00",
         "2751.9218617021274"
        ],
        [
         "1",
         "2019-12-31 00:00:00",
         "2913.3605555555555"
        ],
        [
         "2",
         "2020-12-31 00:00:00",
         "3217.8564822134385"
        ],
        [
         "3",
         "2021-12-31 00:00:00",
         "4273.406626984127"
        ],
        [
         "4",
         "2022-12-31 00:00:00",
         "4098.514741035857"
        ],
        [
         "5",
         "2023-12-31 00:00:00",
         "4003.57984375"
        ]
       ],
       "shape": {
        "columns": 2,
        "rows": 6
       }
      },
      "text/html": [
       "<div>\n",
       "<style scoped>\n",
       "    .dataframe tbody tr th:only-of-type {\n",
       "        vertical-align: middle;\n",
       "    }\n",
       "\n",
       "    .dataframe tbody tr th {\n",
       "        vertical-align: top;\n",
       "    }\n",
       "\n",
       "    .dataframe thead th {\n",
       "        text-align: right;\n",
       "    }\n",
       "</style>\n",
       "<table border=\"1\" class=\"dataframe\">\n",
       "  <thead>\n",
       "    <tr style=\"text-align: right;\">\n",
       "      <th></th>\n",
       "      <th>date</th>\n",
       "      <th>sp500_mean</th>\n",
       "    </tr>\n",
       "  </thead>\n",
       "  <tbody>\n",
       "    <tr>\n",
       "      <th>0</th>\n",
       "      <td>2018-12-31</td>\n",
       "      <td>2751.921862</td>\n",
       "    </tr>\n",
       "    <tr>\n",
       "      <th>1</th>\n",
       "      <td>2019-12-31</td>\n",
       "      <td>2913.360556</td>\n",
       "    </tr>\n",
       "    <tr>\n",
       "      <th>2</th>\n",
       "      <td>2020-12-31</td>\n",
       "      <td>3217.856482</td>\n",
       "    </tr>\n",
       "    <tr>\n",
       "      <th>3</th>\n",
       "      <td>2021-12-31</td>\n",
       "      <td>4273.406627</td>\n",
       "    </tr>\n",
       "    <tr>\n",
       "      <th>4</th>\n",
       "      <td>2022-12-31</td>\n",
       "      <td>4098.514741</td>\n",
       "    </tr>\n",
       "    <tr>\n",
       "      <th>5</th>\n",
       "      <td>2023-12-31</td>\n",
       "      <td>4003.579844</td>\n",
       "    </tr>\n",
       "  </tbody>\n",
       "</table>\n",
       "</div>"
      ],
      "text/plain": [
       "        date   sp500_mean\n",
       "0 2018-12-31  2751.921862\n",
       "1 2019-12-31  2913.360556\n",
       "2 2020-12-31  3217.856482\n",
       "3 2021-12-31  4273.406627\n",
       "4 2022-12-31  4098.514741\n",
       "5 2023-12-31  4003.579844"
      ]
     },
     "execution_count": 31,
     "metadata": {},
     "output_type": "execute_result"
    }
   ],
   "source": [
    "monthlydata"
   ]
  },
  {
   "attachments": {},
   "cell_type": "markdown",
   "metadata": {},
   "source": [
    "<font size = \"5\">\n",
    "\n",
    "Plot aggregate data"
   ]
  },
  {
   "cell_type": "code",
   "execution_count": 32,
   "metadata": {},
   "outputs": [
    {
     "data": {
      "text/plain": [
       "Text(0.5, 1.0, 'Monthly average stock market performance')"
      ]
     },
     "execution_count": 32,
     "metadata": {},
     "output_type": "execute_result"
    },
    {
     "data": {
      "image/png": "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",
      "text/plain": [
       "<Figure size 640x480 with 1 Axes>"
      ]
     },
     "metadata": {},
     "output_type": "display_data"
    }
   ],
   "source": [
    "plt.plot(\"date\",\"sp500_mean\",\n",
    "          data = monthlydata)\n",
    "plt.xlabel(\"Time\")\n",
    "plt.ylabel(\"S&P 500\")\n",
    "plt.title(\"Monthly average stock market performance\")"
   ]
  },
  {
   "attachments": {},
   "cell_type": "markdown",
   "metadata": {},
   "source": [
    "<font size = \"5\">\n",
    "\n",
    "Try it yourself!\n",
    "\n",
    "- Practice ```pd.to_datetime()```\n",
    "- Parse the column \"data_ex3\"\n",
    "- Take a close look at the formatting\n",
    "\n",
    "HINT: Refer to the table of wildcards <br>\n",
    " in the previous section\n"
   ]
  },
  {
   "cell_type": "code",
   "execution_count": null,
   "metadata": {},
   "outputs": [
    {
     "name": "stderr",
     "output_type": "stream",
     "text": [
      "/var/folders/xm/xbgcfs4j66zb19563qclrhp00000gn/T/ipykernel_19247/724176263.py:2: UserWarning: Could not infer format, so each element will be parsed individually, falling back to `dateutil`. To ensure parsing is consistent and as-expected, please specify a format.\n",
      "  financial[\"date_ex3_dt\"] = pd.to_datetime(financial[\"date_ex3\"])\n"
     ]
    }
   ],
   "source": [
    "# Write your own code\n",
    "financial[\"date_ex3_dt\"] = pd.to_datetime(financial[\"date_ex3\"])\n",
    "\n"
   ]
  },
  {
   "attachments": {},
   "cell_type": "markdown",
   "metadata": {},
   "source": [
    "<font size = \"5\">\n",
    "\n"
   ]
  },
  {
   "attachments": {},
   "cell_type": "markdown",
   "metadata": {},
   "source": [
    "<font size = \"5\">\n",
    "\n",
    "Try it yourself!\n",
    "\n",
    "- Compute an aggregate dataset which computes the standard <br>\n",
    "deviation of the S&P 500 at the weekly level.\n",
    "- Generate a line plot with your results\n"
   ]
  },
  {
   "cell_type": "code",
   "execution_count": null,
   "metadata": {},
   "outputs": [],
   "source": [
    "# Write your own code\n"
   ]
  },
  {
   "attachments": {},
   "cell_type": "markdown",
   "metadata": {},
   "source": [
    "# <span style=\"color:darkblue\"> IV. Additional Material </span>"
   ]
  },
  {
   "attachments": {},
   "cell_type": "markdown",
   "metadata": {},
   "source": [
    "<font size = \"5\">\n",
    "\n",
    "Full list of wild cards:\n",
    "\n",
    "- More fine-grained, e.g. microseconds, etc.\n",
    "- Other formats, e.g. time zone, \"AM/PM\", etc.\n",
    "\n",
    "https://www.w3schools.com/python/python_datetime.asp"
   ]
  }
 ],
 "metadata": {
  "kernelspec": {
   "display_name": "base",
   "language": "python",
   "name": "python3"
  },
  "language_info": {
   "codemirror_mode": {
    "name": "ipython",
    "version": 3
   },
   "file_extension": ".py",
   "mimetype": "text/x-python",
   "name": "python",
   "nbconvert_exporter": "python",
   "pygments_lexer": "ipython3",
   "version": "3.12.7"
  },
  "orig_nbformat": 4
 },
 "nbformat": 4,
 "nbformat_minor": 2
}
