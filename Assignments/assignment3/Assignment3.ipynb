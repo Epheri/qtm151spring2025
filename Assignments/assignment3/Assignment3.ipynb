{
 "cells": [
  {
   "attachments": {},
   "cell_type": "markdown",
   "metadata": {},
   "source": [
    "# Assignment 3"
   ]
  },
  {
   "attachments": {},
   "cell_type": "markdown",
   "metadata": {},
   "source": [
    "## Submit as an HTML file"
   ]
  },
  {
   "attachments": {},
   "cell_type": "markdown",
   "metadata": {},
   "source": [
    "<font size = \"5\">\n",
    "Print your Emory ID below"
   ]
  },
  {
   "cell_type": "code",
   "execution_count": null,
   "metadata": {},
   "outputs": [],
   "source": [
    "2698877"
   ]
  },
  {
   "attachments": {},
   "cell_type": "markdown",
   "metadata": {},
   "source": [
    "<font size = \"5\">\n",
    "\n",
    "Import the numpy and matplotlib packages"
   ]
  },
  {
   "cell_type": "code",
   "execution_count": 3,
   "metadata": {},
   "outputs": [],
   "source": [
    "import numpy as np\n",
    "import matplotlib.pyplot as plt"
   ]
  },
  {
   "attachments": {},
   "cell_type": "markdown",
   "metadata": {},
   "source": [
    "<font size = \"5\">\n",
    "\n",
    "(a) Compute a formula:\n",
    "\n",
    "<font size = \"3\">\n",
    "\n",
    "The formula for the volume of a cone is:\n",
    "\n",
    "<font size = \"4\">\n",
    "\n",
    "$V = \\frac{1}{3} \\pi r^2 h$\n",
    "\n",
    "<font size = \"3\">\n",
    "\n",
    "Where:\n",
    "\n",
    "- $V$ is the volume of the cone\n",
    "- $r$ is the radius of the base\n",
    "- $h$ is the height of the cone\n",
    "\n",
    "Calculate $V$ when:\n",
    "\n",
    "- $r = 5$\n",
    "- $h = 10$\n",
    "\n",
    "\n",
    "To get full points:\n",
    "- First define each of these variables\n",
    "- Write the formula above\n",
    "- Print out the result"
   ]
  },
  {
   "cell_type": "code",
   "execution_count": 4,
   "metadata": {},
   "outputs": [
    {
     "name": "stdout",
     "output_type": "stream",
     "text": [
      "261.79938779914943\n"
     ]
    }
   ],
   "source": [
    "r = 5\n",
    "h = 10\n",
    "print(1/3*(np.pi)*r**2*h)"
   ]
  },
  {
   "attachments": {},
   "cell_type": "markdown",
   "metadata": {},
   "source": [
    "<font size = \"5\">\n",
    "\n",
    "(b) Composite operations on arrays\n",
    "\n",
    "<font size = \"3\">\n",
    "\n",
    "- Define r = 0.1\n",
    "- Define x = 1\n",
    "- Define two arrays $A$ and $T$ using \"np.array()\", assigning the following values\n",
    "$ a = \\begin{pmatrix} a_1 \\\\ a_2 \\\\ a_3 \\end{pmatrix} = \\begin{pmatrix} 28 \\\\ 32 \\\\ 11 \\end{pmatrix}, \\qquad t = \\begin{pmatrix} t_1 \\\\ t_2 \\\\ t_3 \\end{pmatrix} = \\begin{pmatrix} 4 \\\\ 5 \\\\ 6 \\end{pmatrix} $\n",
    "\n",
    "- Use element-by-element vector operations to compute a new array $M$ of length 3:\n",
    "$ M = \\begin{pmatrix} a_1 \\cdot (1+r)^{t_1} + cos(x) \\\\ a_2 \\cdot (1+r)^{t_2} + cos(x) \\\\ a_3 \\cdot (1+r)^{t_3} + cos(x) \\end{pmatrix} $\n",
    "\n",
    "- Compute the sum of the values of $M$ using \"M.sum()\"\n",
    "Note: I am using subscripts to denote the individual elements of $a$ and $t$.\n",
    "\n",
    "- In the code just enter the values of $a$ and $t$.\n",
    "- To get full points you must do all of the above tasks\n"
   ]
  },
  {
   "cell_type": "code",
   "execution_count": 12,
   "metadata": {},
   "outputs": [
    {
     "data": {
      "text/plain": [
       "array([41.53510231, 52.07662231,  2.31186331])"
      ]
     },
     "execution_count": 12,
     "metadata": {},
     "output_type": "execute_result"
    }
   ],
   "source": [
    "r = 0.1\n",
    "x = 1\n",
    "vec_A = np.array([28,32,1])\n",
    "vec_T = np.array([4,5,6])\n",
    "vec_M = np.array(vec_A * (1+r)**vec_T + np.cos(x))\n",
    "\n",
    "vec_M"
   ]
  },
  {
   "attachments": {},
   "cell_type": "markdown",
   "metadata": {},
   "source": [
    "<font size = \"5\">\n",
    "\n",
    "(c) Plot a normal random variable\n",
    "<font size = \"3\">\n",
    "\n",
    "To get full points:\n",
    "\n",
    "- Set a seed using \"np.random.seed()\"\n",
    "- Create the random variable with the following parameters\n",
    "- mean = 233, standard deviation = 99, and size = 1314\n",
    "\n",
    "- Create a histogram\n",
    "- Label the axes"
   ]
  },
  {
   "cell_type": "code",
   "execution_count": 23,
   "metadata": {},
   "outputs": [
    {
     "data": {
      "text/plain": [
       "Text(0, 0.5, 'The number of sheep my family has')"
      ]
     },
     "execution_count": 23,
     "metadata": {},
     "output_type": "execute_result"
    },
    {
     "data": {
      "image/png": "[encoded data removed]",
      "text/plain": [
       "<Figure size 640x480 with 1 Axes>"
      ]
     },
     "metadata": {},
     "output_type": "display_data"
    }
   ],
   "source": [
    "np.random.seed(12345) \n",
    "randomvar_malia = np.random.normal(loc=233, scale=99, size=1314)\n",
    "plt.hist(x = randomvar_malia)\n",
    "plt.xlabel(\"Calc test grade\")\n",
    "plt.ylabel(\"The number of sheep my family has\")"
   ]
  },
  {
   "attachments": {},
   "cell_type": "markdown",
   "metadata": {},
   "source": [
    "<font size = \"5\">\n",
    "\n",
    "(d) Checking whether word is part of list\n",
    "\n",
    "<font size = \"3\">\n",
    "\n",
    "- Define a variable \"QSS\" with the value \"Statistics\"\n",
    "- Define a list of fruits with the values list_QSS = [\"Statistics\", \"CS\", \"Dara Science\", \"Math\"]\n",
    "- Write an expression to test whether \"QSS\" is contained in \"list_QSS\"\n",
    "\n",
    "Hint: Use the \"in\" command. The final output should be True/False.\n",
    "\n",
    "To get full points run all of the above commands"
   ]
  },
  {
   "cell_type": "code",
   "execution_count": 7,
   "metadata": {},
   "outputs": [
    {
     "name": "stdout",
     "output_type": "stream",
     "text": [
      "True\n"
     ]
    }
   ],
   "source": [
    "QSS = \"Statistics\"\n",
    "list_QSS = [\"Statistics\", \"CS\", \"Data Science\", \"Math\"]\n",
    "print(QSS in list_QSS)"
   ]
  },
  {
   "cell_type": "markdown",
   "metadata": {},
   "source": [
    "<font size = \"5\">\n",
    "\n",
    "(e) Classifying a variable\n",
    "\n",
    "<font size = \"3\">\n",
    "\n",
    "- Define a new variable \"film_score\" and assign it \"70\"\n",
    "- Write an if/else statement that does the following\n",
    "    - print(\"Box-office Success\") if the score is strictly above 80.\n",
    "    - print(\"Intermediate Range\") if the score is weakly less than 80 and strictly above 20.\n",
    "    - print(\"Box-office Failure\") if the score does not fit in the above categories.\n",
    "\n",
    "\n",
    "To get full points you must do all of the above instructions"
   ]
  },
  {
   "cell_type": "code",
   "execution_count": null,
   "metadata": {},
   "outputs": [],
   "source": []
  },
  {
   "cell_type": "code",
   "execution_count": 28,
   "metadata": {},
   "outputs": [
    {
     "name": "stdout",
     "output_type": "stream",
     "text": [
      "Intermediate Range\n"
     ]
    }
   ],
   "source": [
    "film_score = 70\n",
    "\n",
    "if film_score > 80:\n",
    "    print(\"Box-office Success\")\n",
    "elif film_score <= 80 and film_score > 20:\n",
    "    print(\"Intermediate Range\")\n",
    "else:\n",
    "    print(\"Box-office Failure\")"
   ]
  }
 ],
 "metadata": {
  "kernelspec": {
   "display_name": "base",
   "language": "python",
   "name": "python3"
  },
  "language_info": {
   "codemirror_mode": {
    "name": "ipython",
    "version": 3
   },
   "file_extension": ".py",
   "mimetype": "text/x-python",
   "name": "python",
   "nbconvert_exporter": "python",
   "pygments_lexer": "ipython3",
   "version": "3.12.7"
  },
  "orig_nbformat": 4
 },
 "nbformat": 4,
 "nbformat_minor": 2
}
