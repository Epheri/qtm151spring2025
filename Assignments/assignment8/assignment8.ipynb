{
 "cells": [
  {
   "attachments": {},
   "cell_type": "markdown",
   "metadata": {},
   "source": [
    "# <span style=\"color:darkblue\"> QTM 151 - Assignment 8 </span>"
   ]
  },
  {
   "attachments": {},
   "cell_type": "markdown",
   "metadata": {},
   "source": [
    "## Try to submit as an HTML file"
   ]
  },
  {
   "attachments": {},
   "cell_type": "markdown",
   "metadata": {},
   "source": [
    "\n",
    "\n",
    "### Print your name below"
   ]
  },
  {
   "cell_type": "code",
   "execution_count": 1,
   "metadata": {},
   "outputs": [
    {
     "name": "stdout",
     "output_type": "stream",
     "text": [
      "Malia Yap\n"
     ]
    }
   ],
   "source": [
    "print(\"Malia Yap\")\n"
   ]
  },
  {
   "attachments": {},
   "cell_type": "markdown",
   "metadata": {},
   "source": [
    "### Import the \"pandas\" library"
   ]
  },
  {
   "cell_type": "code",
   "execution_count": 2,
   "metadata": {},
   "outputs": [],
   "source": [
    "import pandas as pd"
   ]
  },
  {
   "attachments": {},
   "cell_type": "markdown",
   "metadata": {},
   "source": [
    "### You will need the material from Lecture 14 and 15 for this assignment."
   ]
  },
  {
   "cell_type": "markdown",
   "metadata": {},
   "source": [
    "\n",
    "\n",
    "### Import the dataset \"imdb_top_1000.csv\" and save it as \"movies.\" <br> \n",
    "This includes data on the top 1000 movies by IMDB rating."
   ]
  },
  {
   "cell_type": "code",
   "execution_count": 3,
   "metadata": {},
   "outputs": [],
   "source": [
    "# Write your answer here\n",
    "\n",
    "movies = pd.read_csv(\"/Users/maliayap/Desktop/qtm151spring2025/Assignments/assignment8/data_raw/imdb_top_1000.csv\")\n"
   ]
  },
  {
   "attachments": {},
   "cell_type": "markdown",
   "metadata": {},
   "source": [
    "### (a) Groupby + Aggregate Statistics\n",
    "\n",
    "Create a new dataset **\"movies_agg\"** by grouping the \"movies\" dataset by **\"Genre\"** and then computing <br>the following aggregate statistics for **\"IMDB_Rating\"**:\n",
    "\n",
    "- **Mean**\n",
    "- **Standard Deviation**\n",
    "- **Minimum**\n",
    "- **Maximum**\n",
    "\n",
    "Add a chain to sort by the mean IMDB rating in descending order.\n",
    "\n",
    "Display the resulting dataset **\"movies_agg\"**.\n",
    "\n"
   ]
  },
  {
   "cell_type": "code",
   "execution_count": 6,
   "metadata": {},
   "outputs": [
    {
     "name": "stdout",
     "output_type": "stream",
     "text": [
      "                            mean  standard_deviation  minimum  maximum\n",
      "Genre                                                                 \n",
      "Animation, Drama, War       8.50                 NaN      8.5      8.5\n",
      "Drama, Musical              8.40                 NaN      8.4      8.4\n",
      "Action, Sci-Fi              8.40            0.360555      8.0      8.7\n",
      "Drama, Mystery, War         8.35            0.070711      8.3      8.4\n",
      "Western                     8.35            0.420317      7.8      8.8\n",
      "...                          ...                 ...      ...      ...\n",
      "Adventure, Comedy, War      7.60                 NaN      7.6      7.6\n",
      "Animation, Comedy, Crime    7.60                 NaN      7.6      7.6\n",
      "Action, Adventure, Family   7.60                 NaN      7.6      7.6\n",
      "Animation, Drama, Romance   7.60                 NaN      7.6      7.6\n",
      "Action, Adventure, Mystery  7.60                 NaN      7.6      7.6\n",
      "\n",
      "[202 rows x 4 columns]\n"
     ]
    }
   ],
   "source": [
    "# Write your own code\n",
    "movies_agg = (movies.groupby(\"Genre\")\n",
    "              .agg(mean = ('IMDB_Rating', 'mean'),\n",
    "                   standard_deviation = ('IMDB_Rating', 'std'),\n",
    "                   minimum = ('IMDB_Rating', 'min'),\n",
    "                   maximum = ('IMDB_Rating', 'max'))\n",
    "              .sort_values(by = \"mean\", ascending = False))\n",
    "print(movies_agg)"
   ]
  },
  {
   "attachments": {},
   "cell_type": "markdown",
   "metadata": {},
   "source": [
    "### (b) Merge Data\n",
    "\n",
    "Create a new dataset **\"movies_merge\"** by merging the aggregate information <br> \n",
    "from (a) into \"movies\".\n",
    "\n",
    "Display the resulting dataset **\"movies_merge\"**.\n"
   ]
  },
  {
   "cell_type": "code",
   "execution_count": 9,
   "metadata": {},
   "outputs": [
    {
     "name": "stdout",
     "output_type": "stream",
     "text": [
      "                        Genre      mean  standard_deviation  minimum  maximum\n",
      "0                       Drama  7.975294            0.305468      7.6      9.3\n",
      "1                Crime, Drama  8.157692            0.448262      7.6      9.2\n",
      "2        Action, Crime, Drama  7.880000            0.316664      7.6      9.0\n",
      "3                Crime, Drama  8.157692            0.448262      7.6      9.2\n",
      "4                Crime, Drama  8.157692            0.448262      7.6      9.2\n",
      "..                        ...       ...                 ...      ...      ...\n",
      "995    Comedy, Drama, Romance  7.877419            0.257824      7.6      8.6\n",
      "996            Drama, Western  7.980000            0.363318      7.6      8.4\n",
      "997       Drama, Romance, War  8.025000            0.368556      7.6      8.5\n",
      "998                Drama, War  8.073333            0.276371      7.6      8.6\n",
      "999  Crime, Mystery, Thriller  8.133333            0.472582      7.6      8.5\n",
      "\n",
      "[1000 rows x 5 columns]\n"
     ]
    }
   ],
   "source": [
    "movies_merge = pd.merge(movies[\"Genre\"],\n",
    "                         movies_agg,\n",
    "                         on = \"Genre\",\n",
    "                         how = \"left\")\n",
    "\n",
    "print(movies_merge)\n"
   ]
  },
  {
   "attachments": {},
   "cell_type": "markdown",
   "metadata": {},
   "source": [
    "### (c) Rename Columns + Dictionaries\n",
    "\n",
    "Create a new dataset **\"movies_rename\"** by renaming the following columns in <br>the \"movies\" dataset using a dictionary:\n",
    "\n",
    "- \"Name\" --> **\"Movie_Title\"**\n",
    "- \"Length\" --> **\"Runtime\"**\n",
    "- \"Gross\" --> **\"Revenue\"**\n",
    "\n",
    "Verify that this renaming worked by printing the lists of the old (\"movies\") and new <br>(\"movies_rename\") column names."
   ]
  },
  {
   "cell_type": "code",
   "execution_count": null,
   "metadata": {},
   "outputs": [
    {
     "name": "stdout",
     "output_type": "stream",
     "text": [
      "['Name', 'Released_Year', 'Length', 'Genre', 'IMDB_Rating', 'Overview', 'Director', 'Star1', 'Star2', 'Gross']\n",
      "['Movie_Title', 'Released_Year', 'Runtime', 'Genre', 'IMDB_Rating', 'Overview', 'Director', 'Star1', 'Star2', 'Revenue']\n"
     ]
    }
   ],
   "source": [
    "\n",
    "movies_rename = movies.rename(columns={'Name':'Movie_Title','Length':'Runtime','Gross':'Revenue'})\n",
    "                              \n",
    "print(list(movies.columns))\n",
    "print(list(movies_rename.columns))"
   ]
  },
  {
   "attachments": {},
   "cell_type": "markdown",
   "metadata": {},
   "source": [
    "### (d) Split Data\n",
    "\n",
    "Use \".query()\" to split the \"movies_rename\" dataset from (c) into different parts:\n",
    "\n",
    "- Those directed by **Steven Spielberg**, saved to a dataset titled **\"movies_spielberg\"**\n",
    "- Those directed by **Christopher Nolan**, saved to a dataset titled **\"movies_nolan\"**\n"
   ]
  },
  {
   "cell_type": "code",
   "execution_count": 21,
   "metadata": {},
   "outputs": [],
   "source": [
    "# Write your own code\n",
    "\n",
    "movies_spielberg = movies_rename.query(\"Director == 'Steven Spielberg'\")\n",
    "movies_nolan = movies_rename.query(\"Director == 'Christopher Nolan'\")"
   ]
  },
  {
   "attachments": {},
   "cell_type": "markdown",
   "metadata": {},
   "source": [
    "### (e) Concatenate Data\n",
    "\n",
    "Concatenate the datasets you created in (d) to a new dataset titled **\"movies_concat\"**.\n",
    "\n",
    "Display the resulting dataset **\"movies_concat\"**."
   ]
  },
  {
   "cell_type": "code",
   "execution_count": 25,
   "metadata": {},
   "outputs": [
    {
     "name": "stdout",
     "output_type": "stream",
     "text": [
      "                            Movie_Title Released_Year  Runtime  \\\n",
      "7                      Schindler's List          1993  195 min   \n",
      "24                  Saving Private Ryan          1998  169 min   \n",
      "72              Raiders of the Lost Ark          1981  115 min   \n",
      "168  Indiana Jones and the Last Crusade          1989  127 min   \n",
      "243                 Catch Me If You Can          2002  141 min   \n",
      "262                       Jurassic Park          1993  127 min   \n",
      "415                                Jaws          1975  124 min   \n",
      "682                    The Color Purple          1985  154 min   \n",
      "688          E.T. the Extra-Terrestrial          1982  115 min   \n",
      "832                   Empire of the Sun          1987  153 min   \n",
      "890                     Bridge of Spies          2015  142 min   \n",
      "951                     Minority Report          2002  145 min   \n",
      "988  Close Encounters of the Third Kind          1977  138 min   \n",
      "2                       The Dark Knight          2008  152 min   \n",
      "8                             Inception          2010  148 min   \n",
      "21                         Interstellar          2014  169 min   \n",
      "36                         The Prestige          2006  130 min   \n",
      "63                The Dark Knight Rises          2012  164 min   \n",
      "69                              Memento          2000  113 min   \n",
      "155                       Batman Begins          2005  140 min   \n",
      "573                             Dunkirk          2017  106 min   \n",
      "\n",
      "                         Genre  IMDB_Rating  \\\n",
      "7    Biography, Drama, History          8.9   \n",
      "24                  Drama, War          8.6   \n",
      "72           Action, Adventure          8.4   \n",
      "168          Action, Adventure          8.2   \n",
      "243    Biography, Crime, Drama          8.1   \n",
      "262  Action, Adventure, Sci-Fi          8.1   \n",
      "415        Adventure, Thriller          8.0   \n",
      "682                      Drama          7.8   \n",
      "688             Family, Sci-Fi          7.8   \n",
      "832     Action, Drama, History          7.7   \n",
      "890   Drama, History, Thriller          7.6   \n",
      "951     Action, Crime, Mystery          7.6   \n",
      "988              Drama, Sci-Fi          7.6   \n",
      "2         Action, Crime, Drama          9.0   \n",
      "8    Action, Adventure, Sci-Fi          8.8   \n",
      "21    Adventure, Drama, Sci-Fi          8.6   \n",
      "36      Drama, Mystery, Sci-Fi          8.5   \n",
      "63           Action, Adventure          8.4   \n",
      "69           Mystery, Thriller          8.4   \n",
      "155          Action, Adventure          8.2   \n",
      "573     Action, Drama, History          7.8   \n",
      "\n",
      "                                              Overview           Director  \\\n",
      "7    In German-occupied Poland during World War II,...   Steven Spielberg   \n",
      "24   Following the Normandy Landings, a group of U....   Steven Spielberg   \n",
      "72   In 1936, archaeologist and adventurer Indiana ...   Steven Spielberg   \n",
      "168  In 1938, after his father Professor Henry Jone...   Steven Spielberg   \n",
      "243  Barely 21 yet, Frank is a skilled forger who h...   Steven Spielberg   \n",
      "262  A pragmatic paleontologist visiting an almost ...   Steven Spielberg   \n",
      "415  When a killer shark unleashes chaos on a beach...   Steven Spielberg   \n",
      "682  A black Southern woman struggles to find her i...   Steven Spielberg   \n",
      "688  A troubled child summons the courage to help a...   Steven Spielberg   \n",
      "832  A young English boy struggles to survive under...   Steven Spielberg   \n",
      "890  During the Cold War, an American lawyer is rec...   Steven Spielberg   \n",
      "951  In a future where a special police unit is abl...   Steven Spielberg   \n",
      "988  Roy Neary, an electric lineman, watches how hi...   Steven Spielberg   \n",
      "2    When the menace known as the Joker wreaks havo...  Christopher Nolan   \n",
      "8    A thief who steals corporate secrets through t...  Christopher Nolan   \n",
      "21   A team of explorers travel through a wormhole ...  Christopher Nolan   \n",
      "36   After a tragic accident, two stage magicians e...  Christopher Nolan   \n",
      "63   Eight years after the Joker's reign of anarchy...  Christopher Nolan   \n",
      "69   A man with short-term memory loss attempts to ...  Christopher Nolan   \n",
      "155  After training with his mentor, Batman begins ...  Christopher Nolan   \n",
      "573  Allied soldiers from Belgium, the British Empi...  Christopher Nolan   \n",
      "\n",
      "                   Star1                 Star2      Revenue  \n",
      "7            Liam Neeson         Ralph Fiennes   96,898,818  \n",
      "24             Tom Hanks            Matt Damon  216,540,909  \n",
      "72         Harrison Ford           Karen Allen  248,159,971  \n",
      "168        Harrison Ford          Sean Connery  197,171,806  \n",
      "243    Leonardo DiCaprio             Tom Hanks  164,615,351  \n",
      "262            Sam Neill            Laura Dern  402,453,882  \n",
      "415         Roy Scheider           Robert Shaw  260,000,000  \n",
      "682         Danny Glover       Whoopi Goldberg   98,467,863  \n",
      "688         Henry Thomas        Drew Barrymore  435,110,554  \n",
      "832       Christian Bale        John Malkovich   22,238,696  \n",
      "890            Tom Hanks          Mark Rylance   72,313,754  \n",
      "951           Tom Cruise         Colin Farrell  132,072,926  \n",
      "988     Richard Dreyfuss     François Truffaut  132,088,635  \n",
      "2         Christian Bale          Heath Ledger  534,858,444  \n",
      "8      Leonardo DiCaprio  Joseph Gordon-Levitt  292,576,195  \n",
      "21   Matthew McConaughey         Anne Hathaway  188,020,017  \n",
      "36        Christian Bale          Hugh Jackman   53,089,891  \n",
      "63        Christian Bale             Tom Hardy  448,139,099  \n",
      "69            Guy Pearce      Carrie-Anne Moss   25,544,867  \n",
      "155       Christian Bale         Michael Caine  206,852,432  \n",
      "573      Fionn Whitehead         Barry Keoghan  188,373,161  \n"
     ]
    }
   ],
   "source": [
    "# Write your own code\n",
    "\n",
    "movies_concat = pd.concat([movies_spielberg, movies_nolan])\n",
    "print(movies_concat)"
   ]
  }
 ],
 "metadata": {
  "kernelspec": {
   "display_name": "base",
   "language": "python",
   "name": "python3"
  },
  "language_info": {
   "codemirror_mode": {
    "name": "ipython",
    "version": 3
   },
   "file_extension": ".py",
   "mimetype": "text/x-python",
   "name": "python",
   "nbconvert_exporter": "python",
   "pygments_lexer": "ipython3",
   "version": "3.12.7"
  },
  "orig_nbformat": 4
 },
 "nbformat": 4,
 "nbformat_minor": 2
}
