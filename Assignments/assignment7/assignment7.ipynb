{
 "cells": [
  {
   "cell_type": "markdown",
   "metadata": {},
   "source": [
    "# Assignment 7"
   ]
  },
  {
   "cell_type": "markdown",
   "metadata": {},
   "source": [
    "## Submit as an HTML file"
   ]
  },
  {
   "cell_type": "markdown",
   "metadata": {},
   "source": [
    "### Print your name below"
   ]
  },
  {
   "cell_type": "code",
   "execution_count": 30,
   "metadata": {},
   "outputs": [
    {
     "name": "stdout",
     "output_type": "stream",
     "text": [
      "Malia Yap\n"
     ]
    }
   ],
   "source": [
    "print(\"Malia Yap\")"
   ]
  },
  {
   "cell_type": "markdown",
   "metadata": {},
   "source": [
    "### Import the \"pandas\" \"numpy\" and \"statsmodels.formula.api\" libraries"
   ]
  },
  {
   "cell_type": "code",
   "execution_count": 3,
   "metadata": {},
   "outputs": [],
   "source": [
    "# Write your answer here:\n",
    "\n",
    "import pandas as pd\n",
    "import numpy as np\n",
    "import statsmodels.formula.api as smf"
   ]
  },
  {
   "cell_type": "markdown",
   "metadata": {},
   "source": [
    "#### In the code chunk below read the CSV file named `results.csv` in the `data` <br> folder and print the first 5 rows of the dataset. Browse the dataset."
   ]
  },
  {
   "cell_type": "code",
   "execution_count": 48,
   "metadata": {},
   "outputs": [],
   "source": [
    "results = pd.read_csv(\"/Users/maliayap/Desktop/qtm151spring2025/Assignments/assignment7/data/results.csv\")"
   ]
  },
  {
   "cell_type": "markdown",
   "metadata": {},
   "source": [
    "### (a)  Check Column Types and Data Cleaning\n",
    "\n",
    "- Use the function .dtypes to get the column types\n",
    "- Identify which columns have data types that might need conversion\n",
    "- The 'milliseconds' column contains string values that should be numeric. Create a new column called 'race_time_ms' that:\n",
    "    - Converts the column to a numeric data type\n",
    "    - Replaces any non-numeric values with NaN"
   ]
  },
  {
   "cell_type": "code",
   "execution_count": 55,
   "metadata": {},
   "outputs": [
    {
     "name": "stdout",
     "output_type": "stream",
     "text": [
      "resultId             int64\n",
      "raceId               int64\n",
      "driverId             int64\n",
      "constructorId        int64\n",
      "number              object\n",
      "grid                 int64\n",
      "position            object\n",
      "positionText        object\n",
      "positionOrder        int64\n",
      "points             float64\n",
      "laps                 int64\n",
      "time                object\n",
      "milliseconds        object\n",
      "fastestLap          object\n",
      "rank                object\n",
      "fastestLapTime      object\n",
      "fastestLapSpeed     object\n",
      "statusId             int64\n",
      "race_time_ms       float64\n",
      "dtype: object\n"
     ]
    }
   ],
   "source": [
    "# Write your answer here\n",
    "print(results.dtypes)\n",
    "\n",
    "list_old = ['\\\\N']\n",
    "list_new = [np.nan]\n",
    "\n",
    "results[\"milliseconds\"] = results[\"milliseconds\"].replace(list_old, list_new)\n",
    "results[\"race_time_ms\"] = pd.to_numeric(results[\"milliseconds\"])\n"
   ]
  },
  {
   "cell_type": "markdown",
   "metadata": {},
   "source": [
    "### (b) Create Categorical Variables\n",
    "\n",
    "- Create a new column called 'finish_category' that categorizes the race finish positions as follows:\n",
    "    - Positions 1-3: 'Podium'\n",
    "    - Positions 4-10: 'Points'\n",
    "    - Positions 11-20: 'Midfield'\n",
    "    - Positions >20: 'Backmarker'\n",
    "\n",
    "Hint: Use the pd.cut() function"
   ]
  },
  {
   "cell_type": "code",
   "execution_count": 31,
   "metadata": {},
   "outputs": [],
   "source": [
    "list_old = ['\\\\N']\n",
    "list_new = [np.nan]\n",
    "\n",
    "results[\"position\"] = results[\"position\"].replace(list_old, list_new)\n",
    "results[\"position\"] = pd.to_numeric(results[\"position\"])\n",
    "\n",
    "bins_x = [1,3, 10, 20, 500]\n",
    "labels_x = [\"Podium\",\n",
    "            \"Points\",\n",
    "            \"Midfield\",\n",
    "            \"Backmarker\",]\n",
    "\n",
    "results[\"finish_category\"] = pd.cut(results[\"position\"],\n",
    "                              bins = bins_x,\n",
    "                              right = True,\n",
    "                              labels = labels_x)\n"
   ]
  },
  {
   "cell_type": "markdown",
   "metadata": {},
   "source": [
    "### (c) Calculate Race Duration\n",
    "- For rows where 'milliseconds' is available, create a new column <br>\n",
    "'race_duration_minutes' that converts milliseconds to minutes by dividing <br>\n",
    "by (1000*60).\n",
    "- Display the average race duration by 'constructorId' for the top 5 <br>\n",
    "constructors with the shortest average race times"
   ]
  },
  {
   "cell_type": "code",
   "execution_count": 34,
   "metadata": {},
   "outputs": [
    {
     "name": "stdout",
     "output_type": "stream",
     "text": [
      "constructorId\n",
      "1     97.461541\n",
      "2     94.119229\n",
      "3     96.770410\n",
      "4     95.154676\n",
      "5    102.491413\n",
      "Name: race_duration_minutes, dtype: float64\n"
     ]
    }
   ],
   "source": [
    "# Write your answer here\n",
    "results[\"milliseconds\"] = pd.to_numeric(results[\"milliseconds\"])\n",
    "results[\"race_duration_minutes\"] = results[\"milliseconds\"] / (1000 * 60)\n",
    "\n",
    "avg_race_duration = results.groupby(\"constructorId\")[\"race_duration_minutes\"].mean()\n",
    "print(avg_race_duration[0:5])"
   ]
  },
  {
   "cell_type": "markdown",
   "metadata": {},
   "source": [
    "### (d) Driver Performance Analysis\n",
    "\n",
    "- Calculate the following statistics for each driver, grouped by 'driverId':\n",
    "    - Average finishing position\n",
    "    - Total points\n",
    "    - Number of races completed\n",
    "    - Best finishing position\n",
    "\n",
    "- Sort the results by total points in descending order\n",
    "- Display the top 10 drivers based on total points"
   ]
  },
  {
   "cell_type": "code",
   "execution_count": 41,
   "metadata": {},
   "outputs": [
    {
     "data": {
      "application/vnd.microsoft.datawrangler.viewer.v0+json": {
       "columns": [
        {
         "name": "driverId",
         "rawType": "int64",
         "type": "integer"
        },
        {
         "name": "mean_position",
         "rawType": "float64",
         "type": "float"
        },
        {
         "name": "total_points",
         "rawType": "float64",
         "type": "float"
        },
        {
         "name": "number_races",
         "rawType": "int64",
         "type": "integer"
        },
        {
         "name": "best_position",
         "rawType": "float64",
         "type": "float"
        }
       ],
       "conversionMethod": "pd.DataFrame",
       "ref": "7b88ab28-7145-494c-bef4-290379cef323",
       "rows": [
        [
         "1",
         "3.3838028169014085",
         "4396.5",
         "310",
         "1.0"
        ],
        [
         "2",
         "8.355072463768115",
         "259.0",
         "184",
         "2.0"
        ],
        [
         "3",
         "6.3559322033898304",
         "1594.5",
         "206",
         "1.0"
        ],
        [
         "4",
         "6.257731958762887",
         "2061.0",
         "358",
         "1.0"
        ],
        [
         "5",
         "11.835164835164836",
         "105.0",
         "112",
         "1.0"
        ],
        [
         "6",
         "12.2",
         "9.0",
         "36",
         "6.0"
        ],
        [
         "7",
         "12.25",
         "6.0",
         "27",
         "7.0"
        ],
        [
         "8",
         "6.23859649122807",
         "1873.0",
         "352",
         "1.0"
        ],
        [
         "9",
         "9.411764705882353",
         "274.0",
         "99",
         "1.0"
        ],
        [
         "10",
         "13.77027027027027",
         "51.0",
         "95",
         "2.0"
        ],
        [
         "11",
         "11.576271186440678",
         "44.0",
         "91",
         "3.0"
        ],
        [
         "12",
         "10.470588235294118",
         "19.0",
         "28",
         "2.0"
        ],
        [
         "13",
         "7.2663755458515285",
         "1167.0",
         "271",
         "1.0"
        ],
        [
         "14",
         "5.828402366863905",
         "535.0",
         "247",
         "1.0"
        ],
        [
         "15",
         "9.470588235294118",
         "246.5",
         "256",
         "1.0"
        ],
        [
         "16",
         "12.47191011235955",
         "124.0",
         "128",
         "4.0"
        ],
        [
         "17",
         "6.6",
         "1047.5",
         "217",
         "1.0"
        ],
        [
         "18",
         "7.409090909090909",
         "1235.0",
         "309",
         "1.0"
        ],
        [
         "19",
         "14.285714285714286",
         "0.0",
         "24",
         "11.0"
        ],
        [
         "20",
         "5.282442748091603",
         "3098.0",
         "300",
         "1.0"
        ],
        [
         "21",
         "8.228395061728396",
         "275.0",
         "231",
         "1.0"
        ],
        [
         "22",
         "7.056768558951965",
         "658.0",
         "326",
         "1.0"
        ],
        [
         "23",
         "6.254098360655738",
         "329.0",
         "180",
         "1.0"
        ],
        [
         "24",
         "13.818181818181818",
         "26.0",
         "81",
         "6.0"
        ],
        [
         "25",
         "8.319148936170214",
         "45.0",
         "69",
         "3.0"
        ],
        [
         "26",
         "12.294117647058824",
         "0.0",
         "28",
         "9.0"
        ],
        [
         "27",
         "14.0",
         "4.0",
         "46",
         "5.0"
        ],
        [
         "28",
         null,
         "0.0",
         "1",
         null
        ],
        [
         "29",
         "17.428571428571427",
         "0.0",
         "21",
         "12.0"
        ],
        [
         "30",
         "3.7012448132780085",
         "1566.0",
         "308",
         "1.0"
        ],
        [
         "31",
         "4.209677419354839",
         "307.0",
         "95",
         "1.0"
        ],
        [
         "32",
         "11.228571428571428",
         "14.0",
         "51",
         "5.0"
        ],
        [
         "33",
         "13.344827586206897",
         "7.0",
         "37",
         "3.0"
        ],
        [
         "34",
         "13.0",
         "0.0",
         "4",
         "13.0"
        ],
        [
         "35",
         "7.046296296296297",
         "235.0",
         "165",
         "1.0"
        ],
        [
         "36",
         "16.666666666666668",
         "0.0",
         "7",
         "16.0"
        ],
        [
         "37",
         "12.339285714285714",
         "35.0",
         "107",
         "2.0"
        ],
        [
         "38",
         "14.11111111111111",
         "0.0",
         "11",
         "12.0"
        ],
        [
         "39",
         "17.181818181818183",
         "5.0",
         "48",
         "4.0"
        ],
        [
         "40",
         "14.4",
         "3.0",
         "11",
         "6.0"
        ],
        [
         "41",
         "9.894736842105264",
         "3.0",
         "38",
         "6.0"
        ],
        [
         "42",
         "9.909090909090908",
         "8.0",
         "20",
         "7.0"
        ],
        [
         "43",
         "9.85",
         "13.0",
         "28",
         "6.0"
        ],
        [
         "44",
         "8.727272727272727",
         "76.0",
         "158",
         "1.0"
        ],
        [
         "45",
         "14.666666666666666",
         "0.0",
         "14",
         "13.0"
        ],
        [
         "46",
         "15.88888888888889",
         "0.0",
         "18",
         "14.0"
        ],
        [
         "47",
         "13.5",
         "1.0",
         "20",
         "8.0"
        ],
        [
         "48",
         "11.347826086956522",
         "5.0",
         "36",
         "5.0"
        ],
        [
         "49",
         "6.520833333333333",
         "174.0",
         "159",
         "1.0"
        ],
        [
         "50",
         "10.53061224489796",
         "17.0",
         "107",
         "3.0"
        ]
       ],
       "shape": {
        "columns": 4,
        "rows": 855
       }
      },
      "text/html": [
       "<div>\n",
       "<style scoped>\n",
       "    .dataframe tbody tr th:only-of-type {\n",
       "        vertical-align: middle;\n",
       "    }\n",
       "\n",
       "    .dataframe tbody tr th {\n",
       "        vertical-align: top;\n",
       "    }\n",
       "\n",
       "    .dataframe thead th {\n",
       "        text-align: right;\n",
       "    }\n",
       "</style>\n",
       "<table border=\"1\" class=\"dataframe\">\n",
       "  <thead>\n",
       "    <tr style=\"text-align: right;\">\n",
       "      <th></th>\n",
       "      <th>mean_position</th>\n",
       "      <th>total_points</th>\n",
       "      <th>number_races</th>\n",
       "      <th>best_position</th>\n",
       "    </tr>\n",
       "    <tr>\n",
       "      <th>driverId</th>\n",
       "      <th></th>\n",
       "      <th></th>\n",
       "      <th></th>\n",
       "      <th></th>\n",
       "    </tr>\n",
       "  </thead>\n",
       "  <tbody>\n",
       "    <tr>\n",
       "      <th>1</th>\n",
       "      <td>3.383803</td>\n",
       "      <td>4396.5</td>\n",
       "      <td>310</td>\n",
       "      <td>1.0</td>\n",
       "    </tr>\n",
       "    <tr>\n",
       "      <th>2</th>\n",
       "      <td>8.355072</td>\n",
       "      <td>259.0</td>\n",
       "      <td>184</td>\n",
       "      <td>2.0</td>\n",
       "    </tr>\n",
       "    <tr>\n",
       "      <th>3</th>\n",
       "      <td>6.355932</td>\n",
       "      <td>1594.5</td>\n",
       "      <td>206</td>\n",
       "      <td>1.0</td>\n",
       "    </tr>\n",
       "    <tr>\n",
       "      <th>4</th>\n",
       "      <td>6.257732</td>\n",
       "      <td>2061.0</td>\n",
       "      <td>358</td>\n",
       "      <td>1.0</td>\n",
       "    </tr>\n",
       "    <tr>\n",
       "      <th>5</th>\n",
       "      <td>11.835165</td>\n",
       "      <td>105.0</td>\n",
       "      <td>112</td>\n",
       "      <td>1.0</td>\n",
       "    </tr>\n",
       "    <tr>\n",
       "      <th>...</th>\n",
       "      <td>...</td>\n",
       "      <td>...</td>\n",
       "      <td>...</td>\n",
       "      <td>...</td>\n",
       "    </tr>\n",
       "    <tr>\n",
       "      <th>852</th>\n",
       "      <td>12.352941</td>\n",
       "      <td>44.0</td>\n",
       "      <td>44</td>\n",
       "      <td>4.0</td>\n",
       "    </tr>\n",
       "    <tr>\n",
       "      <th>853</th>\n",
       "      <td>17.812500</td>\n",
       "      <td>0.0</td>\n",
       "      <td>22</td>\n",
       "      <td>14.0</td>\n",
       "    </tr>\n",
       "    <tr>\n",
       "      <th>854</th>\n",
       "      <td>15.052632</td>\n",
       "      <td>12.0</td>\n",
       "      <td>44</td>\n",
       "      <td>6.0</td>\n",
       "    </tr>\n",
       "    <tr>\n",
       "      <th>855</th>\n",
       "      <td>12.882353</td>\n",
       "      <td>6.0</td>\n",
       "      <td>22</td>\n",
       "      <td>8.0</td>\n",
       "    </tr>\n",
       "    <tr>\n",
       "      <th>856</th>\n",
       "      <td>9.000000</td>\n",
       "      <td>2.0</td>\n",
       "      <td>1</td>\n",
       "      <td>9.0</td>\n",
       "    </tr>\n",
       "  </tbody>\n",
       "</table>\n",
       "<p>855 rows × 4 columns</p>\n",
       "</div>"
      ],
      "text/plain": [
       "          mean_position  total_points  number_races  best_position\n",
       "driverId                                                          \n",
       "1              3.383803        4396.5           310            1.0\n",
       "2              8.355072         259.0           184            2.0\n",
       "3              6.355932        1594.5           206            1.0\n",
       "4              6.257732        2061.0           358            1.0\n",
       "5             11.835165         105.0           112            1.0\n",
       "...                 ...           ...           ...            ...\n",
       "852           12.352941          44.0            44            4.0\n",
       "853           17.812500           0.0            22           14.0\n",
       "854           15.052632          12.0            44            6.0\n",
       "855           12.882353           6.0            22            8.0\n",
       "856            9.000000           2.0             1            9.0\n",
       "\n",
       "[855 rows x 4 columns]"
      ]
     },
     "metadata": {},
     "output_type": "display_data"
    },
    {
     "name": "stdout",
     "output_type": "stream",
     "text": [
      "          mean_position  total_points  number_races  best_position\n",
      "driverId                                                          \n",
      "1              3.383803        4396.5           310            1.0\n",
      "20             5.282443        3098.0           300            1.0\n",
      "4              6.257732        2061.0           358            1.0\n",
      "830            4.022388        1983.5           163            1.0\n",
      "8              6.238596        1873.0           352            1.0\n",
      "822            6.296089        1778.0           201            1.0\n",
      "3              6.355932        1594.5           206            1.0\n",
      "30             3.701245        1566.0           308            1.0\n",
      "817            8.261538        1307.0           232            1.0\n",
      "18             7.409091        1235.0           309            1.0\n"
     ]
    }
   ],
   "source": [
    "# Write your answer here\n",
    "\n",
    "\n",
    "results_agg = results.groupby(\"driverId\").agg(\n",
    "                            mean_position = ('position','mean'),\n",
    "                          total_points = ('points','sum'),\n",
    "                          number_races = (\"number\", \"size\"),\n",
    "                          best_position = (\"position\", \"min\")\n",
    ")\n",
    "\n",
    "display(results_agg)\n",
    "\n",
    "sorted_driver_stats = results_agg.sort_values(by='total_points', ascending=False)\n",
    "top10 = sorted_driver_stats.head(10)\n",
    "print(top10)\n"
   ]
  },
  {
   "cell_type": "markdown",
   "metadata": {},
   "source": [
    "### (e) Linear Regression\n",
    "Create a linear regression model that predicts 'points' based on 'grid' (starting position) and 'laps' completed <br>\n",
    "Use the following steps:\n",
    "\n",
    "- Clean the data to remove any non-numeric values and missing values\n",
    "- Create the regression formula using smf.ols \n",
    "- Display the summary of the regression model using model.summary()\n",
    "\n",
    "What is the predicted points for a driver starting in position 3 and completing 55 laps?\n",
    "\n",
    "Hint: Use ```.dropna()''' to remove missing values from the points, grid, and laps <br>\n",
    "variables."
   ]
  },
  {
   "cell_type": "code",
   "execution_count": 53,
   "metadata": {},
   "outputs": [
    {
     "name": "stdout",
     "output_type": "stream",
     "text": [
      "                            OLS Regression Results                            \n",
      "==============================================================================\n",
      "Dep. Variable:                 points   R-squared:                       0.215\n",
      "Model:                            OLS   Adj. R-squared:                  0.215\n",
      "Method:                 Least Squares   F-statistic:                     3530.\n",
      "Date:                Mon, 24 Mar 2025   Prob (F-statistic):               0.00\n",
      "Time:                        13:26:37   Log-Likelihood:                -70440.\n",
      "No. Observations:               25840   AIC:                         1.409e+05\n",
      "Df Residuals:                   25837   BIC:                         1.409e+05\n",
      "Df Model:                           2                                         \n",
      "Covariance Type:            nonrobust                                         \n",
      "==============================================================================\n",
      "                 coef    std err          t      P>|t|      [0.025      0.975]\n",
      "------------------------------------------------------------------------------\n",
      "Intercept      2.5841      0.054     48.267      0.000       2.479       2.689\n",
      "grid          -0.2248      0.003    -70.621      0.000      -0.231      -0.219\n",
      "laps           0.0393      0.001     50.779      0.000       0.038       0.041\n",
      "==============================================================================\n",
      "Omnibus:                    15818.159   Durbin-Watson:                   0.715\n",
      "Prob(Omnibus):                  0.000   Jarque-Bera (JB):           183648.109\n",
      "Skew:                           2.804   Prob(JB):                         0.00\n",
      "Kurtosis:                      14.795   Cond. No.                         130.\n",
      "==============================================================================\n",
      "\n",
      "Notes:\n",
      "[1] Standard Errors assume that the covariance matrix of the errors is correctly specified.\n",
      "0    4.070063\n",
      "dtype: float64\n"
     ]
    }
   ],
   "source": [
    "# Write your answer here\n",
    "\n",
    "results[\"grid\"] = pd.to_numeric(results[\"grid\"])\n",
    "results['laps'] = pd.to_numeric(results[\"laps\"])\n",
    "results = results.dropna()\n",
    "\n",
    "\n",
    "model = smf.ols('points ~ grid + laps', data = results)\n",
    "results_model = model.fit()\n",
    "\n",
    "print(results_model.summary())\n",
    "\n",
    "predicted_points = results_model.predict({'grid': [3], 'laps': [55]})\n",
    "\n",
    "print(predicted_points)\n",
    "\n"
   ]
  }
 ],
 "metadata": {
  "kernelspec": {
   "display_name": "base",
   "language": "python",
   "name": "python3"
  },
  "language_info": {
   "codemirror_mode": {
    "name": "ipython",
    "version": 3
   },
   "file_extension": ".py",
   "mimetype": "text/x-python",
   "name": "python",
   "nbconvert_exporter": "python",
   "pygments_lexer": "ipython3",
   "version": "3.12.7"
  }
 },
 "nbformat": 4,
 "nbformat_minor": 2
}
